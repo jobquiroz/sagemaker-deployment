{
 "cells": [
  {
   "cell_type": "markdown",
   "metadata": {},
   "source": [
    "# Sentiment Analysis Web App\n",
    "\n",
    "_Deep Learning Nanodegree Program | Deployment_\n",
    "\n",
    "---\n",
    "\n",
    "In this notebook we will use Amazon's SageMaker service to construct a random tree model to predict the sentiment of a movie review. In addition, we will deploy this model to an endpoint and construct a very simple web app which will interact with our model's deployed endpoint.\n",
    "\n",
    "## General Outline\n",
    "\n",
    "Typically, when using a notebook instance with SageMaker, you will proceed through the following steps. Of course, not every step will need to be done with each project. Also, there is quite a lot of room for variation in many of the steps, as you will see throughout these lessons.\n",
    "\n",
    "1. Download or otherwise retrieve the data.\n",
    "2. Process / Prepare the data.\n",
    "3. Upload the processed data to S3.\n",
    "4. Train a chosen model.\n",
    "5. Test the trained model (typically using a batch transform job).\n",
    "6. Deploy the trained model.\n",
    "7. Use the deployed model.\n",
    "\n",
    "In this notebook we will progress through each of the steps above. We will also see that the final step, using the deployed model, can be quite challenging."
   ]
  },
  {
   "cell_type": "code",
   "execution_count": 1,
   "metadata": {},
   "outputs": [
    {
     "name": "stdout",
     "output_type": "stream",
     "text": [
      "Collecting sagemaker==1.72.0\n",
      "  Downloading sagemaker-1.72.0.tar.gz (297 kB)\n",
      "\u001b[K     |████████████████████████████████| 297 kB 13.0 MB/s eta 0:00:01\n",
      "\u001b[?25hRequirement already satisfied: boto3>=1.14.12 in /home/ec2-user/anaconda3/envs/python3/lib/python3.6/site-packages (from sagemaker==1.72.0) (1.16.37)\n",
      "Requirement already satisfied: numpy>=1.9.0 in /home/ec2-user/anaconda3/envs/python3/lib/python3.6/site-packages (from sagemaker==1.72.0) (1.19.4)\n",
      "Requirement already satisfied: protobuf>=3.1 in /home/ec2-user/anaconda3/envs/python3/lib/python3.6/site-packages (from sagemaker==1.72.0) (3.14.0)\n",
      "Requirement already satisfied: scipy>=0.19.0 in /home/ec2-user/anaconda3/envs/python3/lib/python3.6/site-packages (from sagemaker==1.72.0) (1.4.1)\n",
      "Requirement already satisfied: protobuf3-to-dict>=0.1.5 in /home/ec2-user/anaconda3/envs/python3/lib/python3.6/site-packages (from sagemaker==1.72.0) (0.1.5)\n",
      "Requirement already satisfied: importlib-metadata>=1.4.0 in /home/ec2-user/anaconda3/envs/python3/lib/python3.6/site-packages (from sagemaker==1.72.0) (3.1.0)\n",
      "Requirement already satisfied: packaging>=20.0 in /home/ec2-user/anaconda3/envs/python3/lib/python3.6/site-packages (from sagemaker==1.72.0) (20.7)\n",
      "Requirement already satisfied: s3transfer<0.4.0,>=0.3.0 in /home/ec2-user/anaconda3/envs/python3/lib/python3.6/site-packages (from boto3>=1.14.12->sagemaker==1.72.0) (0.3.3)\n",
      "Requirement already satisfied: jmespath<1.0.0,>=0.7.1 in /home/ec2-user/anaconda3/envs/python3/lib/python3.6/site-packages (from boto3>=1.14.12->sagemaker==1.72.0) (0.10.0)\n",
      "Requirement already satisfied: botocore<1.20.0,>=1.19.37 in /home/ec2-user/anaconda3/envs/python3/lib/python3.6/site-packages (from boto3>=1.14.12->sagemaker==1.72.0) (1.19.37)\n",
      "Requirement already satisfied: jmespath<1.0.0,>=0.7.1 in /home/ec2-user/anaconda3/envs/python3/lib/python3.6/site-packages (from boto3>=1.14.12->sagemaker==1.72.0) (0.10.0)\n",
      "Requirement already satisfied: urllib3<1.27,>=1.25.4 in /home/ec2-user/anaconda3/envs/python3/lib/python3.6/site-packages (from botocore<1.20.0,>=1.19.37->boto3>=1.14.12->sagemaker==1.72.0) (1.25.11)\n",
      "Requirement already satisfied: python-dateutil<3.0.0,>=2.1 in /home/ec2-user/anaconda3/envs/python3/lib/python3.6/site-packages (from botocore<1.20.0,>=1.19.37->boto3>=1.14.12->sagemaker==1.72.0) (2.8.1)\n",
      "Requirement already satisfied: zipp>=0.5 in /home/ec2-user/anaconda3/envs/python3/lib/python3.6/site-packages (from importlib-metadata>=1.4.0->sagemaker==1.72.0) (3.4.0)\n",
      "Requirement already satisfied: pyparsing>=2.0.2 in /home/ec2-user/anaconda3/envs/python3/lib/python3.6/site-packages (from packaging>=20.0->sagemaker==1.72.0) (2.4.7)\n",
      "Requirement already satisfied: six>=1.9 in /home/ec2-user/anaconda3/envs/python3/lib/python3.6/site-packages (from protobuf>=3.1->sagemaker==1.72.0) (1.15.0)\n",
      "Requirement already satisfied: six>=1.9 in /home/ec2-user/anaconda3/envs/python3/lib/python3.6/site-packages (from protobuf>=3.1->sagemaker==1.72.0) (1.15.0)\n",
      "Requirement already satisfied: protobuf>=3.1 in /home/ec2-user/anaconda3/envs/python3/lib/python3.6/site-packages (from sagemaker==1.72.0) (3.14.0)\n",
      "Requirement already satisfied: six>=1.9 in /home/ec2-user/anaconda3/envs/python3/lib/python3.6/site-packages (from protobuf>=3.1->sagemaker==1.72.0) (1.15.0)\n",
      "Requirement already satisfied: botocore<1.20.0,>=1.19.37 in /home/ec2-user/anaconda3/envs/python3/lib/python3.6/site-packages (from boto3>=1.14.12->sagemaker==1.72.0) (1.19.37)\n",
      "Requirement already satisfied: numpy>=1.9.0 in /home/ec2-user/anaconda3/envs/python3/lib/python3.6/site-packages (from sagemaker==1.72.0) (1.19.4)\n",
      "Collecting smdebug-rulesconfig==0.1.4\n",
      "  Downloading smdebug_rulesconfig-0.1.4-py2.py3-none-any.whl (10 kB)\n",
      "Building wheels for collected packages: sagemaker\n",
      "  Building wheel for sagemaker (setup.py) ... \u001b[?25ldone\n",
      "\u001b[?25h  Created wheel for sagemaker: filename=sagemaker-1.72.0-py2.py3-none-any.whl size=386358 sha256=07d30094ee6eda7fad456622f1c23f6520bc407dc0939ed6e3fc1ee16b244b9f\n",
      "  Stored in directory: /home/ec2-user/.cache/pip/wheels/c3/58/70/85faf4437568bfaa4c419937569ba1fe54d44c5db42406bbd7\n",
      "Successfully built sagemaker\n",
      "Installing collected packages: smdebug-rulesconfig, sagemaker\n",
      "  Attempting uninstall: smdebug-rulesconfig\n",
      "    Found existing installation: smdebug-rulesconfig 1.0.0\n",
      "    Uninstalling smdebug-rulesconfig-1.0.0:\n",
      "      Successfully uninstalled smdebug-rulesconfig-1.0.0\n",
      "  Attempting uninstall: sagemaker\n",
      "    Found existing installation: sagemaker 2.19.0\n",
      "    Uninstalling sagemaker-2.19.0:\n",
      "      Successfully uninstalled sagemaker-2.19.0\n",
      "Successfully installed sagemaker-1.72.0 smdebug-rulesconfig-0.1.4\n",
      "\u001b[33mWARNING: You are using pip version 20.3; however, version 20.3.3 is available.\n",
      "You should consider upgrading via the '/home/ec2-user/anaconda3/envs/python3/bin/python -m pip install --upgrade pip' command.\u001b[0m\n"
     ]
    }
   ],
   "source": [
    "# Make sure that we use SageMaker 1.x\n",
    "!pip install sagemaker==1.72.0"
   ]
  },
  {
   "cell_type": "markdown",
   "metadata": {},
   "source": [
    "## Step 1: Downloading the data\n",
    "\n",
    "The dataset we are going to use is very popular among researchers in Natural Language Processing, usually referred to as the [IMDb dataset](http://ai.stanford.edu/~amaas/data/sentiment/). It consists of movie reviews from the website [imdb.com](http://www.imdb.com/), each labeled as either '**pos**itive', if the reviewer enjoyed the film, or '**neg**ative' otherwise.\n",
    "\n",
    "> Maas, Andrew L., et al. [Learning Word Vectors for Sentiment Analysis](http://ai.stanford.edu/~amaas/data/sentiment/). In _Proceedings of the 49th Annual Meeting of the Association for Computational Linguistics: Human Language Technologies_. Association for Computational Linguistics, 2011.\n",
    "\n",
    "We begin by using some Jupyter Notebook magic to download and extract the dataset."
   ]
  },
  {
   "cell_type": "code",
   "execution_count": 2,
   "metadata": {},
   "outputs": [
    {
     "name": "stdout",
     "output_type": "stream",
     "text": [
      "mkdir: cannot create directory ‘../data’: File exists\n",
      "--2020-12-22 03:30:11--  http://ai.stanford.edu/~amaas/data/sentiment/aclImdb_v1.tar.gz\n",
      "Resolving ai.stanford.edu (ai.stanford.edu)... 171.64.68.10\n",
      "Connecting to ai.stanford.edu (ai.stanford.edu)|171.64.68.10|:80... connected.\n",
      "HTTP request sent, awaiting response... 200 OK\n",
      "Length: 84125825 (80M) [application/x-gzip]\n",
      "Saving to: ‘../data/aclImdb_v1.tar.gz’\n",
      "\n",
      "../data/aclImdb_v1. 100%[===================>]  80.23M  15.0MB/s    in 9.2s    \n",
      "\n",
      "2020-12-22 03:30:20 (8.72 MB/s) - ‘../data/aclImdb_v1.tar.gz’ saved [84125825/84125825]\n",
      "\n"
     ]
    }
   ],
   "source": [
    "%mkdir ../data\n",
    "!wget -O ../data/aclImdb_v1.tar.gz http://ai.stanford.edu/~amaas/data/sentiment/aclImdb_v1.tar.gz\n",
    "!tar -zxf ../data/aclImdb_v1.tar.gz -C ../data"
   ]
  },
  {
   "cell_type": "markdown",
   "metadata": {},
   "source": [
    "## Step 2: Preparing and Processing the data\n",
    "\n",
    "The data we have downloaded is split into various files, each of which contains a single review. It will be much easier going forward if we combine these individual files into two large files, one for training and one for testing."
   ]
  },
  {
   "cell_type": "code",
   "execution_count": 3,
   "metadata": {},
   "outputs": [],
   "source": [
    "import os\n",
    "import glob\n",
    "\n",
    "def read_imdb_data(data_dir='../data/aclImdb'):\n",
    "    data = {}\n",
    "    labels = {}\n",
    "    \n",
    "    for data_type in ['train', 'test']:\n",
    "        data[data_type] = {}\n",
    "        labels[data_type] = {}\n",
    "        \n",
    "        for sentiment in ['pos', 'neg']:\n",
    "            data[data_type][sentiment] = []\n",
    "            labels[data_type][sentiment] = []\n",
    "            \n",
    "            path = os.path.join(data_dir, data_type, sentiment, '*.txt')\n",
    "            files = glob.glob(path)\n",
    "            \n",
    "            for f in files:\n",
    "                with open(f) as review:\n",
    "                    data[data_type][sentiment].append(review.read())\n",
    "                    # Here we represent a positive review by '1' and a negative review by '0'\n",
    "                    labels[data_type][sentiment].append(1 if sentiment == 'pos' else 0)\n",
    "                    \n",
    "            assert len(data[data_type][sentiment]) == len(labels[data_type][sentiment]), \\\n",
    "                    \"{}/{} data size does not match labels size\".format(data_type, sentiment)\n",
    "                \n",
    "    return data, labels"
   ]
  },
  {
   "cell_type": "code",
   "execution_count": 4,
   "metadata": {},
   "outputs": [
    {
     "name": "stdout",
     "output_type": "stream",
     "text": [
      "IMDB reviews: train = 12500 pos / 12500 neg, test = 12500 pos / 12500 neg\n"
     ]
    }
   ],
   "source": [
    "data, labels = read_imdb_data()\n",
    "print(\"IMDB reviews: train = {} pos / {} neg, test = {} pos / {} neg\".format(\n",
    "            len(data['train']['pos']), len(data['train']['neg']),\n",
    "            len(data['test']['pos']), len(data['test']['neg'])))"
   ]
  },
  {
   "cell_type": "code",
   "execution_count": 5,
   "metadata": {},
   "outputs": [],
   "source": [
    "from sklearn.utils import shuffle\n",
    "\n",
    "def prepare_imdb_data(data, labels):\n",
    "    \"\"\"Prepare training and test sets from IMDb movie reviews.\"\"\"\n",
    "    \n",
    "    #Combine positive and negative reviews and labels\n",
    "    data_train = data['train']['pos'] + data['train']['neg']\n",
    "    data_test = data['test']['pos'] + data['test']['neg']\n",
    "    labels_train = labels['train']['pos'] + labels['train']['neg']\n",
    "    labels_test = labels['test']['pos'] + labels['test']['neg']\n",
    "    \n",
    "    #Shuffle reviews and corresponding labels within training and test sets\n",
    "    data_train, labels_train = shuffle(data_train, labels_train)\n",
    "    data_test, labels_test = shuffle(data_test, labels_test)\n",
    "    \n",
    "    # Return a unified training data, test data, training labels, test labets\n",
    "    return data_train, data_test, labels_train, labels_test"
   ]
  },
  {
   "cell_type": "code",
   "execution_count": 6,
   "metadata": {},
   "outputs": [
    {
     "name": "stdout",
     "output_type": "stream",
     "text": [
      "IMDb reviews (combined): train = 25000, test = 25000\n"
     ]
    }
   ],
   "source": [
    "train_X, test_X, train_y, test_y = prepare_imdb_data(data, labels)\n",
    "print(\"IMDb reviews (combined): train = {}, test = {}\".format(len(train_X), len(test_X)))"
   ]
  },
  {
   "cell_type": "code",
   "execution_count": 7,
   "metadata": {},
   "outputs": [
    {
     "data": {
      "text/plain": [
       "\"I found this to be a profoundly amusing dark comedy. Brosnan is genius; as anyone will now testify, he is not to be pigeonholed in the bond role. Kinnear was as charismatic and as funny as anyone could have been in the role. I don't know if I've laughed as hard during any movie! What an unexpected pleasure! My favourite line would be 'I feel like a bangkok hooker on a Sunday after the navy left town'. Brosnan delivered this very un-bond line with such unexpected comedic finesse. I was also very impressed with Hope Davis's performance. It seems like everyone in this movie branched out from their previous work to such a degree that it actually improved the comedy. If you liked the dark and hilarious 'The Weather Man', you will definitely like this. <br /><br />I voted 10.\""
      ]
     },
     "execution_count": 7,
     "metadata": {},
     "output_type": "execute_result"
    }
   ],
   "source": [
    "train_X[100]"
   ]
  },
  {
   "cell_type": "markdown",
   "metadata": {},
   "source": [
    "## Processing the data\n",
    "\n",
    "Now that we have our training and testing datasets merged and ready to use, we need to start processing the raw data into something that will be useable by our machine learning algorithm. To begin with, we remove any html formatting and any non-alpha numeric characters that may appear in the reviews. We will do this in a very simplistic way using Python's regular expression module. We will discuss the reason for this rather simplistic pre-processing later on."
   ]
  },
  {
   "cell_type": "code",
   "execution_count": 8,
   "metadata": {},
   "outputs": [],
   "source": [
    "import re\n",
    "\n",
    "REPLACE_NO_SPACE = re.compile(\"(\\.)|(\\;)|(\\:)|(\\!)|(\\')|(\\?)|(\\,)|(\\\")|(\\()|(\\))|(\\[)|(\\])\")\n",
    "REPLACE_WITH_SPACE = re.compile(\"(<br\\s*/><br\\s*/>)|(\\-)|(\\/)\")\n",
    "\n",
    "def review_to_words(review):\n",
    "    words = REPLACE_NO_SPACE.sub(\"\", review.lower())\n",
    "    words = REPLACE_WITH_SPACE.sub(\" \", words)\n",
    "    return words"
   ]
  },
  {
   "cell_type": "code",
   "execution_count": 9,
   "metadata": {},
   "outputs": [
    {
     "data": {
      "text/plain": [
       "'i found this to be a profoundly amusing dark comedy brosnan is genius as anyone will now testify he is not to be pigeonholed in the bond role kinnear was as charismatic and as funny as anyone could have been in the role i dont know if ive laughed as hard during any movie what an unexpected pleasure my favourite line would be i feel like a bangkok hooker on a sunday after the navy left town brosnan delivered this very un bond line with such unexpected comedic finesse i was also very impressed with hope daviss performance it seems like everyone in this movie branched out from their previous work to such a degree that it actually improved the comedy if you liked the dark and hilarious the weather man you will definitely like this  i voted 10'"
      ]
     },
     "execution_count": 9,
     "metadata": {},
     "output_type": "execute_result"
    }
   ],
   "source": [
    "review_to_words(train_X[100])"
   ]
  },
  {
   "cell_type": "code",
   "execution_count": 10,
   "metadata": {},
   "outputs": [],
   "source": [
    "import pickle\n",
    "\n",
    "cache_dir = os.path.join(\"../cache\", \"sentiment_web_app\")  # where to store cache files\n",
    "os.makedirs(cache_dir, exist_ok=True)  # ensure cache directory exists\n",
    "\n",
    "def preprocess_data(data_train, data_test, labels_train, labels_test,\n",
    "                    cache_dir=cache_dir, cache_file=\"preprocessed_data.pkl\"):\n",
    "    \"\"\"Convert each review to words; read from cache if available.\"\"\"\n",
    "\n",
    "    # If cache_file is not None, try to read from it first\n",
    "    cache_data = None\n",
    "    if cache_file is not None:\n",
    "        try:\n",
    "            with open(os.path.join(cache_dir, cache_file), \"rb\") as f:\n",
    "                cache_data = pickle.load(f)\n",
    "            print(\"Read preprocessed data from cache file:\", cache_file)\n",
    "        except:\n",
    "            pass  # unable to read from cache, but that's okay\n",
    "    \n",
    "    # If cache is missing, then do the heavy lifting\n",
    "    if cache_data is None:\n",
    "        # Preprocess training and test data to obtain words for each review\n",
    "        #words_train = list(map(review_to_words, data_train))\n",
    "        #words_test = list(map(review_to_words, data_test))\n",
    "        words_train = [review_to_words(review) for review in data_train]\n",
    "        words_test = [review_to_words(review) for review in data_test]\n",
    "        \n",
    "        # Write to cache file for future runs\n",
    "        if cache_file is not None:\n",
    "            cache_data = dict(words_train=words_train, words_test=words_test,\n",
    "                              labels_train=labels_train, labels_test=labels_test)\n",
    "            with open(os.path.join(cache_dir, cache_file), \"wb\") as f:\n",
    "                pickle.dump(cache_data, f)\n",
    "            print(\"Wrote preprocessed data to cache file:\", cache_file)\n",
    "    else:\n",
    "        # Unpack data loaded from cache file\n",
    "        words_train, words_test, labels_train, labels_test = (cache_data['words_train'],\n",
    "                cache_data['words_test'], cache_data['labels_train'], cache_data['labels_test'])\n",
    "    \n",
    "    return words_train, words_test, labels_train, labels_test"
   ]
  },
  {
   "cell_type": "code",
   "execution_count": 11,
   "metadata": {},
   "outputs": [
    {
     "name": "stdout",
     "output_type": "stream",
     "text": [
      "Wrote preprocessed data to cache file: preprocessed_data.pkl\n"
     ]
    }
   ],
   "source": [
    "# Preprocess data\n",
    "train_X, test_X, train_y, test_y = preprocess_data(train_X, test_X, train_y, test_y)"
   ]
  },
  {
   "cell_type": "markdown",
   "metadata": {},
   "source": [
    "### Extract Bag-of-Words features\n",
    "\n",
    "For the model we will be implementing, rather than using the reviews directly, we are going to transform each review into a Bag-of-Words feature representation. Keep in mind that 'in the wild' we will only have access to the training set so our transformer can only use the training set to construct a representation."
   ]
  },
  {
   "cell_type": "code",
   "execution_count": 12,
   "metadata": {},
   "outputs": [],
   "source": [
    "import numpy as np\n",
    "from sklearn.feature_extraction.text import CountVectorizer\n",
    "\n",
    "# sklearn.externals.joblib is deprecated in 0.21 and will be removed in 0.23. \n",
    "# from sklearn.externals import joblib\n",
    "\n",
    "# Import joblib package directly\n",
    "import joblib\n",
    "# joblib is an enhanced version of pickle that is more efficient for storing NumPy arrays\n",
    "\n",
    "def extract_BoW_features(words_train, words_test, vocabulary_size=5000,\n",
    "                         cache_dir=cache_dir, cache_file=\"bow_features.pkl\"):\n",
    "    \"\"\"Extract Bag-of-Words for a given set of documents, already preprocessed into words.\"\"\"\n",
    "    \n",
    "    # If cache_file is not None, try to read from it first\n",
    "    cache_data = None\n",
    "    if cache_file is not None:\n",
    "        try:\n",
    "            with open(os.path.join(cache_dir, cache_file), \"rb\") as f:\n",
    "                cache_data = joblib.load(f)\n",
    "            print(\"Read features from cache file:\", cache_file)\n",
    "        except:\n",
    "            pass  # unable to read from cache, but that's okay\n",
    "    \n",
    "    # If cache is missing, then do the heavy lifting\n",
    "    if cache_data is None:\n",
    "        # Fit a vectorizer to training documents and use it to transform them\n",
    "        # NOTE: Training documents have already been preprocessed and tokenized into words;\n",
    "        #       pass in dummy functions to skip those steps, e.g. preprocessor=lambda x: x\n",
    "        vectorizer = CountVectorizer(max_features=vocabulary_size)\n",
    "        features_train = vectorizer.fit_transform(words_train).toarray()\n",
    "\n",
    "        # Apply the same vectorizer to transform the test documents (ignore unknown words)\n",
    "        features_test = vectorizer.transform(words_test).toarray()\n",
    "        \n",
    "        # NOTE: Remember to convert the features using .toarray() for a compact representation\n",
    "        \n",
    "        # Write to cache file for future runs (store vocabulary as well)\n",
    "        if cache_file is not None:\n",
    "            vocabulary = vectorizer.vocabulary_\n",
    "            cache_data = dict(features_train=features_train, features_test=features_test,\n",
    "                             vocabulary=vocabulary)\n",
    "            with open(os.path.join(cache_dir, cache_file), \"wb\") as f:\n",
    "                joblib.dump(cache_data, f)\n",
    "            print(\"Wrote features to cache file:\", cache_file)\n",
    "    else:\n",
    "        # Unpack data loaded from cache file\n",
    "        features_train, features_test, vocabulary = (cache_data['features_train'],\n",
    "                cache_data['features_test'], cache_data['vocabulary'])\n",
    "    \n",
    "    # Return both the extracted features as well as the vocabulary\n",
    "    return features_train, features_test, vocabulary"
   ]
  },
  {
   "cell_type": "code",
   "execution_count": 13,
   "metadata": {},
   "outputs": [
    {
     "name": "stdout",
     "output_type": "stream",
     "text": [
      "Wrote features to cache file: bow_features.pkl\n"
     ]
    }
   ],
   "source": [
    "# Extract Bag of Words features for both training and test datasets\n",
    "train_X, test_X, vocabulary = extract_BoW_features(train_X, test_X)"
   ]
  },
  {
   "cell_type": "code",
   "execution_count": 14,
   "metadata": {},
   "outputs": [
    {
     "data": {
      "text/plain": [
       "5000"
      ]
     },
     "execution_count": 14,
     "metadata": {},
     "output_type": "execute_result"
    }
   ],
   "source": [
    "len(train_X[100])"
   ]
  },
  {
   "cell_type": "markdown",
   "metadata": {},
   "source": [
    "## Step 3: Upload data to S3\n",
    "\n",
    "Now that we have created the feature representation of our training (and testing) data, it is time to start setting up and using the XGBoost classifier provided by SageMaker.\n",
    "\n",
    "### Writing the datasets\n",
    "\n",
    "The XGBoost classifier that we will be using requires the dataset to be written to a file and stored using Amazon S3. To do this, we will start by splitting the training dataset into two parts, the data we will train the model with and a validation set. Then, we will write those datasets to a file locally and then upload the files to S3. In addition, we will write the test set to a file and upload that file to S3. This is so that we can use SageMakers Batch Transform functionality to test our model once we've fit it."
   ]
  },
  {
   "cell_type": "code",
   "execution_count": 15,
   "metadata": {},
   "outputs": [],
   "source": [
    "import pandas as pd\n",
    "\n",
    "# Earlier we shuffled the training dataset so to make things simple we can just assign\n",
    "# the first 10 000 reviews to the validation set and use the remaining reviews for training.\n",
    "val_X = pd.DataFrame(train_X[:10000])\n",
    "train_X = pd.DataFrame(train_X[10000:])\n",
    "\n",
    "val_y = pd.DataFrame(train_y[:10000])\n",
    "train_y = pd.DataFrame(train_y[10000:])"
   ]
  },
  {
   "cell_type": "markdown",
   "metadata": {},
   "source": [
    "The documentation for the XGBoost algorithm in SageMaker requires that the training and validation datasets should contain no headers or index and that the label should occur first for each sample.\n",
    "\n",
    "For more information about this and other algorithms, the SageMaker developer documentation can be found on __[Amazon's website.](https://docs.aws.amazon.com/sagemaker/latest/dg/)__"
   ]
  },
  {
   "cell_type": "code",
   "execution_count": 16,
   "metadata": {},
   "outputs": [],
   "source": [
    "# First we make sure that the local directory in which we'd like to store the training and validation csv files exists.\n",
    "data_dir = '../data/sentiment_web_app'\n",
    "if not os.path.exists(data_dir):\n",
    "    os.makedirs(data_dir)"
   ]
  },
  {
   "cell_type": "code",
   "execution_count": 17,
   "metadata": {},
   "outputs": [],
   "source": [
    "pd.DataFrame(test_X).to_csv(os.path.join(data_dir, 'test.csv'), header=False, index=False)\n",
    "\n",
    "pd.concat([val_y, val_X], axis=1).to_csv(os.path.join(data_dir, 'validation.csv'), header=False, index=False)\n",
    "pd.concat([train_y, train_X], axis=1).to_csv(os.path.join(data_dir, 'train.csv'), header=False, index=False)"
   ]
  },
  {
   "cell_type": "code",
   "execution_count": 18,
   "metadata": {},
   "outputs": [],
   "source": [
    "# To save a bit of memory we can set text_X, train_X, val_X, train_y and val_y to None.\n",
    "\n",
    "test_X = train_X = val_X = train_y = val_y = None"
   ]
  },
  {
   "cell_type": "markdown",
   "metadata": {},
   "source": [
    "### Uploading Training / Validation files to S3\n",
    "\n",
    "Amazon's S3 service allows us to store files that can be accessed by both the built-in training models such as the XGBoost model we will be using as well as custom models such as the one we will see a little later.\n",
    "\n",
    "For this and most other tasks we will be doing using SageMaker, there are two methods we could use. The first is to use the low level functionality of SageMaker which requires knowing each of the objects involved in the SageMaker environment. The second is to use the high level functionality in which certain choices have been made on the user's behalf. The low level approach benefits from allowing the user a great deal of flexibility while the high level approach makes development much quicker. For our purposes we will opt to use the high level approach although using the low-level approach is certainly an option.\n",
    "\n",
    "Recall the method `upload_data()` which is a member of the object representing our current SageMaker session. What this method does is upload the data to the default bucket (which is created if it does not exist) into the path described by the key_prefix variable. To see this for yourself, once you have uploaded the data files, go to the S3 console and look to see where the files have been uploaded.\n",
    "\n",
    "For additional resources, see the __[SageMaker API documentation](http://sagemaker.readthedocs.io/en/latest/)__ and in addition the __[SageMaker Developer Guide.](https://docs.aws.amazon.com/sagemaker/latest/dg/)__"
   ]
  },
  {
   "cell_type": "code",
   "execution_count": 19,
   "metadata": {},
   "outputs": [],
   "source": [
    "import sagemaker\n",
    "\n",
    "session = sagemaker.Session() # Store the current SageMaker session\n",
    "\n",
    "# S3 prefix (which folder will we use)\n",
    "prefix = 'sentiment-web-app'\n",
    "\n",
    "test_location = session.upload_data(os.path.join(data_dir, 'test.csv'), key_prefix=prefix)\n",
    "val_location = session.upload_data(os.path.join(data_dir, 'validation.csv'), key_prefix=prefix)\n",
    "train_location = session.upload_data(os.path.join(data_dir, 'train.csv'), key_prefix=prefix)"
   ]
  },
  {
   "cell_type": "markdown",
   "metadata": {},
   "source": [
    "## Step 4: Creating the XGBoost model\n",
    "\n",
    "Now that the data has been uploaded it is time to create the XGBoost model. To begin with, we need to do some setup. At this point it is worth discussing what a model is in SageMaker. It is easiest to think of a model of comprising three different objects in the SageMaker ecosystem, which interact with one another.\n",
    "\n",
    "- Model Artifacts\n",
    "- Training Code (Container)\n",
    "- Inference Code (Container)\n",
    "\n",
    "The Model Artifacts are what you might think of as the actual model itself. For example, if you were building a neural network, the model artifacts would be the weights of the various layers. In our case, for an XGBoost model, the artifacts are the actual trees that are created during training.\n",
    "\n",
    "The other two objects, the training code and the inference code are then used to manipulate the training artifacts. More precisely, the training code uses the training data that is provided and creates the model artifacts, while the inference code uses the model artifacts to make predictions on new data.\n",
    "\n",
    "The way that SageMaker runs the training and inference code is by making use of Docker containers. For now, think of a container as being a way of packaging code up so that dependencies aren't an issue."
   ]
  },
  {
   "cell_type": "code",
   "execution_count": 20,
   "metadata": {},
   "outputs": [],
   "source": [
    "from sagemaker import get_execution_role\n",
    "\n",
    "# Our current execution role is required when creating the model as the training\n",
    "# and inference code will need to access the model artifacts.\n",
    "role = get_execution_role()"
   ]
  },
  {
   "cell_type": "code",
   "execution_count": 21,
   "metadata": {},
   "outputs": [
    {
     "name": "stderr",
     "output_type": "stream",
     "text": [
      "'get_image_uri' method will be deprecated in favor of 'ImageURIProvider' class in SageMaker Python SDK v2.\n",
      "There is a more up to date SageMaker XGBoost image. To use the newer image, please set 'repo_version'='1.0-1'. For example:\n",
      "\tget_image_uri(region, 'xgboost', '1.0-1').\n"
     ]
    }
   ],
   "source": [
    "# We need to retrieve the location of the container which is provided by Amazon for using XGBoost.\n",
    "# As a matter of convenience, the training and inference code both use the same container.\n",
    "from sagemaker.amazon.amazon_estimator import get_image_uri\n",
    "\n",
    "container = get_image_uri(session.boto_region_name, 'xgboost')"
   ]
  },
  {
   "cell_type": "code",
   "execution_count": 22,
   "metadata": {},
   "outputs": [
    {
     "name": "stderr",
     "output_type": "stream",
     "text": [
      "Parameter image_name will be renamed to image_uri in SageMaker Python SDK v2.\n"
     ]
    }
   ],
   "source": [
    "# First we create a SageMaker estimator object for our model.\n",
    "xgb = sagemaker.estimator.Estimator(container, # The location of the container we wish to use\n",
    "                                    role,                                    # What is our current IAM Role\n",
    "                                    train_instance_count=1,                  # How many compute instances\n",
    "                                    train_instance_type='ml.m4.xlarge',      # What kind of compute instances\n",
    "                                    output_path='s3://{}/{}/output'.format(session.default_bucket(), prefix),\n",
    "                                    sagemaker_session=session)\n",
    "\n",
    "# And then set the algorithm specific parameters.\n",
    "xgb.set_hyperparameters(max_depth=5,\n",
    "                        eta=0.2,\n",
    "                        gamma=4,\n",
    "                        min_child_weight=6,\n",
    "                        subsample=0.8,\n",
    "                        silent=0,\n",
    "                        objective='binary:logistic',\n",
    "                        early_stopping_rounds=10,\n",
    "                        num_round=500)"
   ]
  },
  {
   "cell_type": "markdown",
   "metadata": {},
   "source": [
    "### Fit the XGBoost model\n",
    "\n",
    "Now that our model has been set up we simply need to attach the training and validation datasets and then ask SageMaker to set up the computation."
   ]
  },
  {
   "cell_type": "code",
   "execution_count": 23,
   "metadata": {},
   "outputs": [
    {
     "name": "stderr",
     "output_type": "stream",
     "text": [
      "'s3_input' class will be renamed to 'TrainingInput' in SageMaker Python SDK v2.\n",
      "'s3_input' class will be renamed to 'TrainingInput' in SageMaker Python SDK v2.\n"
     ]
    }
   ],
   "source": [
    "s3_input_train = sagemaker.s3_input(s3_data=train_location, content_type='csv')\n",
    "s3_input_validation = sagemaker.s3_input(s3_data=val_location, content_type='csv')"
   ]
  },
  {
   "cell_type": "code",
   "execution_count": 24,
   "metadata": {},
   "outputs": [
    {
     "name": "stdout",
     "output_type": "stream",
     "text": [
      "2020-12-22 03:33:04 Starting - Starting the training job...\n",
      "2020-12-22 03:33:07 Starting - Launching requested ML instances......\n",
      "2020-12-22 03:34:19 Starting - Preparing the instances for training......\n",
      "2020-12-22 03:35:19 Downloading - Downloading input data...\n",
      "2020-12-22 03:36:02 Training - Training image download completed. Training in progress..\u001b[34mArguments: train\u001b[0m\n",
      "\u001b[34m[2020-12-22:03:36:03:INFO] Running standalone xgboost training.\u001b[0m\n",
      "\u001b[34m[2020-12-22:03:36:03:INFO] File size need to be processed in the node: 238.5mb. Available memory size in the node: 8431.12mb\u001b[0m\n",
      "\u001b[34m[2020-12-22:03:36:03:INFO] Determined delimiter of CSV input is ','\u001b[0m\n",
      "\u001b[34m[03:36:03] S3DistributionType set as FullyReplicated\u001b[0m\n",
      "\u001b[34m[03:36:04] 15000x5000 matrix with 75000000 entries loaded from /opt/ml/input/data/train?format=csv&label_column=0&delimiter=,\u001b[0m\n",
      "\u001b[34m[2020-12-22:03:36:04:INFO] Determined delimiter of CSV input is ','\u001b[0m\n",
      "\u001b[34m[03:36:04] S3DistributionType set as FullyReplicated\u001b[0m\n",
      "\u001b[34m[03:36:06] 10000x5000 matrix with 50000000 entries loaded from /opt/ml/input/data/validation?format=csv&label_column=0&delimiter=,\u001b[0m\n",
      "\u001b[34m[03:36:09] src/tree/updater_prune.cc:74: tree pruning end, 1 roots, 46 extra nodes, 0 pruned nodes, max_depth=5\u001b[0m\n",
      "\u001b[34m[0]#011train-error:0.303533#011validation-error:0.3088\u001b[0m\n",
      "\u001b[34mMultiple eval metrics have been passed: 'validation-error' will be used for early stopping.\n",
      "\u001b[0m\n",
      "\u001b[34mWill train until validation-error hasn't improved in 10 rounds.\u001b[0m\n",
      "\u001b[34m[03:36:10] src/tree/updater_prune.cc:74: tree pruning end, 1 roots, 44 extra nodes, 0 pruned nodes, max_depth=5\u001b[0m\n",
      "\u001b[34m[1]#011train-error:0.286133#011validation-error:0.3\u001b[0m\n",
      "\u001b[34m[03:36:12] src/tree/updater_prune.cc:74: tree pruning end, 1 roots, 34 extra nodes, 8 pruned nodes, max_depth=5\u001b[0m\n",
      "\u001b[34m[2]#011train-error:0.272333#011validation-error:0.2852\u001b[0m\n",
      "\u001b[34m[03:36:14] src/tree/updater_prune.cc:74: tree pruning end, 1 roots, 30 extra nodes, 6 pruned nodes, max_depth=5\u001b[0m\n",
      "\u001b[34m[3]#011train-error:0.2634#011validation-error:0.275\u001b[0m\n",
      "\u001b[34m[03:36:15] src/tree/updater_prune.cc:74: tree pruning end, 1 roots, 52 extra nodes, 2 pruned nodes, max_depth=5\u001b[0m\n",
      "\u001b[34m[4]#011train-error:0.251467#011validation-error:0.272\u001b[0m\n",
      "\u001b[34m[03:36:16] src/tree/updater_prune.cc:74: tree pruning end, 1 roots, 44 extra nodes, 4 pruned nodes, max_depth=5\u001b[0m\n",
      "\u001b[34m[5]#011train-error:0.254733#011validation-error:0.2724\u001b[0m\n",
      "\u001b[34m[03:36:17] src/tree/updater_prune.cc:74: tree pruning end, 1 roots, 26 extra nodes, 8 pruned nodes, max_depth=5\u001b[0m\n",
      "\u001b[34m[6]#011train-error:0.251#011validation-error:0.2692\u001b[0m\n",
      "\u001b[34m[03:36:19] src/tree/updater_prune.cc:74: tree pruning end, 1 roots, 32 extra nodes, 8 pruned nodes, max_depth=5\u001b[0m\n",
      "\u001b[34m[7]#011train-error:0.243267#011validation-error:0.2652\u001b[0m\n",
      "\u001b[34m[03:36:20] src/tree/updater_prune.cc:74: tree pruning end, 1 roots, 36 extra nodes, 10 pruned nodes, max_depth=5\u001b[0m\n",
      "\u001b[34m[8]#011train-error:0.228#011validation-error:0.2558\u001b[0m\n",
      "\u001b[34m[03:36:21] src/tree/updater_prune.cc:74: tree pruning end, 1 roots, 36 extra nodes, 6 pruned nodes, max_depth=5\u001b[0m\n",
      "\u001b[34m[9]#011train-error:0.221933#011validation-error:0.2506\u001b[0m\n",
      "\u001b[34m[03:36:23] src/tree/updater_prune.cc:74: tree pruning end, 1 roots, 30 extra nodes, 12 pruned nodes, max_depth=5\u001b[0m\n",
      "\u001b[34m[10]#011train-error:0.218333#011validation-error:0.2483\u001b[0m\n",
      "\u001b[34m[03:36:24] src/tree/updater_prune.cc:74: tree pruning end, 1 roots, 24 extra nodes, 12 pruned nodes, max_depth=5\u001b[0m\n",
      "\u001b[34m[11]#011train-error:0.2154#011validation-error:0.2453\u001b[0m\n",
      "\u001b[34m[03:36:25] src/tree/updater_prune.cc:74: tree pruning end, 1 roots, 46 extra nodes, 4 pruned nodes, max_depth=5\u001b[0m\n",
      "\u001b[34m[12]#011train-error:0.210067#011validation-error:0.243\u001b[0m\n",
      "\u001b[34m[03:36:26] src/tree/updater_prune.cc:74: tree pruning end, 1 roots, 36 extra nodes, 10 pruned nodes, max_depth=5\u001b[0m\n",
      "\u001b[34m[13]#011train-error:0.206733#011validation-error:0.2401\u001b[0m\n",
      "\u001b[34m[03:36:28] src/tree/updater_prune.cc:74: tree pruning end, 1 roots, 20 extra nodes, 14 pruned nodes, max_depth=5\u001b[0m\n",
      "\u001b[34m[14]#011train-error:0.2016#011validation-error:0.237\u001b[0m\n",
      "\u001b[34m[03:36:29] src/tree/updater_prune.cc:74: tree pruning end, 1 roots, 24 extra nodes, 14 pruned nodes, max_depth=5\u001b[0m\n",
      "\u001b[34m[15]#011train-error:0.1994#011validation-error:0.2342\u001b[0m\n",
      "\u001b[34m[03:36:30] src/tree/updater_prune.cc:74: tree pruning end, 1 roots, 24 extra nodes, 8 pruned nodes, max_depth=5\u001b[0m\n",
      "\u001b[34m[16]#011train-error:0.194867#011validation-error:0.2302\u001b[0m\n",
      "\u001b[34m[03:36:31] src/tree/updater_prune.cc:74: tree pruning end, 1 roots, 28 extra nodes, 4 pruned nodes, max_depth=5\u001b[0m\n",
      "\u001b[34m[17]#011train-error:0.192533#011validation-error:0.23\u001b[0m\n",
      "\u001b[34m[03:36:33] src/tree/updater_prune.cc:74: tree pruning end, 1 roots, 24 extra nodes, 6 pruned nodes, max_depth=5\u001b[0m\n",
      "\u001b[34m[18]#011train-error:0.191133#011validation-error:0.2272\u001b[0m\n",
      "\u001b[34m[03:36:34] src/tree/updater_prune.cc:74: tree pruning end, 1 roots, 42 extra nodes, 4 pruned nodes, max_depth=5\u001b[0m\n",
      "\u001b[34m[19]#011train-error:0.1866#011validation-error:0.2225\u001b[0m\n",
      "\u001b[34m[03:36:35] src/tree/updater_prune.cc:74: tree pruning end, 1 roots, 32 extra nodes, 14 pruned nodes, max_depth=5\u001b[0m\n",
      "\u001b[34m[20]#011train-error:0.1862#011validation-error:0.2205\u001b[0m\n",
      "\u001b[34m[03:36:37] src/tree/updater_prune.cc:74: tree pruning end, 1 roots, 30 extra nodes, 4 pruned nodes, max_depth=5\u001b[0m\n",
      "\u001b[34m[21]#011train-error:0.1812#011validation-error:0.2191\u001b[0m\n",
      "\u001b[34m[03:36:38] src/tree/updater_prune.cc:74: tree pruning end, 1 roots, 22 extra nodes, 10 pruned nodes, max_depth=5\u001b[0m\n",
      "\u001b[34m[22]#011train-error:0.180733#011validation-error:0.2185\u001b[0m\n",
      "\u001b[34m[03:36:39] src/tree/updater_prune.cc:74: tree pruning end, 1 roots, 18 extra nodes, 10 pruned nodes, max_depth=5\u001b[0m\n",
      "\u001b[34m[23]#011train-error:0.178667#011validation-error:0.2168\u001b[0m\n",
      "\u001b[34m[03:36:40] src/tree/updater_prune.cc:74: tree pruning end, 1 roots, 26 extra nodes, 8 pruned nodes, max_depth=5\u001b[0m\n",
      "\u001b[34m[24]#011train-error:0.177333#011validation-error:0.2162\u001b[0m\n",
      "\u001b[34m[03:36:42] src/tree/updater_prune.cc:74: tree pruning end, 1 roots, 26 extra nodes, 12 pruned nodes, max_depth=5\u001b[0m\n",
      "\u001b[34m[25]#011train-error:0.175267#011validation-error:0.2138\u001b[0m\n",
      "\u001b[34m[03:36:43] src/tree/updater_prune.cc:74: tree pruning end, 1 roots, 24 extra nodes, 6 pruned nodes, max_depth=5\u001b[0m\n",
      "\u001b[34m[26]#011train-error:0.1728#011validation-error:0.2103\u001b[0m\n",
      "\u001b[34m[03:36:44] src/tree/updater_prune.cc:74: tree pruning end, 1 roots, 24 extra nodes, 12 pruned nodes, max_depth=5\u001b[0m\n",
      "\u001b[34m[27]#011train-error:0.170533#011validation-error:0.2099\u001b[0m\n",
      "\u001b[34m[03:36:46] src/tree/updater_prune.cc:74: tree pruning end, 1 roots, 30 extra nodes, 4 pruned nodes, max_depth=5\u001b[0m\n",
      "\u001b[34m[28]#011train-error:0.169#011validation-error:0.2075\u001b[0m\n",
      "\u001b[34m[03:36:47] src/tree/updater_prune.cc:74: tree pruning end, 1 roots, 34 extra nodes, 4 pruned nodes, max_depth=5\u001b[0m\n",
      "\u001b[34m[29]#011train-error:0.1666#011validation-error:0.2063\u001b[0m\n",
      "\u001b[34m[03:36:48] src/tree/updater_prune.cc:74: tree pruning end, 1 roots, 22 extra nodes, 10 pruned nodes, max_depth=5\u001b[0m\n",
      "\u001b[34m[30]#011train-error:0.1652#011validation-error:0.2052\u001b[0m\n",
      "\u001b[34m[03:36:49] src/tree/updater_prune.cc:74: tree pruning end, 1 roots, 34 extra nodes, 6 pruned nodes, max_depth=5\u001b[0m\n",
      "\u001b[34m[31]#011train-error:0.1632#011validation-error:0.2041\u001b[0m\n",
      "\u001b[34m[03:36:51] src/tree/updater_prune.cc:74: tree pruning end, 1 roots, 28 extra nodes, 10 pruned nodes, max_depth=5\u001b[0m\n",
      "\u001b[34m[32]#011train-error:0.161933#011validation-error:0.2022\u001b[0m\n",
      "\u001b[34m[03:36:52] src/tree/updater_prune.cc:74: tree pruning end, 1 roots, 26 extra nodes, 6 pruned nodes, max_depth=5\u001b[0m\n",
      "\u001b[34m[33]#011train-error:0.1616#011validation-error:0.2033\u001b[0m\n",
      "\u001b[34m[03:36:53] src/tree/updater_prune.cc:74: tree pruning end, 1 roots, 28 extra nodes, 14 pruned nodes, max_depth=5\u001b[0m\n",
      "\u001b[34m[34]#011train-error:0.159733#011validation-error:0.2019\u001b[0m\n",
      "\u001b[34m[03:36:55] src/tree/updater_prune.cc:74: tree pruning end, 1 roots, 28 extra nodes, 12 pruned nodes, max_depth=5\u001b[0m\n",
      "\u001b[34m[35]#011train-error:0.157467#011validation-error:0.2\u001b[0m\n",
      "\u001b[34m[03:36:56] src/tree/updater_prune.cc:74: tree pruning end, 1 roots, 10 extra nodes, 14 pruned nodes, max_depth=5\u001b[0m\n",
      "\u001b[34m[36]#011train-error:0.1568#011validation-error:0.1995\u001b[0m\n",
      "\u001b[34m[03:36:57] src/tree/updater_prune.cc:74: tree pruning end, 1 roots, 28 extra nodes, 8 pruned nodes, max_depth=5\u001b[0m\n",
      "\u001b[34m[37]#011train-error:0.154867#011validation-error:0.1976\u001b[0m\n",
      "\u001b[34m[03:36:58] src/tree/updater_prune.cc:74: tree pruning end, 1 roots, 18 extra nodes, 12 pruned nodes, max_depth=5\u001b[0m\n",
      "\u001b[34m[38]#011train-error:0.1538#011validation-error:0.197\u001b[0m\n",
      "\u001b[34m[03:37:00] src/tree/updater_prune.cc:74: tree pruning end, 1 roots, 30 extra nodes, 4 pruned nodes, max_depth=5\u001b[0m\n",
      "\u001b[34m[39]#011train-error:0.152533#011validation-error:0.1959\u001b[0m\n",
      "\u001b[34m[03:37:01] src/tree/updater_prune.cc:74: tree pruning end, 1 roots, 24 extra nodes, 8 pruned nodes, max_depth=5\u001b[0m\n",
      "\u001b[34m[40]#011train-error:0.151533#011validation-error:0.1965\u001b[0m\n",
      "\u001b[34m[03:37:02] src/tree/updater_prune.cc:74: tree pruning end, 1 roots, 34 extra nodes, 8 pruned nodes, max_depth=5\u001b[0m\n",
      "\u001b[34m[41]#011train-error:0.15#011validation-error:0.1945\u001b[0m\n",
      "\u001b[34m[03:37:04] src/tree/updater_prune.cc:74: tree pruning end, 1 roots, 22 extra nodes, 6 pruned nodes, max_depth=5\u001b[0m\n",
      "\u001b[34m[42]#011train-error:0.147933#011validation-error:0.1936\u001b[0m\n",
      "\u001b[34m[03:37:05] src/tree/updater_prune.cc:74: tree pruning end, 1 roots, 20 extra nodes, 4 pruned nodes, max_depth=5\u001b[0m\n",
      "\u001b[34m[43]#011train-error:0.1468#011validation-error:0.1927\u001b[0m\n",
      "\u001b[34m[03:37:06] src/tree/updater_prune.cc:74: tree pruning end, 1 roots, 26 extra nodes, 8 pruned nodes, max_depth=5\u001b[0m\n",
      "\u001b[34m[44]#011train-error:0.145333#011validation-error:0.1922\u001b[0m\n",
      "\u001b[34m[03:37:07] src/tree/updater_prune.cc:74: tree pruning end, 1 roots, 36 extra nodes, 6 pruned nodes, max_depth=5\u001b[0m\n",
      "\u001b[34m[45]#011train-error:0.1424#011validation-error:0.1906\u001b[0m\n",
      "\u001b[34m[03:37:09] src/tree/updater_prune.cc:74: tree pruning end, 1 roots, 12 extra nodes, 14 pruned nodes, max_depth=5\u001b[0m\n",
      "\u001b[34m[46]#011train-error:0.142267#011validation-error:0.1907\u001b[0m\n",
      "\u001b[34m[03:37:10] src/tree/updater_prune.cc:74: tree pruning end, 1 roots, 24 extra nodes, 10 pruned nodes, max_depth=5\u001b[0m\n",
      "\u001b[34m[47]#011train-error:0.141267#011validation-error:0.1886\u001b[0m\n",
      "\u001b[34m[03:37:11] src/tree/updater_prune.cc:74: tree pruning end, 1 roots, 34 extra nodes, 6 pruned nodes, max_depth=5\u001b[0m\n",
      "\u001b[34m[48]#011train-error:0.140867#011validation-error:0.1876\u001b[0m\n",
      "\u001b[34m[03:37:13] src/tree/updater_prune.cc:74: tree pruning end, 1 roots, 18 extra nodes, 2 pruned nodes, max_depth=5\u001b[0m\n",
      "\u001b[34m[49]#011train-error:0.1386#011validation-error:0.1866\u001b[0m\n",
      "\u001b[34m[03:37:14] src/tree/updater_prune.cc:74: tree pruning end, 1 roots, 14 extra nodes, 18 pruned nodes, max_depth=5\u001b[0m\n",
      "\u001b[34m[50]#011train-error:0.1384#011validation-error:0.1861\u001b[0m\n",
      "\u001b[34m[03:37:15] src/tree/updater_prune.cc:74: tree pruning end, 1 roots, 28 extra nodes, 14 pruned nodes, max_depth=5\u001b[0m\n",
      "\u001b[34m[51]#011train-error:0.137733#011validation-error:0.1866\u001b[0m\n",
      "\u001b[34m[03:37:16] src/tree/updater_prune.cc:74: tree pruning end, 1 roots, 16 extra nodes, 16 pruned nodes, max_depth=5\u001b[0m\n",
      "\u001b[34m[52]#011train-error:0.1366#011validation-error:0.1856\u001b[0m\n",
      "\u001b[34m[03:37:18] src/tree/updater_prune.cc:74: tree pruning end, 1 roots, 26 extra nodes, 4 pruned nodes, max_depth=5\u001b[0m\n",
      "\u001b[34m[53]#011train-error:0.1362#011validation-error:0.1856\u001b[0m\n",
      "\u001b[34m[03:37:19] src/tree/updater_prune.cc:74: tree pruning end, 1 roots, 16 extra nodes, 6 pruned nodes, max_depth=5\u001b[0m\n",
      "\u001b[34m[54]#011train-error:0.134733#011validation-error:0.1849\u001b[0m\n",
      "\u001b[34m[03:37:20] src/tree/updater_prune.cc:74: tree pruning end, 1 roots, 32 extra nodes, 2 pruned nodes, max_depth=5\u001b[0m\n",
      "\u001b[34m[55]#011train-error:0.133#011validation-error:0.183\u001b[0m\n",
      "\u001b[34m[03:37:22] src/tree/updater_prune.cc:74: tree pruning end, 1 roots, 18 extra nodes, 6 pruned nodes, max_depth=5\u001b[0m\n",
      "\u001b[34m[56]#011train-error:0.132333#011validation-error:0.1822\u001b[0m\n",
      "\u001b[34m[03:37:23] src/tree/updater_prune.cc:74: tree pruning end, 1 roots, 22 extra nodes, 14 pruned nodes, max_depth=5\u001b[0m\n",
      "\u001b[34m[57]#011train-error:0.131333#011validation-error:0.1821\u001b[0m\n",
      "\u001b[34m[03:37:24] src/tree/updater_prune.cc:74: tree pruning end, 1 roots, 18 extra nodes, 4 pruned nodes, max_depth=5\u001b[0m\n",
      "\u001b[34m[58]#011train-error:0.130733#011validation-error:0.1804\u001b[0m\n",
      "\u001b[34m[03:37:25] src/tree/updater_prune.cc:74: tree pruning end, 1 roots, 34 extra nodes, 6 pruned nodes, max_depth=5\u001b[0m\n",
      "\u001b[34m[59]#011train-error:0.129667#011validation-error:0.18\u001b[0m\n",
      "\u001b[34m[03:37:27] src/tree/updater_prune.cc:74: tree pruning end, 1 roots, 40 extra nodes, 6 pruned nodes, max_depth=5\u001b[0m\n",
      "\u001b[34m[60]#011train-error:0.128733#011validation-error:0.1795\u001b[0m\n",
      "\u001b[34m[03:37:28] src/tree/updater_prune.cc:74: tree pruning end, 1 roots, 12 extra nodes, 14 pruned nodes, max_depth=5\u001b[0m\n",
      "\u001b[34m[61]#011train-error:0.1276#011validation-error:0.1795\u001b[0m\n",
      "\u001b[34m[03:37:29] src/tree/updater_prune.cc:74: tree pruning end, 1 roots, 12 extra nodes, 6 pruned nodes, max_depth=5\u001b[0m\n",
      "\u001b[34m[62]#011train-error:0.127067#011validation-error:0.1789\u001b[0m\n",
      "\u001b[34m[03:37:31] src/tree/updater_prune.cc:74: tree pruning end, 1 roots, 16 extra nodes, 12 pruned nodes, max_depth=5\u001b[0m\n",
      "\u001b[34m[63]#011train-error:0.126333#011validation-error:0.1772\u001b[0m\n",
      "\u001b[34m[03:37:32] src/tree/updater_prune.cc:74: tree pruning end, 1 roots, 18 extra nodes, 16 pruned nodes, max_depth=5\u001b[0m\n",
      "\u001b[34m[64]#011train-error:0.1256#011validation-error:0.1765\u001b[0m\n",
      "\u001b[34m[03:37:33] src/tree/updater_prune.cc:74: tree pruning end, 1 roots, 20 extra nodes, 6 pruned nodes, max_depth=5\u001b[0m\n",
      "\u001b[34m[65]#011train-error:0.125#011validation-error:0.176\u001b[0m\n",
      "\u001b[34m[03:37:34] src/tree/updater_prune.cc:74: tree pruning end, 1 roots, 22 extra nodes, 12 pruned nodes, max_depth=5\u001b[0m\n",
      "\u001b[34m[66]#011train-error:0.123733#011validation-error:0.1748\u001b[0m\n",
      "\u001b[34m[03:37:36] src/tree/updater_prune.cc:74: tree pruning end, 1 roots, 18 extra nodes, 2 pruned nodes, max_depth=5\u001b[0m\n",
      "\u001b[34m[67]#011train-error:0.122733#011validation-error:0.1745\u001b[0m\n",
      "\u001b[34m[03:37:37] src/tree/updater_prune.cc:74: tree pruning end, 1 roots, 28 extra nodes, 4 pruned nodes, max_depth=5\u001b[0m\n",
      "\u001b[34m[68]#011train-error:0.120667#011validation-error:0.1756\u001b[0m\n",
      "\u001b[34m[03:37:38] src/tree/updater_prune.cc:74: tree pruning end, 1 roots, 22 extra nodes, 6 pruned nodes, max_depth=5\u001b[0m\n",
      "\u001b[34m[69]#011train-error:0.119933#011validation-error:0.175\u001b[0m\n",
      "\u001b[34m[03:37:39] src/tree/updater_prune.cc:74: tree pruning end, 1 roots, 36 extra nodes, 8 pruned nodes, max_depth=5\u001b[0m\n",
      "\u001b[34m[70]#011train-error:0.1192#011validation-error:0.1748\u001b[0m\n",
      "\u001b[34m[03:37:41] src/tree/updater_prune.cc:74: tree pruning end, 1 roots, 14 extra nodes, 10 pruned nodes, max_depth=5\u001b[0m\n",
      "\u001b[34m[71]#011train-error:0.119067#011validation-error:0.1745\u001b[0m\n",
      "\u001b[34m[03:37:42] src/tree/updater_prune.cc:74: tree pruning end, 1 roots, 26 extra nodes, 8 pruned nodes, max_depth=5\u001b[0m\n",
      "\u001b[34m[72]#011train-error:0.1182#011validation-error:0.175\u001b[0m\n",
      "\u001b[34m[03:37:43] src/tree/updater_prune.cc:74: tree pruning end, 1 roots, 26 extra nodes, 10 pruned nodes, max_depth=5\u001b[0m\n",
      "\u001b[34m[73]#011train-error:0.1172#011validation-error:0.1743\u001b[0m\n",
      "\u001b[34m[03:37:45] src/tree/updater_prune.cc:74: tree pruning end, 1 roots, 12 extra nodes, 2 pruned nodes, max_depth=5\u001b[0m\n",
      "\u001b[34m[74]#011train-error:0.117267#011validation-error:0.1739\u001b[0m\n",
      "\u001b[34m[03:37:46] src/tree/updater_prune.cc:74: tree pruning end, 1 roots, 16 extra nodes, 12 pruned nodes, max_depth=5\u001b[0m\n",
      "\u001b[34m[75]#011train-error:0.116067#011validation-error:0.174\u001b[0m\n",
      "\u001b[34m[03:37:47] src/tree/updater_prune.cc:74: tree pruning end, 1 roots, 34 extra nodes, 10 pruned nodes, max_depth=5\u001b[0m\n",
      "\u001b[34m[76]#011train-error:0.115467#011validation-error:0.172\u001b[0m\n",
      "\u001b[34m[03:37:48] src/tree/updater_prune.cc:74: tree pruning end, 1 roots, 38 extra nodes, 6 pruned nodes, max_depth=5\u001b[0m\n",
      "\u001b[34m[77]#011train-error:0.115333#011validation-error:0.1718\u001b[0m\n",
      "\u001b[34m[03:37:50] src/tree/updater_prune.cc:74: tree pruning end, 1 roots, 18 extra nodes, 8 pruned nodes, max_depth=5\u001b[0m\n",
      "\u001b[34m[78]#011train-error:0.114467#011validation-error:0.1711\u001b[0m\n",
      "\u001b[34m[03:37:51] src/tree/updater_prune.cc:74: tree pruning end, 1 roots, 24 extra nodes, 4 pruned nodes, max_depth=5\u001b[0m\n",
      "\u001b[34m[79]#011train-error:0.1132#011validation-error:0.1706\u001b[0m\n",
      "\u001b[34m[03:37:52] src/tree/updater_prune.cc:74: tree pruning end, 1 roots, 14 extra nodes, 20 pruned nodes, max_depth=5\u001b[0m\n",
      "\u001b[34m[80]#011train-error:0.112067#011validation-error:0.1703\u001b[0m\n",
      "\u001b[34m[03:37:54] src/tree/updater_prune.cc:74: tree pruning end, 1 roots, 12 extra nodes, 4 pruned nodes, max_depth=5\u001b[0m\n",
      "\u001b[34m[81]#011train-error:0.112933#011validation-error:0.17\u001b[0m\n",
      "\u001b[34m[03:37:55] src/tree/updater_prune.cc:74: tree pruning end, 1 roots, 10 extra nodes, 4 pruned nodes, max_depth=5\u001b[0m\n",
      "\u001b[34m[82]#011train-error:0.112267#011validation-error:0.1703\u001b[0m\n",
      "\u001b[34m[03:37:56] src/tree/updater_prune.cc:74: tree pruning end, 1 roots, 28 extra nodes, 10 pruned nodes, max_depth=5\u001b[0m\n",
      "\u001b[34m[83]#011train-error:0.111533#011validation-error:0.1699\u001b[0m\n",
      "\u001b[34m[03:37:57] src/tree/updater_prune.cc:74: tree pruning end, 1 roots, 18 extra nodes, 8 pruned nodes, max_depth=5\u001b[0m\n",
      "\u001b[34m[84]#011train-error:0.110467#011validation-error:0.1695\u001b[0m\n",
      "\u001b[34m[03:37:59] src/tree/updater_prune.cc:74: tree pruning end, 1 roots, 26 extra nodes, 2 pruned nodes, max_depth=5\u001b[0m\n",
      "\u001b[34m[85]#011train-error:0.1098#011validation-error:0.169\u001b[0m\n",
      "\u001b[34m[03:38:00] src/tree/updater_prune.cc:74: tree pruning end, 1 roots, 34 extra nodes, 8 pruned nodes, max_depth=5\u001b[0m\n",
      "\u001b[34m[86]#011train-error:0.108267#011validation-error:0.168\u001b[0m\n",
      "\u001b[34m[03:38:01] src/tree/updater_prune.cc:74: tree pruning end, 1 roots, 24 extra nodes, 10 pruned nodes, max_depth=5\u001b[0m\n",
      "\u001b[34m[87]#011train-error:0.107667#011validation-error:0.1677\u001b[0m\n",
      "\u001b[34m[03:38:03] src/tree/updater_prune.cc:74: tree pruning end, 1 roots, 16 extra nodes, 12 pruned nodes, max_depth=5\u001b[0m\n",
      "\u001b[34m[88]#011train-error:0.1078#011validation-error:0.167\u001b[0m\n",
      "\u001b[34m[03:38:04] src/tree/updater_prune.cc:74: tree pruning end, 1 roots, 14 extra nodes, 6 pruned nodes, max_depth=5\u001b[0m\n",
      "\u001b[34m[89]#011train-error:0.107733#011validation-error:0.1677\u001b[0m\n",
      "\u001b[34m[03:38:05] src/tree/updater_prune.cc:74: tree pruning end, 1 roots, 16 extra nodes, 16 pruned nodes, max_depth=5\u001b[0m\n",
      "\u001b[34m[90]#011train-error:0.107133#011validation-error:0.1678\u001b[0m\n",
      "\u001b[34m[03:38:06] src/tree/updater_prune.cc:74: tree pruning end, 1 roots, 24 extra nodes, 12 pruned nodes, max_depth=5\u001b[0m\n",
      "\u001b[34m[91]#011train-error:0.105933#011validation-error:0.1668\u001b[0m\n",
      "\u001b[34m[03:38:08] src/tree/updater_prune.cc:74: tree pruning end, 1 roots, 16 extra nodes, 10 pruned nodes, max_depth=5\u001b[0m\n",
      "\u001b[34m[92]#011train-error:0.105133#011validation-error:0.1662\u001b[0m\n",
      "\u001b[34m[03:38:09] src/tree/updater_prune.cc:74: tree pruning end, 1 roots, 24 extra nodes, 16 pruned nodes, max_depth=5\u001b[0m\n",
      "\u001b[34m[93]#011train-error:0.1042#011validation-error:0.1651\u001b[0m\n",
      "\u001b[34m[03:38:10] src/tree/updater_prune.cc:74: tree pruning end, 1 roots, 16 extra nodes, 4 pruned nodes, max_depth=5\u001b[0m\n",
      "\u001b[34m[94]#011train-error:0.1036#011validation-error:0.1659\u001b[0m\n",
      "\u001b[34m[03:38:12] src/tree/updater_prune.cc:74: tree pruning end, 1 roots, 30 extra nodes, 6 pruned nodes, max_depth=5\u001b[0m\n",
      "\u001b[34m[95]#011train-error:0.102933#011validation-error:0.1652\u001b[0m\n",
      "\u001b[34m[03:38:13] src/tree/updater_prune.cc:74: tree pruning end, 1 roots, 12 extra nodes, 6 pruned nodes, max_depth=5\u001b[0m\n",
      "\u001b[34m[96]#011train-error:0.1022#011validation-error:0.1645\u001b[0m\n",
      "\u001b[34m[03:38:14] src/tree/updater_prune.cc:74: tree pruning end, 1 roots, 12 extra nodes, 12 pruned nodes, max_depth=5\u001b[0m\n",
      "\u001b[34m[97]#011train-error:0.102333#011validation-error:0.1651\u001b[0m\n",
      "\u001b[34m[03:38:15] src/tree/updater_prune.cc:74: tree pruning end, 1 roots, 20 extra nodes, 14 pruned nodes, max_depth=5\u001b[0m\n",
      "\u001b[34m[98]#011train-error:0.101667#011validation-error:0.1635\u001b[0m\n",
      "\u001b[34m[03:38:17] src/tree/updater_prune.cc:74: tree pruning end, 1 roots, 26 extra nodes, 4 pruned nodes, max_depth=5\u001b[0m\n",
      "\u001b[34m[99]#011train-error:0.1008#011validation-error:0.1628\u001b[0m\n",
      "\u001b[34m[03:38:18] src/tree/updater_prune.cc:74: tree pruning end, 1 roots, 24 extra nodes, 10 pruned nodes, max_depth=5\u001b[0m\n",
      "\u001b[34m[100]#011train-error:0.1#011validation-error:0.1621\u001b[0m\n",
      "\u001b[34m[03:38:19] src/tree/updater_prune.cc:74: tree pruning end, 1 roots, 18 extra nodes, 2 pruned nodes, max_depth=5\u001b[0m\n",
      "\u001b[34m[101]#011train-error:0.099133#011validation-error:0.1625\u001b[0m\n",
      "\u001b[34m[03:38:21] src/tree/updater_prune.cc:74: tree pruning end, 1 roots, 26 extra nodes, 0 pruned nodes, max_depth=5\u001b[0m\n",
      "\u001b[34m[102]#011train-error:0.097933#011validation-error:0.162\u001b[0m\n",
      "\u001b[34m[03:38:22] src/tree/updater_prune.cc:74: tree pruning end, 1 roots, 10 extra nodes, 2 pruned nodes, max_depth=5\u001b[0m\n",
      "\u001b[34m[103]#011train-error:0.097667#011validation-error:0.1619\u001b[0m\n",
      "\u001b[34m[03:38:23] src/tree/updater_prune.cc:74: tree pruning end, 1 roots, 26 extra nodes, 12 pruned nodes, max_depth=5\u001b[0m\n",
      "\u001b[34m[104]#011train-error:0.097333#011validation-error:0.1608\u001b[0m\n",
      "\u001b[34m[03:38:24] src/tree/updater_prune.cc:74: tree pruning end, 1 roots, 22 extra nodes, 10 pruned nodes, max_depth=5\u001b[0m\n",
      "\u001b[34m[105]#011train-error:0.096933#011validation-error:0.1605\u001b[0m\n",
      "\u001b[34m[03:38:26] src/tree/updater_prune.cc:74: tree pruning end, 1 roots, 12 extra nodes, 6 pruned nodes, max_depth=5\u001b[0m\n",
      "\u001b[34m[106]#011train-error:0.0966#011validation-error:0.1601\u001b[0m\n",
      "\u001b[34m[03:38:27] src/tree/updater_prune.cc:74: tree pruning end, 1 roots, 14 extra nodes, 8 pruned nodes, max_depth=5\u001b[0m\n",
      "\u001b[34m[107]#011train-error:0.095667#011validation-error:0.1599\u001b[0m\n",
      "\u001b[34m[03:38:28] src/tree/updater_prune.cc:74: tree pruning end, 1 roots, 18 extra nodes, 4 pruned nodes, max_depth=5\u001b[0m\n",
      "\u001b[34m[108]#011train-error:0.094667#011validation-error:0.1603\u001b[0m\n",
      "\u001b[34m[03:38:30] src/tree/updater_prune.cc:74: tree pruning end, 1 roots, 20 extra nodes, 4 pruned nodes, max_depth=5\u001b[0m\n",
      "\u001b[34m[109]#011train-error:0.0952#011validation-error:0.1599\u001b[0m\n",
      "\u001b[34m[03:38:31] src/tree/updater_prune.cc:74: tree pruning end, 1 roots, 14 extra nodes, 4 pruned nodes, max_depth=5\u001b[0m\n",
      "\u001b[34m[110]#011train-error:0.094133#011validation-error:0.1602\u001b[0m\n",
      "\u001b[34m[03:38:32] src/tree/updater_prune.cc:74: tree pruning end, 1 roots, 16 extra nodes, 8 pruned nodes, max_depth=5\u001b[0m\n",
      "\u001b[34m[111]#011train-error:0.093867#011validation-error:0.1595\u001b[0m\n",
      "\u001b[34m[03:38:33] src/tree/updater_prune.cc:74: tree pruning end, 1 roots, 26 extra nodes, 10 pruned nodes, max_depth=5\u001b[0m\n",
      "\u001b[34m[112]#011train-error:0.0934#011validation-error:0.1597\u001b[0m\n",
      "\u001b[34m[03:38:35] src/tree/updater_prune.cc:74: tree pruning end, 1 roots, 20 extra nodes, 6 pruned nodes, max_depth=5\u001b[0m\n",
      "\u001b[34m[113]#011train-error:0.093133#011validation-error:0.1593\u001b[0m\n",
      "\u001b[34m[03:38:36] src/tree/updater_prune.cc:74: tree pruning end, 1 roots, 20 extra nodes, 8 pruned nodes, max_depth=5\u001b[0m\n",
      "\u001b[34m[114]#011train-error:0.0918#011validation-error:0.1588\u001b[0m\n",
      "\u001b[34m[03:38:37] src/tree/updater_prune.cc:74: tree pruning end, 1 roots, 28 extra nodes, 10 pruned nodes, max_depth=5\u001b[0m\n",
      "\u001b[34m[115]#011train-error:0.0916#011validation-error:0.1583\u001b[0m\n",
      "\u001b[34m[03:38:39] src/tree/updater_prune.cc:74: tree pruning end, 1 roots, 22 extra nodes, 10 pruned nodes, max_depth=5\u001b[0m\n",
      "\u001b[34m[116]#011train-error:0.0916#011validation-error:0.1584\u001b[0m\n",
      "\u001b[34m[03:38:40] src/tree/updater_prune.cc:74: tree pruning end, 1 roots, 14 extra nodes, 6 pruned nodes, max_depth=5\u001b[0m\n",
      "\u001b[34m[117]#011train-error:0.090733#011validation-error:0.1577\u001b[0m\n",
      "\u001b[34m[03:38:41] src/tree/updater_prune.cc:74: tree pruning end, 1 roots, 12 extra nodes, 4 pruned nodes, max_depth=5\u001b[0m\n",
      "\u001b[34m[118]#011train-error:0.090467#011validation-error:0.1575\u001b[0m\n",
      "\u001b[34m[03:38:42] src/tree/updater_prune.cc:74: tree pruning end, 1 roots, 18 extra nodes, 10 pruned nodes, max_depth=5\u001b[0m\n",
      "\u001b[34m[119]#011train-error:0.090267#011validation-error:0.157\u001b[0m\n",
      "\u001b[34m[03:38:44] src/tree/updater_prune.cc:74: tree pruning end, 1 roots, 22 extra nodes, 8 pruned nodes, max_depth=5\u001b[0m\n",
      "\u001b[34m[120]#011train-error:0.089467#011validation-error:0.1562\u001b[0m\n",
      "\u001b[34m[03:38:45] src/tree/updater_prune.cc:74: tree pruning end, 1 roots, 12 extra nodes, 4 pruned nodes, max_depth=5\u001b[0m\n",
      "\u001b[34m[121]#011train-error:0.089133#011validation-error:0.1561\u001b[0m\n",
      "\u001b[34m[03:38:46] src/tree/updater_prune.cc:74: tree pruning end, 1 roots, 26 extra nodes, 4 pruned nodes, max_depth=5\u001b[0m\n",
      "\u001b[34m[122]#011train-error:0.088933#011validation-error:0.1543\u001b[0m\n",
      "\u001b[34m[03:38:48] src/tree/updater_prune.cc:74: tree pruning end, 1 roots, 18 extra nodes, 4 pruned nodes, max_depth=5\u001b[0m\n",
      "\u001b[34m[123]#011train-error:0.0884#011validation-error:0.1555\u001b[0m\n",
      "\u001b[34m[03:38:49] src/tree/updater_prune.cc:74: tree pruning end, 1 roots, 10 extra nodes, 2 pruned nodes, max_depth=5\u001b[0m\n",
      "\u001b[34m[124]#011train-error:0.087733#011validation-error:0.1559\u001b[0m\n",
      "\u001b[34m[03:38:50] src/tree/updater_prune.cc:74: tree pruning end, 1 roots, 16 extra nodes, 6 pruned nodes, max_depth=5\u001b[0m\n",
      "\u001b[34m[125]#011train-error:0.087467#011validation-error:0.1553\u001b[0m\n",
      "\u001b[34m[03:38:51] src/tree/updater_prune.cc:74: tree pruning end, 1 roots, 10 extra nodes, 16 pruned nodes, max_depth=5\u001b[0m\n",
      "\u001b[34m[126]#011train-error:0.087667#011validation-error:0.1548\u001b[0m\n",
      "\u001b[34m[03:38:53] src/tree/updater_prune.cc:74: tree pruning end, 1 roots, 18 extra nodes, 4 pruned nodes, max_depth=5\u001b[0m\n",
      "\u001b[34m[127]#011train-error:0.086867#011validation-error:0.1545\u001b[0m\n",
      "\u001b[34m[03:38:54] src/tree/updater_prune.cc:74: tree pruning end, 1 roots, 14 extra nodes, 4 pruned nodes, max_depth=5\u001b[0m\n",
      "\u001b[34m[128]#011train-error:0.086333#011validation-error:0.1542\u001b[0m\n",
      "\u001b[34m[03:38:55] src/tree/updater_prune.cc:74: tree pruning end, 1 roots, 20 extra nodes, 8 pruned nodes, max_depth=5\u001b[0m\n",
      "\u001b[34m[129]#011train-error:0.085#011validation-error:0.1547\u001b[0m\n",
      "\u001b[34m[03:38:57] src/tree/updater_prune.cc:74: tree pruning end, 1 roots, 18 extra nodes, 6 pruned nodes, max_depth=5\u001b[0m\n",
      "\u001b[34m[130]#011train-error:0.083867#011validation-error:0.1543\u001b[0m\n",
      "\u001b[34m[03:38:58] src/tree/updater_prune.cc:74: tree pruning end, 1 roots, 22 extra nodes, 2 pruned nodes, max_depth=5\u001b[0m\n",
      "\u001b[34m[131]#011train-error:0.0836#011validation-error:0.1541\u001b[0m\n",
      "\u001b[34m[03:38:59] src/tree/updater_prune.cc:74: tree pruning end, 1 roots, 18 extra nodes, 8 pruned nodes, max_depth=5\u001b[0m\n",
      "\u001b[34m[132]#011train-error:0.083267#011validation-error:0.1538\u001b[0m\n",
      "\u001b[34m[03:39:00] src/tree/updater_prune.cc:74: tree pruning end, 1 roots, 22 extra nodes, 2 pruned nodes, max_depth=5\u001b[0m\n",
      "\u001b[34m[133]#011train-error:0.083#011validation-error:0.1539\u001b[0m\n",
      "\u001b[34m[03:39:02] src/tree/updater_prune.cc:74: tree pruning end, 1 roots, 16 extra nodes, 4 pruned nodes, max_depth=5\u001b[0m\n",
      "\u001b[34m[134]#011train-error:0.082133#011validation-error:0.1539\u001b[0m\n",
      "\u001b[34m[03:39:03] src/tree/updater_prune.cc:74: tree pruning end, 1 roots, 18 extra nodes, 8 pruned nodes, max_depth=5\u001b[0m\n",
      "\u001b[34m[135]#011train-error:0.0816#011validation-error:0.1538\u001b[0m\n",
      "\u001b[34m[03:39:04] src/tree/updater_prune.cc:74: tree pruning end, 1 roots, 12 extra nodes, 12 pruned nodes, max_depth=5\u001b[0m\n",
      "\u001b[34m[136]#011train-error:0.0816#011validation-error:0.1531\u001b[0m\n",
      "\u001b[34m[03:39:06] src/tree/updater_prune.cc:74: tree pruning end, 1 roots, 12 extra nodes, 10 pruned nodes, max_depth=5\u001b[0m\n",
      "\u001b[34m[137]#011train-error:0.081733#011validation-error:0.1523\u001b[0m\n",
      "\u001b[34m[03:39:07] src/tree/updater_prune.cc:74: tree pruning end, 1 roots, 14 extra nodes, 6 pruned nodes, max_depth=5\u001b[0m\n",
      "\u001b[34m[138]#011train-error:0.0808#011validation-error:0.1522\u001b[0m\n",
      "\u001b[34m[03:39:08] src/tree/updater_prune.cc:74: tree pruning end, 1 roots, 12 extra nodes, 10 pruned nodes, max_depth=5\u001b[0m\n",
      "\u001b[34m[139]#011train-error:0.080667#011validation-error:0.152\u001b[0m\n",
      "\u001b[34m[03:39:10] src/tree/updater_prune.cc:74: tree pruning end, 1 roots, 16 extra nodes, 10 pruned nodes, max_depth=5\u001b[0m\n",
      "\u001b[34m[140]#011train-error:0.080667#011validation-error:0.152\u001b[0m\n",
      "\u001b[34m[03:39:11] src/tree/updater_prune.cc:74: tree pruning end, 1 roots, 10 extra nodes, 6 pruned nodes, max_depth=5\u001b[0m\n",
      "\u001b[34m[141]#011train-error:0.080733#011validation-error:0.1516\u001b[0m\n",
      "\u001b[34m[03:39:12] src/tree/updater_prune.cc:74: tree pruning end, 1 roots, 10 extra nodes, 12 pruned nodes, max_depth=5\u001b[0m\n",
      "\u001b[34m[142]#011train-error:0.0804#011validation-error:0.152\u001b[0m\n",
      "\u001b[34m[03:39:13] src/tree/updater_prune.cc:74: tree pruning end, 1 roots, 10 extra nodes, 0 pruned nodes, max_depth=5\u001b[0m\n",
      "\u001b[34m[143]#011train-error:0.079933#011validation-error:0.1519\u001b[0m\n",
      "\u001b[34m[03:39:15] src/tree/updater_prune.cc:74: tree pruning end, 1 roots, 10 extra nodes, 8 pruned nodes, max_depth=5\u001b[0m\n",
      "\u001b[34m[144]#011train-error:0.0798#011validation-error:0.1522\u001b[0m\n",
      "\u001b[34m[03:39:16] src/tree/updater_prune.cc:74: tree pruning end, 1 roots, 30 extra nodes, 8 pruned nodes, max_depth=5\u001b[0m\n",
      "\u001b[34m[145]#011train-error:0.0798#011validation-error:0.152\u001b[0m\n",
      "\u001b[34m[03:39:17] src/tree/updater_prune.cc:74: tree pruning end, 1 roots, 20 extra nodes, 4 pruned nodes, max_depth=5\u001b[0m\n",
      "\u001b[34m[146]#011train-error:0.079267#011validation-error:0.1511\u001b[0m\n",
      "\u001b[34m[03:39:19] src/tree/updater_prune.cc:74: tree pruning end, 1 roots, 14 extra nodes, 18 pruned nodes, max_depth=5\u001b[0m\n",
      "\u001b[34m[147]#011train-error:0.0792#011validation-error:0.1508\u001b[0m\n",
      "\u001b[34m[03:39:20] src/tree/updater_prune.cc:74: tree pruning end, 1 roots, 14 extra nodes, 12 pruned nodes, max_depth=5\u001b[0m\n",
      "\u001b[34m[148]#011train-error:0.0794#011validation-error:0.151\u001b[0m\n",
      "\u001b[34m[03:39:21] src/tree/updater_prune.cc:74: tree pruning end, 1 roots, 10 extra nodes, 4 pruned nodes, max_depth=5\u001b[0m\n",
      "\u001b[34m[149]#011train-error:0.079#011validation-error:0.1508\u001b[0m\n",
      "\u001b[34m[03:39:23] src/tree/updater_prune.cc:74: tree pruning end, 1 roots, 32 extra nodes, 6 pruned nodes, max_depth=5\u001b[0m\n",
      "\u001b[34m[150]#011train-error:0.0786#011validation-error:0.1516\u001b[0m\n",
      "\u001b[34m[03:39:24] src/tree/updater_prune.cc:74: tree pruning end, 1 roots, 12 extra nodes, 0 pruned nodes, max_depth=5\u001b[0m\n",
      "\u001b[34m[151]#011train-error:0.078267#011validation-error:0.1516\u001b[0m\n",
      "\n",
      "2020-12-22 03:39:37 Uploading - Uploading generated training model\u001b[34m[03:39:25] src/tree/updater_prune.cc:74: tree pruning end, 1 roots, 12 extra nodes, 8 pruned nodes, max_depth=5\u001b[0m\n",
      "\u001b[34m[152]#011train-error:0.0782#011validation-error:0.1515\u001b[0m\n",
      "\u001b[34m[03:39:27] src/tree/updater_prune.cc:74: tree pruning end, 1 roots, 16 extra nodes, 12 pruned nodes, max_depth=5\u001b[0m\n",
      "\u001b[34m[153]#011train-error:0.0784#011validation-error:0.1519\u001b[0m\n",
      "\u001b[34m[03:39:28] src/tree/updater_prune.cc:74: tree pruning end, 1 roots, 10 extra nodes, 10 pruned nodes, max_depth=5\u001b[0m\n",
      "\u001b[34m[154]#011train-error:0.0784#011validation-error:0.1519\u001b[0m\n",
      "\u001b[34m[03:39:29] src/tree/updater_prune.cc:74: tree pruning end, 1 roots, 14 extra nodes, 10 pruned nodes, max_depth=5\u001b[0m\n",
      "\u001b[34m[155]#011train-error:0.077933#011validation-error:0.1524\u001b[0m\n",
      "\u001b[34m[03:39:30] src/tree/updater_prune.cc:74: tree pruning end, 1 roots, 12 extra nodes, 8 pruned nodes, max_depth=5\u001b[0m\n",
      "\u001b[34m[156]#011train-error:0.077867#011validation-error:0.152\u001b[0m\n",
      "\u001b[34m[03:39:32] src/tree/updater_prune.cc:74: tree pruning end, 1 roots, 18 extra nodes, 8 pruned nodes, max_depth=5\u001b[0m\n",
      "\u001b[34m[157]#011train-error:0.077333#011validation-error:0.1511\u001b[0m\n",
      "\u001b[34mStopping. Best iteration:\u001b[0m\n",
      "\u001b[34m[147]#011train-error:0.0792#011validation-error:0.1508\n",
      "\u001b[0m\n",
      "\n",
      "2020-12-22 03:39:44 Completed - Training job completed\n",
      "Training seconds: 265\n",
      "Billable seconds: 265\n"
     ]
    }
   ],
   "source": [
    "xgb.fit({'train': s3_input_train, 'validation': s3_input_validation})"
   ]
  },
  {
   "cell_type": "markdown",
   "metadata": {},
   "source": [
    "## Step 5: Testing the model\n",
    "\n",
    "Now that we've fit our XGBoost model, it's time to see how well it performs. To do this we will use SageMakers Batch Transform functionality. Batch Transform is a convenient way to perform inference on a large dataset in a way that is not realtime. That is, we don't necessarily need to use our model's results immediately and instead we can perform inference on a large number of samples. An example of this in industry might be performing an end of month report. This method of inference can also be useful to us as it means that we can perform inference on our entire test set. \n",
    "\n",
    "To perform a Batch Transformation we need to first create a transformer objects from our trained estimator object."
   ]
  },
  {
   "cell_type": "code",
   "execution_count": 25,
   "metadata": {},
   "outputs": [
    {
     "name": "stderr",
     "output_type": "stream",
     "text": [
      "Parameter image will be renamed to image_uri in SageMaker Python SDK v2.\n"
     ]
    }
   ],
   "source": [
    "xgb_transformer = xgb.transformer(instance_count = 1, instance_type = 'ml.m4.xlarge')"
   ]
  },
  {
   "cell_type": "markdown",
   "metadata": {},
   "source": [
    "Next we actually perform the transform job. When doing so we need to make sure to specify the type of data we are sending so that it is serialized correctly in the background. In our case we are providing our model with csv data so we specify `text/csv`. Also, if the test data that we have provided is too large to process all at once then we need to specify how the data file should be split up. Since each line is a single entry in our data set we tell SageMaker that it can split the input on each line."
   ]
  },
  {
   "cell_type": "code",
   "execution_count": 26,
   "metadata": {},
   "outputs": [],
   "source": [
    "xgb_transformer.transform(test_location, content_type='text/csv', split_type='Line')"
   ]
  },
  {
   "cell_type": "markdown",
   "metadata": {},
   "source": [
    "Currently the transform job is running but it is doing so in the background. Since we wish to wait until the transform job is done and we would like a bit of feedback we can run the `wait()` method."
   ]
  },
  {
   "cell_type": "code",
   "execution_count": 27,
   "metadata": {},
   "outputs": [
    {
     "name": "stdout",
     "output_type": "stream",
     "text": [
      "...............................\u001b[32m2020-12-22T03:45:21.227:[sagemaker logs]: MaxConcurrentTransforms=4, MaxPayloadInMB=6, BatchStrategy=MULTI_RECORD\u001b[0m\n",
      "\u001b[34mArguments: serve\u001b[0m\n",
      "\u001b[34m[2020-12-22 03:45:21 +0000] [1] [INFO] Starting gunicorn 19.7.1\u001b[0m\n",
      "\u001b[34m[2020-12-22 03:45:21 +0000] [1] [INFO] Listening at: http://0.0.0.0:8080 (1)\u001b[0m\n",
      "\u001b[34m[2020-12-22 03:45:21 +0000] [1] [INFO] Using worker: gevent\u001b[0m\n",
      "\u001b[34m[2020-12-22 03:45:21 +0000] [36] [INFO] Booting worker with pid: 36\u001b[0m\n",
      "\u001b[34m[2020-12-22 03:45:21 +0000] [37] [INFO] Booting worker with pid: 37\u001b[0m\n",
      "\u001b[34m[2020-12-22 03:45:21 +0000] [38] [INFO] Booting worker with pid: 38\u001b[0m\n",
      "\u001b[35mArguments: serve\u001b[0m\n",
      "\u001b[35m[2020-12-22 03:45:21 +0000] [1] [INFO] Starting gunicorn 19.7.1\u001b[0m\n",
      "\u001b[35m[2020-12-22 03:45:21 +0000] [1] [INFO] Listening at: http://0.0.0.0:8080 (1)\u001b[0m\n",
      "\u001b[35m[2020-12-22 03:45:21 +0000] [1] [INFO] Using worker: gevent\u001b[0m\n",
      "\u001b[35m[2020-12-22 03:45:21 +0000] [36] [INFO] Booting worker with pid: 36\u001b[0m\n",
      "\u001b[35m[2020-12-22 03:45:21 +0000] [37] [INFO] Booting worker with pid: 37\u001b[0m\n",
      "\u001b[35m[2020-12-22 03:45:21 +0000] [38] [INFO] Booting worker with pid: 38\u001b[0m\n",
      "\u001b[34m[2020-12-22 03:45:21 +0000] [39] [INFO] Booting worker with pid: 39\u001b[0m\n",
      "\u001b[34m[2020-12-22:03:45:21:INFO] Model loaded successfully for worker : 36\u001b[0m\n",
      "\u001b[34m[2020-12-22:03:45:21:INFO] Model loaded successfully for worker : 37\u001b[0m\n",
      "\u001b[34m[2020-12-22:03:45:21:INFO] Model loaded successfully for worker : 38\u001b[0m\n",
      "\u001b[34m[2020-12-22:03:45:21:INFO] Model loaded successfully for worker : 39\u001b[0m\n",
      "\u001b[34m[2020-12-22:03:45:21:INFO] Sniff delimiter as ','\u001b[0m\n",
      "\u001b[34m[2020-12-22:03:45:21:INFO] Determined delimiter of CSV input is ','\u001b[0m\n",
      "\u001b[34m[2020-12-22:03:45:21:INFO] Sniff delimiter as ','\u001b[0m\n",
      "\u001b[34m[2020-12-22:03:45:21:INFO] Determined delimiter of CSV input is ','\u001b[0m\n",
      "\u001b[34m[2020-12-22:03:45:21:INFO] Sniff delimiter as ','\u001b[0m\n",
      "\u001b[34m[2020-12-22:03:45:21:INFO] Determined delimiter of CSV input is ','\u001b[0m\n",
      "\u001b[35m[2020-12-22 03:45:21 +0000] [39] [INFO] Booting worker with pid: 39\u001b[0m\n",
      "\u001b[35m[2020-12-22:03:45:21:INFO] Model loaded successfully for worker : 36\u001b[0m\n",
      "\u001b[35m[2020-12-22:03:45:21:INFO] Model loaded successfully for worker : 37\u001b[0m\n",
      "\u001b[35m[2020-12-22:03:45:21:INFO] Model loaded successfully for worker : 38\u001b[0m\n",
      "\u001b[35m[2020-12-22:03:45:21:INFO] Model loaded successfully for worker : 39\u001b[0m\n",
      "\u001b[35m[2020-12-22:03:45:21:INFO] Sniff delimiter as ','\u001b[0m\n",
      "\u001b[35m[2020-12-22:03:45:21:INFO] Determined delimiter of CSV input is ','\u001b[0m\n",
      "\u001b[35m[2020-12-22:03:45:21:INFO] Sniff delimiter as ','\u001b[0m\n",
      "\u001b[35m[2020-12-22:03:45:21:INFO] Determined delimiter of CSV input is ','\u001b[0m\n",
      "\u001b[35m[2020-12-22:03:45:21:INFO] Sniff delimiter as ','\u001b[0m\n",
      "\u001b[35m[2020-12-22:03:45:21:INFO] Determined delimiter of CSV input is ','\u001b[0m\n",
      "\u001b[34m[2020-12-22:03:45:22:INFO] Sniff delimiter as ','\u001b[0m\n",
      "\u001b[34m[2020-12-22:03:45:22:INFO] Determined delimiter of CSV input is ','\u001b[0m\n",
      "\u001b[35m[2020-12-22:03:45:22:INFO] Sniff delimiter as ','\u001b[0m\n",
      "\u001b[35m[2020-12-22:03:45:22:INFO] Determined delimiter of CSV input is ','\u001b[0m\n",
      "\u001b[34m[2020-12-22:03:45:24:INFO] Sniff delimiter as ','\u001b[0m\n",
      "\u001b[34m[2020-12-22:03:45:24:INFO] Determined delimiter of CSV input is ','\u001b[0m\n",
      "\u001b[35m[2020-12-22:03:45:24:INFO] Sniff delimiter as ','\u001b[0m\n",
      "\u001b[35m[2020-12-22:03:45:24:INFO] Determined delimiter of CSV input is ','\u001b[0m\n",
      "\u001b[34m[2020-12-22:03:45:24:INFO] Sniff delimiter as ','\u001b[0m\n",
      "\u001b[34m[2020-12-22:03:45:24:INFO] Determined delimiter of CSV input is ','\u001b[0m\n",
      "\u001b[34m[2020-12-22:03:45:24:INFO] Sniff delimiter as ','\u001b[0m\n",
      "\u001b[34m[2020-12-22:03:45:24:INFO] Determined delimiter of CSV input is ','\u001b[0m\n",
      "\u001b[34m[2020-12-22:03:45:24:INFO] Sniff delimiter as ','\u001b[0m\n",
      "\u001b[34m[2020-12-22:03:45:24:INFO] Determined delimiter of CSV input is ','\u001b[0m\n",
      "\u001b[35m[2020-12-22:03:45:24:INFO] Sniff delimiter as ','\u001b[0m\n",
      "\u001b[35m[2020-12-22:03:45:24:INFO] Determined delimiter of CSV input is ','\u001b[0m\n",
      "\u001b[35m[2020-12-22:03:45:24:INFO] Sniff delimiter as ','\u001b[0m\n",
      "\u001b[35m[2020-12-22:03:45:24:INFO] Determined delimiter of CSV input is ','\u001b[0m\n",
      "\u001b[35m[2020-12-22:03:45:24:INFO] Sniff delimiter as ','\u001b[0m\n",
      "\u001b[35m[2020-12-22:03:45:24:INFO] Determined delimiter of CSV input is ','\u001b[0m\n",
      "\u001b[34m[2020-12-22:03:45:26:INFO] Sniff delimiter as ','\u001b[0m\n",
      "\u001b[34m[2020-12-22:03:45:26:INFO] Determined delimiter of CSV input is ','\u001b[0m\n",
      "\u001b[34m[2020-12-22:03:45:26:INFO] Sniff delimiter as ','\u001b[0m\n",
      "\u001b[34m[2020-12-22:03:45:26:INFO] Determined delimiter of CSV input is ','\u001b[0m\n",
      "\u001b[34m[2020-12-22:03:45:26:INFO] Sniff delimiter as ','\u001b[0m\n",
      "\u001b[34m[2020-12-22:03:45:26:INFO] Determined delimiter of CSV input is ','\u001b[0m\n",
      "\u001b[34m[2020-12-22:03:45:27:INFO] Sniff delimiter as ','\u001b[0m\n",
      "\u001b[34m[2020-12-22:03:45:27:INFO] Determined delimiter of CSV input is ','\u001b[0m\n",
      "\u001b[35m[2020-12-22:03:45:26:INFO] Sniff delimiter as ','\u001b[0m\n",
      "\u001b[35m[2020-12-22:03:45:26:INFO] Determined delimiter of CSV input is ','\u001b[0m\n",
      "\u001b[35m[2020-12-22:03:45:26:INFO] Sniff delimiter as ','\u001b[0m\n",
      "\u001b[35m[2020-12-22:03:45:26:INFO] Determined delimiter of CSV input is ','\u001b[0m\n",
      "\u001b[35m[2020-12-22:03:45:26:INFO] Sniff delimiter as ','\u001b[0m\n",
      "\u001b[35m[2020-12-22:03:45:26:INFO] Determined delimiter of CSV input is ','\u001b[0m\n",
      "\u001b[35m[2020-12-22:03:45:27:INFO] Sniff delimiter as ','\u001b[0m\n",
      "\u001b[35m[2020-12-22:03:45:27:INFO] Determined delimiter of CSV input is ','\u001b[0m\n",
      "\u001b[34m[2020-12-22:03:45:28:INFO] Sniff delimiter as ','\u001b[0m\n",
      "\u001b[34m[2020-12-22:03:45:28:INFO] Determined delimiter of CSV input is ','\u001b[0m\n",
      "\u001b[35m[2020-12-22:03:45:28:INFO] Sniff delimiter as ','\u001b[0m\n",
      "\u001b[35m[2020-12-22:03:45:28:INFO] Determined delimiter of CSV input is ','\u001b[0m\n",
      "\u001b[34m[2020-12-22:03:45:29:INFO] Sniff delimiter as ','\u001b[0m\n",
      "\u001b[34m[2020-12-22:03:45:29:INFO] Determined delimiter of CSV input is ','\u001b[0m\n",
      "\u001b[34m[2020-12-22:03:45:29:INFO] Sniff delimiter as ','\u001b[0m\n",
      "\u001b[34m[2020-12-22:03:45:29:INFO] Determined delimiter of CSV input is ','\u001b[0m\n",
      "\u001b[34m[2020-12-22:03:45:29:INFO] Sniff delimiter as ','\u001b[0m\n",
      "\u001b[34m[2020-12-22:03:45:29:INFO] Determined delimiter of CSV input is ','\u001b[0m\n",
      "\u001b[35m[2020-12-22:03:45:29:INFO] Sniff delimiter as ','\u001b[0m\n",
      "\u001b[35m[2020-12-22:03:45:29:INFO] Determined delimiter of CSV input is ','\u001b[0m\n",
      "\u001b[35m[2020-12-22:03:45:29:INFO] Sniff delimiter as ','\u001b[0m\n",
      "\u001b[35m[2020-12-22:03:45:29:INFO] Determined delimiter of CSV input is ','\u001b[0m\n",
      "\u001b[35m[2020-12-22:03:45:29:INFO] Sniff delimiter as ','\u001b[0m\n",
      "\u001b[35m[2020-12-22:03:45:29:INFO] Determined delimiter of CSV input is ','\u001b[0m\n",
      "\u001b[34m[2020-12-22:03:45:32:INFO] Sniff delimiter as ','\u001b[0m\n",
      "\u001b[34m[2020-12-22:03:45:32:INFO] Determined delimiter of CSV input is ','\u001b[0m\n",
      "\u001b[35m[2020-12-22:03:45:32:INFO] Sniff delimiter as ','\u001b[0m\n",
      "\u001b[35m[2020-12-22:03:45:32:INFO] Determined delimiter of CSV input is ','\u001b[0m\n",
      "\u001b[34m[2020-12-22:03:45:33:INFO] Sniff delimiter as ','\u001b[0m\n",
      "\u001b[34m[2020-12-22:03:45:33:INFO] Determined delimiter of CSV input is ','\u001b[0m\n",
      "\u001b[35m[2020-12-22:03:45:33:INFO] Sniff delimiter as ','\u001b[0m\n",
      "\u001b[35m[2020-12-22:03:45:33:INFO] Determined delimiter of CSV input is ','\u001b[0m\n",
      "\u001b[34m[2020-12-22:03:45:34:INFO] Sniff delimiter as ','\u001b[0m\n",
      "\u001b[34m[2020-12-22:03:45:34:INFO] Determined delimiter of CSV input is ','\u001b[0m\n",
      "\u001b[35m[2020-12-22:03:45:34:INFO] Sniff delimiter as ','\u001b[0m\n",
      "\u001b[35m[2020-12-22:03:45:34:INFO] Determined delimiter of CSV input is ','\u001b[0m\n",
      "\u001b[34m[2020-12-22:03:45:34:INFO] Sniff delimiter as ','\u001b[0m\n",
      "\u001b[34m[2020-12-22:03:45:34:INFO] Determined delimiter of CSV input is ','\u001b[0m\n",
      "\u001b[34m[2020-12-22:03:45:34:INFO] Sniff delimiter as ','\u001b[0m\n",
      "\u001b[34m[2020-12-22:03:45:34:INFO] Determined delimiter of CSV input is ','\u001b[0m\n",
      "\u001b[35m[2020-12-22:03:45:34:INFO] Sniff delimiter as ','\u001b[0m\n",
      "\u001b[35m[2020-12-22:03:45:34:INFO] Determined delimiter of CSV input is ','\u001b[0m\n",
      "\u001b[35m[2020-12-22:03:45:34:INFO] Sniff delimiter as ','\u001b[0m\n",
      "\u001b[35m[2020-12-22:03:45:34:INFO] Determined delimiter of CSV input is ','\u001b[0m\n",
      "\u001b[34m[2020-12-22:03:45:36:INFO] Sniff delimiter as ','\u001b[0m\n",
      "\u001b[35m[2020-12-22:03:45:36:INFO] Sniff delimiter as ','\u001b[0m\n",
      "\u001b[34m[2020-12-22:03:45:36:INFO] Determined delimiter of CSV input is ','\u001b[0m\n",
      "\u001b[34m[2020-12-22:03:45:36:INFO] Sniff delimiter as ','\u001b[0m\n",
      "\u001b[34m[2020-12-22:03:45:36:INFO] Determined delimiter of CSV input is ','\u001b[0m\n",
      "\u001b[34m[2020-12-22:03:45:36:INFO] Sniff delimiter as ','\u001b[0m\n",
      "\u001b[34m[2020-12-22:03:45:36:INFO] Determined delimiter of CSV input is ','\u001b[0m\n",
      "\u001b[34m[2020-12-22:03:45:37:INFO] Sniff delimiter as ','\u001b[0m\n",
      "\u001b[34m[2020-12-22:03:45:37:INFO] Determined delimiter of CSV input is ','\u001b[0m\n",
      "\u001b[35m[2020-12-22:03:45:36:INFO] Determined delimiter of CSV input is ','\u001b[0m\n",
      "\u001b[35m[2020-12-22:03:45:36:INFO] Sniff delimiter as ','\u001b[0m\n",
      "\u001b[35m[2020-12-22:03:45:36:INFO] Determined delimiter of CSV input is ','\u001b[0m\n",
      "\u001b[35m[2020-12-22:03:45:36:INFO] Sniff delimiter as ','\u001b[0m\n",
      "\u001b[35m[2020-12-22:03:45:36:INFO] Determined delimiter of CSV input is ','\u001b[0m\n",
      "\u001b[35m[2020-12-22:03:45:37:INFO] Sniff delimiter as ','\u001b[0m\n",
      "\u001b[35m[2020-12-22:03:45:37:INFO] Determined delimiter of CSV input is ','\u001b[0m\n",
      "\u001b[34m[2020-12-22:03:45:38:INFO] Sniff delimiter as ','\u001b[0m\n",
      "\u001b[34m[2020-12-22:03:45:38:INFO] Determined delimiter of CSV input is ','\u001b[0m\n",
      "\u001b[34m[2020-12-22:03:45:39:INFO] Sniff delimiter as ','\u001b[0m\n",
      "\u001b[34m[2020-12-22:03:45:39:INFO] Determined delimiter of CSV input is ','\u001b[0m\n",
      "\u001b[35m[2020-12-22:03:45:38:INFO] Sniff delimiter as ','\u001b[0m\n",
      "\u001b[35m[2020-12-22:03:45:38:INFO] Determined delimiter of CSV input is ','\u001b[0m\n",
      "\u001b[35m[2020-12-22:03:45:39:INFO] Sniff delimiter as ','\u001b[0m\n",
      "\u001b[35m[2020-12-22:03:45:39:INFO] Determined delimiter of CSV input is ','\u001b[0m\n",
      "\u001b[34m[2020-12-22:03:45:39:INFO] Sniff delimiter as ','\u001b[0m\n",
      "\u001b[34m[2020-12-22:03:45:39:INFO] Determined delimiter of CSV input is ','\u001b[0m\n",
      "\u001b[34m[2020-12-22:03:45:39:INFO] Sniff delimiter as ','\u001b[0m\n",
      "\u001b[34m[2020-12-22:03:45:39:INFO] Determined delimiter of CSV input is ','\u001b[0m\n",
      "\u001b[35m[2020-12-22:03:45:39:INFO] Sniff delimiter as ','\u001b[0m\n",
      "\u001b[35m[2020-12-22:03:45:39:INFO] Determined delimiter of CSV input is ','\u001b[0m\n",
      "\u001b[35m[2020-12-22:03:45:39:INFO] Sniff delimiter as ','\u001b[0m\n",
      "\u001b[35m[2020-12-22:03:45:39:INFO] Determined delimiter of CSV input is ','\u001b[0m\n",
      "\n",
      "\u001b[34m[2020-12-22:03:45:41:INFO] Sniff delimiter as ','\u001b[0m\n",
      "\u001b[34m[2020-12-22:03:45:41:INFO] Determined delimiter of CSV input is ','\u001b[0m\n",
      "\u001b[34m[2020-12-22:03:45:41:INFO] Sniff delimiter as ','\u001b[0m\n",
      "\u001b[34m[2020-12-22:03:45:41:INFO] Determined delimiter of CSV input is ','\u001b[0m\n",
      "\u001b[35m[2020-12-22:03:45:41:INFO] Sniff delimiter as ','\u001b[0m\n",
      "\u001b[35m[2020-12-22:03:45:41:INFO] Determined delimiter of CSV input is ','\u001b[0m\n",
      "\u001b[35m[2020-12-22:03:45:41:INFO] Sniff delimiter as ','\u001b[0m\n",
      "\u001b[35m[2020-12-22:03:45:41:INFO] Determined delimiter of CSV input is ','\u001b[0m\n",
      "\u001b[34m[2020-12-22:03:45:43:INFO] Sniff delimiter as ','\u001b[0m\n",
      "\u001b[35m[2020-12-22:03:45:43:INFO] Sniff delimiter as ','\u001b[0m\n",
      "\u001b[34m[2020-12-22:03:45:43:INFO] Determined delimiter of CSV input is ','\u001b[0m\n",
      "\u001b[34m[2020-12-22:03:45:44:INFO] Sniff delimiter as ','\u001b[0m\n",
      "\u001b[34m[2020-12-22:03:45:44:INFO] Determined delimiter of CSV input is ','\u001b[0m\n",
      "\u001b[35m[2020-12-22:03:45:43:INFO] Determined delimiter of CSV input is ','\u001b[0m\n",
      "\u001b[35m[2020-12-22:03:45:44:INFO] Sniff delimiter as ','\u001b[0m\n",
      "\u001b[35m[2020-12-22:03:45:44:INFO] Determined delimiter of CSV input is ','\u001b[0m\n",
      "\u001b[34m[2020-12-22:03:45:44:INFO] Sniff delimiter as ','\u001b[0m\n",
      "\u001b[34m[2020-12-22:03:45:44:INFO] Determined delimiter of CSV input is ','\u001b[0m\n",
      "\u001b[34m[2020-12-22:03:45:44:INFO] Sniff delimiter as ','\u001b[0m\n",
      "\u001b[34m[2020-12-22:03:45:44:INFO] Determined delimiter of CSV input is ','\u001b[0m\n",
      "\u001b[35m[2020-12-22:03:45:44:INFO] Sniff delimiter as ','\u001b[0m\n",
      "\u001b[35m[2020-12-22:03:45:44:INFO] Determined delimiter of CSV input is ','\u001b[0m\n",
      "\u001b[35m[2020-12-22:03:45:44:INFO] Sniff delimiter as ','\u001b[0m\n",
      "\u001b[35m[2020-12-22:03:45:44:INFO] Determined delimiter of CSV input is ','\u001b[0m\n"
     ]
    }
   ],
   "source": [
    "xgb_transformer.wait()"
   ]
  },
  {
   "cell_type": "markdown",
   "metadata": {},
   "source": [
    "Now the transform job has executed and the result, the estimated sentiment of each review, has been saved on S3. Since we would rather work on this file locally we can perform a bit of notebook magic to copy the file to the `data_dir`."
   ]
  },
  {
   "cell_type": "code",
   "execution_count": 28,
   "metadata": {},
   "outputs": [
    {
     "name": "stdout",
     "output_type": "stream",
     "text": [
      "download: s3://sagemaker-us-east-1-302590777472/xgboost-2020-12-22-03-40-21-610/test.csv.out to ../data/sentiment_web_app/test.csv.out\r\n"
     ]
    }
   ],
   "source": [
    "!aws s3 cp --recursive $xgb_transformer.output_path $data_dir"
   ]
  },
  {
   "cell_type": "markdown",
   "metadata": {},
   "source": [
    "The last step is now to read in the output from our model, convert the output to something a little more usable, in this case we want the sentiment to be either `1` (positive) or `0` (negative), and then compare to the ground truth labels."
   ]
  },
  {
   "cell_type": "code",
   "execution_count": 29,
   "metadata": {},
   "outputs": [],
   "source": [
    "predictions = pd.read_csv(os.path.join(data_dir, 'test.csv.out'), header=None)\n",
    "predictions = [round(num) for num in predictions.squeeze().values]"
   ]
  },
  {
   "cell_type": "code",
   "execution_count": 30,
   "metadata": {},
   "outputs": [
    {
     "data": {
      "text/plain": [
       "0.85668"
      ]
     },
     "execution_count": 30,
     "metadata": {},
     "output_type": "execute_result"
    }
   ],
   "source": [
    "from sklearn.metrics import accuracy_score\n",
    "accuracy_score(test_y, predictions)"
   ]
  },
  {
   "cell_type": "markdown",
   "metadata": {},
   "source": [
    "## Step 6: Deploying the model\n",
    "\n",
    "Once we construct and fit our model, SageMaker stores the resulting model artifacts and we can use those to deploy an endpoint (inference code). To see this, look in the SageMaker console and you should see that a model has been created along with a link to the S3 location where the model artifacts have been stored.\n",
    "\n",
    "Deploying an endpoint is a lot like training the model with a few important differences. The first is that a deployed model doesn't change the model artifacts, so as you send it various testing instances the model won't change. Another difference is that since we aren't performing a fixed computation, as we were in the training step or while performing a batch transform, the compute instance that gets started stays running until we tell it to stop. This is important to note as if we forget and leave it running we will be charged the entire time.\n",
    "\n",
    "In other words **If you are no longer using a deployed endpoint, shut it down!**"
   ]
  },
  {
   "cell_type": "code",
   "execution_count": 43,
   "metadata": {},
   "outputs": [
    {
     "name": "stderr",
     "output_type": "stream",
     "text": [
      "Parameter image will be renamed to image_uri in SageMaker Python SDK v2.\n",
      "Using already existing model: xgboost-2020-12-22-03-33-04-506\n"
     ]
    },
    {
     "name": "stdout",
     "output_type": "stream",
     "text": [
      "---------------!"
     ]
    }
   ],
   "source": [
    "xgb_predictor = xgb.deploy(initial_instance_count = 1, instance_type = 'ml.m4.xlarge')"
   ]
  },
  {
   "cell_type": "markdown",
   "metadata": {},
   "source": [
    "### Testing the model (again)\n",
    "\n",
    "Now that we have deployed our endpoint, we can send the testing data to it and get back the inference results. We already did this earlier using the batch transform functionality of SageMaker, however, we will test our model again using the newly deployed endpoint so that we can make sure that it works properly and to get a bit of a feel for how the endpoint works.\n",
    "\n",
    "When using the created endpoint it is important to know that we are limited in the amount of information we can send in each call so we need to break the testing data up into chunks and then send each chunk. Also, we need to serialize our data before we send it to the endpoint to ensure that our data is transmitted properly. Fortunately, SageMaker can do the serialization part for us provided we tell it the format of our data."
   ]
  },
  {
   "cell_type": "code",
   "execution_count": 44,
   "metadata": {},
   "outputs": [],
   "source": [
    "from sagemaker.predictor import csv_serializer\n",
    "\n",
    "# We need to tell the endpoint what format the data we are sending is in so that SageMaker can perform the serialization.\n",
    "xgb_predictor.content_type = 'text/csv'\n",
    "xgb_predictor.serializer = csv_serializer"
   ]
  },
  {
   "cell_type": "code",
   "execution_count": 45,
   "metadata": {},
   "outputs": [],
   "source": [
    "# We split the data into chunks and send each chunk seperately, accumulating the results.\n",
    "\n",
    "def predict(data, rows=512):\n",
    "    split_array = np.array_split(data, int(data.shape[0] / float(rows) + 1))\n",
    "    predictions = ''\n",
    "    for array in split_array:\n",
    "        predictions = ','.join([predictions, xgb_predictor.predict(array).decode('utf-8')])\n",
    "    \n",
    "    return np.fromstring(predictions[1:], sep=',')"
   ]
  },
  {
   "cell_type": "code",
   "execution_count": 46,
   "metadata": {},
   "outputs": [],
   "source": [
    "test_X = pd.read_csv(os.path.join(data_dir, 'test.csv'), header=None).values\n",
    "\n",
    "predictions = predict(test_X)\n",
    "predictions = [round(num) for num in predictions]"
   ]
  },
  {
   "cell_type": "markdown",
   "metadata": {},
   "source": [
    "Lastly, we check to see what the accuracy of our model is."
   ]
  },
  {
   "cell_type": "code",
   "execution_count": 47,
   "metadata": {},
   "outputs": [
    {
     "data": {
      "text/plain": [
       "0.85668"
      ]
     },
     "execution_count": 47,
     "metadata": {},
     "output_type": "execute_result"
    }
   ],
   "source": [
    "from sklearn.metrics import accuracy_score\n",
    "accuracy_score(test_y, predictions)"
   ]
  },
  {
   "cell_type": "markdown",
   "metadata": {},
   "source": [
    "And the results here should agree with the model testing that we did earlier using the batch transform job.\n",
    "\n",
    "### Cleaning up\n",
    "\n",
    "Now that we've determined that deploying our model works as expected, we are going to shut it down. Remember that the longer the endpoint is left running, the greater the cost and since we have a bit more work to do before we are able to use our endpoint with our simple web app, we should shut everything down."
   ]
  },
  {
   "cell_type": "code",
   "execution_count": 39,
   "metadata": {},
   "outputs": [
    {
     "ename": "NameError",
     "evalue": "name 'xgb_predictor' is not defined",
     "output_type": "error",
     "traceback": [
      "\u001b[0;31m---------------------------------------------------------------------------\u001b[0m",
      "\u001b[0;31mNameError\u001b[0m                                 Traceback (most recent call last)",
      "\u001b[0;32m<ipython-input-39-16a6b43a8b29>\u001b[0m in \u001b[0;36m<module>\u001b[0;34m\u001b[0m\n\u001b[0;32m----> 1\u001b[0;31m \u001b[0mxgb_predictor\u001b[0m\u001b[0;34m.\u001b[0m\u001b[0mdelete_endpoint\u001b[0m\u001b[0;34m(\u001b[0m\u001b[0;34m)\u001b[0m\u001b[0;34m\u001b[0m\u001b[0;34m\u001b[0m\u001b[0m\n\u001b[0m",
      "\u001b[0;31mNameError\u001b[0m: name 'xgb_predictor' is not defined"
     ]
    }
   ],
   "source": [
    "xgb_predictor.delete_endpoint()"
   ]
  },
  {
   "cell_type": "markdown",
   "metadata": {},
   "source": [
    "## Step 7: Putting our model to work\n",
    "\n",
    "As we've mentioned a few times now, our goal is to have our model deployed and then access it using a very simple web app. The intent is for this web app to take some user submitted data (a review), send it off to our endpoint (the model) and then display the result.\n",
    "\n",
    "However, there is a small catch. Currently the only way we can access the endpoint to send it data is using the SageMaker API. We can, if we wish, expose the actual URL that our model's endpoint is receiving data from, however, if we just send it data ourselves we will not get anything in return. This is because the endpoint created by SageMaker requires the entity accessing it have the correct permissions. So, we would need to somehow authenticate our web app with AWS.\n",
    "\n",
    "Having a website that authenticates to AWS seems a bit beyond the scope of this lesson so we will opt for an alternative approach. Namely, we will create a new endpoint which does not require authentication and which acts as a proxy for the SageMaker endpoint.\n",
    "\n",
    "As an additional constraint, we will try to avoid doing any data processing in the web app itself. Remember that when we constructed and tested our model we started with a movie review, then we simplified it by removing any html formatting and punctuation, then we constructed a bag of words embedding and the resulting vector is what we sent to our model. All of this needs to be done to our user input as well.\n",
    "\n",
    "Fortunately we can do all of this data processing in the backend, using Amazon's Lambda service.\n",
    "\n",
    "<img src=\"Web App Diagram.svg\">\n",
    "\n",
    "The diagram above gives an overview of how the various services will work together. On the far right is the model which we trained above and which will be deployed using SageMaker. On the far left is our web app that collects a user's movie review, sends it off and expects a positive or negative sentiment in return.\n",
    "\n",
    "In the middle is where some of the magic happens. We will construct a Lambda function, which you can think of as a straightforward Python function that can be executed whenever a specified event occurs. This Python function will do the data processing we need to perform on a user submitted review. In addition, we will give this function permission to send and recieve data from a SageMaker endpoint.\n",
    "\n",
    "Lastly, the method we will use to execute the Lambda function is a new endpoint that we will create using API Gateway. This endpoint will be a url that listens for data to be sent to it. Once it gets some data it will pass that data on to the Lambda function and then return whatever the Lambda function returns. Essentially it will act as an interface that lets our web app communicate with the Lambda function.\n",
    "\n",
    "### Processing a single review\n",
    "\n",
    "For now, suppose we are given a movie review by our user in the form of a string, like so:"
   ]
  },
  {
   "cell_type": "code",
   "execution_count": 53,
   "metadata": {},
   "outputs": [],
   "source": [
    "test_review = \"Nothing but a disgusting materialistic pageant of glistening abed remote control greed zombies, totally devoid of any heart or heat. A romantic comedy that has zero romantic chemestry and zero laughs!\""
   ]
  },
  {
   "cell_type": "markdown",
   "metadata": {},
   "source": [
    "How do we go from this string to the bag of words feature vector that is expected by our model?\n",
    "\n",
    "If we recall at the beginning of this notebook, the first step is to remove any unnecessary characters using the `review_to_words` method. Remember that we intentionally did this in a very simplistic way. This is because we are going to have to copy this method to our (eventual) Lambda function (we will go into more detail later) and this means it needs to be rather simplistic."
   ]
  },
  {
   "cell_type": "code",
   "execution_count": 54,
   "metadata": {},
   "outputs": [
    {
     "name": "stdout",
     "output_type": "stream",
     "text": [
      "nothing but a disgusting materialistic pageant of glistening abed remote control greed zombies totally devoid of any heart or heat a romantic comedy that has zero romantic chemestry and zero laughs\n"
     ]
    }
   ],
   "source": [
    "test_words = review_to_words(test_review)\n",
    "print(test_words)"
   ]
  },
  {
   "cell_type": "markdown",
   "metadata": {},
   "source": [
    "Next, we need to construct a bag of words embedding of the `test_words` string. To do this, remember that a bag of words embedding uses a `vocabulary` consisting of the most frequently appearing words in a set of documents. Then, for each word in the vocabulary we record the number of times that word appears in `test_words`. We constructed the `vocabulary` earlier using the training set for our problem so encoding `test_words` is relatively straightforward."
   ]
  },
  {
   "cell_type": "code",
   "execution_count": 55,
   "metadata": {},
   "outputs": [],
   "source": [
    "def bow_encoding(words, vocabulary):\n",
    "    bow = [0] * len(vocabulary) # Start by setting the count for each word in the vocabulary to zero.\n",
    "    for word in words.split():  # For each word in the string\n",
    "        if word in vocabulary:  # If the word is one that occurs in the vocabulary, increase its count.\n",
    "            bow[vocabulary[word]] += 1\n",
    "    return bow"
   ]
  },
  {
   "cell_type": "code",
   "execution_count": 56,
   "metadata": {},
   "outputs": [
    {
     "name": "stdout",
     "output_type": "stream",
     "text": [
      "[0, 0, 0, 0, 0, 0, 0, 0, 0, 0, 0, 0, 0, 0, 0, 0, 0, 0, 0, 0, 0, 0, 0, 0, 0, 0, 0, 0, 0, 0, 0, 0, 0, 0, 0, 0, 0, 0, 0, 0, 0, 0, 0, 0, 0, 0, 0, 0, 0, 0, 0, 0, 0, 0, 0, 0, 0, 0, 0, 0, 0, 0, 0, 0, 0, 0, 0, 0, 0, 0, 0, 0, 0, 0, 0, 0, 0, 0, 0, 0, 0, 0, 0, 0, 0, 0, 0, 0, 0, 0, 0, 0, 0, 0, 0, 0, 0, 0, 0, 0, 0, 0, 0, 0, 0, 0, 0, 0, 0, 0, 0, 0, 0, 0, 0, 0, 0, 0, 0, 0, 0, 0, 0, 0, 0, 0, 0, 0, 0, 0, 0, 0, 0, 0, 0, 0, 0, 0, 0, 0, 0, 0, 0, 0, 0, 0, 0, 0, 0, 0, 0, 0, 0, 0, 0, 0, 0, 0, 0, 0, 0, 0, 0, 0, 0, 0, 0, 0, 0, 0, 0, 0, 0, 0, 0, 0, 0, 0, 0, 0, 0, 0, 0, 0, 0, 0, 0, 0, 0, 0, 0, 0, 0, 0, 0, 0, 0, 0, 0, 0, 0, 0, 0, 0, 0, 0, 0, 0, 0, 0, 0, 0, 0, 0, 0, 0, 0, 0, 0, 0, 0, 0, 0, 0, 0, 0, 1, 0, 0, 0, 0, 0, 0, 0, 0, 0, 0, 0, 0, 0, 0, 0, 0, 0, 0, 0, 0, 0, 0, 0, 0, 0, 0, 0, 0, 0, 1, 0, 0, 0, 0, 0, 0, 0, 0, 0, 0, 0, 0, 0, 0, 0, 0, 0, 0, 0, 0, 0, 0, 0, 0, 0, 0, 0, 0, 0, 0, 0, 0, 0, 0, 0, 0, 0, 0, 0, 0, 0, 0, 0, 0, 0, 0, 0, 0, 0, 0, 0, 0, 0, 0, 0, 0, 0, 0, 0, 0, 0, 0, 0, 0, 0, 0, 0, 0, 0, 0, 0, 0, 0, 0, 0, 0, 0, 0, 0, 0, 0, 0, 0, 0, 0, 0, 0, 0, 0, 0, 0, 0, 0, 0, 0, 0, 0, 0, 0, 0, 0, 0, 0, 0, 0, 0, 0, 0, 0, 0, 0, 0, 0, 0, 0, 0, 0, 0, 0, 0, 0, 0, 0, 0, 0, 0, 0, 0, 0, 0, 0, 0, 0, 0, 0, 0, 0, 0, 0, 0, 0, 0, 0, 0, 0, 0, 0, 0, 0, 0, 0, 0, 0, 0, 0, 0, 0, 0, 0, 0, 0, 0, 0, 0, 0, 0, 0, 0, 0, 0, 0, 0, 0, 0, 0, 0, 0, 0, 0, 0, 0, 0, 0, 0, 0, 0, 0, 0, 0, 0, 0, 0, 0, 0, 0, 0, 0, 0, 0, 0, 0, 0, 0, 0, 0, 0, 0, 0, 0, 0, 0, 0, 0, 0, 0, 0, 0, 0, 0, 0, 0, 0, 0, 0, 0, 0, 0, 0, 0, 0, 0, 0, 0, 0, 0, 0, 0, 0, 0, 0, 0, 0, 0, 0, 0, 0, 0, 0, 0, 0, 0, 0, 0, 0, 0, 0, 0, 0, 0, 0, 0, 0, 0, 0, 0, 0, 0, 0, 0, 0, 0, 0, 0, 0, 0, 0, 0, 0, 0, 0, 0, 0, 0, 0, 0, 0, 0, 0, 0, 0, 0, 0, 0, 0, 0, 0, 0, 0, 0, 0, 0, 0, 0, 0, 0, 0, 0, 0, 0, 0, 0, 0, 0, 0, 0, 0, 0, 0, 0, 0, 0, 0, 0, 0, 0, 0, 0, 0, 0, 0, 0, 0, 0, 0, 0, 0, 0, 0, 0, 0, 0, 0, 0, 0, 0, 0, 0, 0, 0, 0, 0, 0, 0, 0, 0, 0, 0, 0, 0, 0, 0, 0, 0, 0, 0, 0, 0, 0, 0, 0, 0, 0, 0, 0, 0, 0, 0, 0, 0, 1, 0, 0, 0, 0, 0, 0, 0, 0, 0, 0, 0, 0, 0, 0, 0, 0, 0, 0, 0, 0, 0, 0, 0, 0, 0, 0, 0, 0, 0, 0, 0, 0, 0, 0, 0, 0, 0, 0, 0, 0, 0, 0, 0, 0, 0, 0, 0, 0, 0, 0, 0, 0, 0, 0, 0, 0, 0, 0, 0, 0, 0, 0, 0, 0, 0, 0, 0, 0, 0, 0, 0, 0, 0, 0, 0, 0, 0, 0, 0, 0, 0, 0, 0, 0, 0, 0, 0, 0, 0, 0, 0, 0, 0, 0, 0, 0, 0, 0, 0, 0, 0, 0, 0, 0, 0, 0, 0, 0, 0, 0, 0, 0, 0, 0, 0, 0, 0, 0, 0, 0, 0, 0, 0, 0, 0, 0, 0, 0, 0, 0, 0, 0, 0, 0, 0, 0, 0, 0, 0, 0, 0, 0, 0, 0, 0, 0, 0, 0, 0, 0, 0, 0, 0, 0, 0, 0, 0, 0, 0, 0, 0, 0, 0, 0, 0, 0, 0, 0, 0, 0, 0, 0, 0, 0, 0, 0, 0, 0, 0, 0, 0, 0, 0, 0, 0, 0, 0, 0, 0, 0, 0, 0, 0, 0, 0, 0, 0, 0, 0, 0, 0, 0, 0, 0, 0, 0, 0, 0, 0, 0, 0, 0, 0, 0, 0, 0, 0, 0, 0, 0, 0, 0, 0, 0, 0, 0, 0, 0, 0, 0, 0, 0, 0, 0, 0, 0, 0, 0, 0, 0, 0, 0, 0, 0, 0, 0, 0, 0, 0, 0, 0, 0, 0, 1, 0, 0, 0, 0, 0, 0, 0, 0, 0, 0, 0, 0, 0, 0, 0, 0, 0, 0, 0, 0, 0, 0, 0, 0, 0, 0, 0, 0, 0, 0, 0, 0, 0, 0, 0, 0, 0, 0, 0, 0, 0, 0, 0, 0, 0, 0, 0, 0, 0, 0, 0, 0, 0, 0, 0, 0, 0, 0, 0, 0, 0, 0, 0, 0, 0, 0, 0, 0, 0, 0, 0, 0, 0, 0, 0, 0, 0, 0, 0, 0, 0, 0, 0, 0, 0, 0, 1, 0, 0, 0, 0, 0, 0, 0, 0, 0, 0, 0, 0, 0, 0, 0, 0, 0, 0, 0, 0, 0, 0, 0, 0, 0, 0, 0, 0, 0, 0, 0, 0, 0, 0, 0, 0, 0, 0, 0, 0, 0, 0, 0, 0, 0, 0, 0, 0, 0, 0, 0, 0, 0, 0, 0, 0, 0, 0, 0, 0, 0, 0, 0, 0, 0, 0, 0, 0, 0, 0, 0, 0, 0, 0, 0, 0, 0, 0, 0, 0, 0, 0, 0, 0, 0, 0, 0, 0, 0, 0, 0, 0, 0, 0, 0, 0, 0, 0, 0, 0, 0, 0, 0, 0, 0, 0, 0, 0, 0, 0, 0, 0, 0, 0, 0, 0, 0, 0, 0, 0, 0, 0, 0, 0, 0, 0, 0, 0, 0, 0, 0, 0, 0, 0, 0, 0, 0, 0, 0, 0, 0, 0, 0, 0, 0, 0, 0, 0, 0, 0, 0, 0, 0, 0, 0, 0, 0, 0, 0, 0, 0, 0, 0, 0, 0, 0, 0, 0, 0, 0, 0, 0, 0, 0, 0, 0, 0, 0, 0, 0, 0, 0, 0, 0, 0, 0, 0, 0, 0, 0, 0, 0, 0, 0, 0, 0, 0, 0, 0, 0, 0, 0, 0, 0, 0, 0, 0, 0, 0, 0, 0, 0, 0, 0, 0, 0, 0, 0, 0, 0, 0, 0, 0, 0, 0, 0, 0, 0, 0, 0, 0, 0, 0, 0, 0, 0, 0, 0, 0, 0, 0, 0, 0, 0, 0, 0, 0, 0, 0, 0, 0, 0, 1, 0, 0, 0, 0, 0, 0, 0, 0, 0, 0, 0, 0, 0, 0, 0, 0, 0, 0, 0, 0, 0, 0, 0, 0, 0, 0, 0, 0, 0, 0, 0, 0, 0, 0, 0, 0, 0, 0, 0, 0, 0, 0, 0, 0, 0, 0, 0, 0, 0, 0, 0, 0, 0, 0, 0, 1, 0, 0, 0, 0, 0, 0, 0, 0, 0, 0, 0, 0, 0, 0, 0, 0, 0, 0, 0, 0, 0, 0, 0, 0, 0, 0, 0, 0, 0, 0, 0, 0, 0, 0, 0, 0, 0, 0, 0, 0, 0, 0, 0, 0, 0, 0, 0, 0, 0, 0, 0, 0, 0, 0, 0, 0, 0, 0, 0, 0, 0, 0, 0, 0, 0, 0, 0, 0, 0, 0, 0, 0, 0, 0, 0, 0, 0, 0, 0, 0, 0, 0, 0, 0, 0, 0, 0, 0, 0, 0, 0, 0, 0, 0, 0, 0, 0, 0, 0, 0, 0, 0, 0, 0, 0, 0, 0, 0, 0, 0, 0, 0, 0, 0, 0, 0, 0, 0, 0, 0, 0, 0, 0, 0, 0, 0, 0, 0, 0, 0, 0, 0, 0, 0, 0, 0, 0, 0, 0, 0, 0, 0, 0, 0, 0, 0, 0, 0, 0, 0, 0, 0, 0, 0, 0, 0, 0, 0, 0, 0, 0, 0, 0, 0, 0, 0, 0, 0, 0, 0, 0, 0, 0, 0, 0, 0, 0, 0, 0, 0, 0, 0, 0, 0, 0, 0, 0, 0, 0, 0, 0, 0, 0, 0, 0, 0, 0, 0, 0, 0, 0, 0, 0, 0, 0, 0, 0, 0, 0, 0, 0, 0, 0, 0, 0, 0, 0, 0, 0, 0, 0, 0, 0, 0, 0, 0, 0, 0, 0, 0, 0, 0, 0, 0, 0, 0, 0, 0, 0, 0, 0, 0, 0, 0, 0, 0, 0, 0, 0, 0, 0, 0, 0, 0, 0, 0, 0, 0, 0, 0, 0, 0, 0, 0, 0, 0, 0, 0, 0, 0, 0, 0, 0, 0, 0, 0, 0, 0, 0, 0, 0, 0, 0, 0, 0, 0, 0, 0, 0, 0, 0, 0, 0, 0, 0, 0, 0, 0, 0, 0, 0, 0, 0, 0, 0, 0, 0, 0, 0, 0, 0, 0, 0, 0, 0, 0, 0, 0, 0, 0, 0, 0, 0, 0, 0, 0, 0, 0, 0, 0, 0, 0, 0, 0, 0, 0, 0, 0, 0, 0, 0, 0, 0, 0, 0, 0, 0, 0, 0, 0, 0, 0, 0, 0, 0, 0, 0, 0, 0, 0, 0, 0, 0, 0, 0, 0, 0, 0, 0, 0, 0, 0, 0, 0, 0, 0, 0, 0, 0, 0, 0, 0, 0, 0, 0, 0, 0, 0, 0, 0, 0, 0, 0, 0, 0, 0, 0, 0, 0, 0, 0, 0, 0, 0, 0, 0, 0, 0, 0, 0, 0, 0, 0, 0, 0, 0, 0, 0, 0, 0, 0, 0, 0, 0, 0, 0, 0, 0, 0, 0, 0, 0, 0, 0, 0, 0, 0, 0, 0, 0, 0, 0, 0, 0, 0, 0, 0, 0, 0, 0, 0, 0, 0, 0, 0, 0, 0, 0, 0, 0, 0, 0, 0, 0, 0, 0, 0, 0, 0, 0, 0, 0, 0, 0, 0, 0, 0, 0, 0, 0, 0, 0, 0, 0, 0, 0, 0, 0, 0, 0, 0, 0, 0, 0, 0, 0, 0, 0, 0, 0, 0, 0, 0, 0, 0, 0, 0, 0, 0, 0, 0, 0, 0, 0, 0, 0, 0, 0, 0, 0, 0, 0, 0, 0, 0, 0, 0, 0, 0, 0, 0, 0, 0, 0, 0, 0, 0, 0, 0, 0, 0, 0, 0, 0, 0, 0, 0, 0, 0, 0, 0, 0, 0, 0, 0, 0, 0, 0, 0, 0, 0, 0, 0, 0, 0, 0, 0, 0, 0, 0, 0, 0, 0, 0, 0, 0, 0, 0, 0, 0, 0, 0, 0, 0, 0, 0, 0, 0, 0, 0, 0, 0, 0, 0, 0, 0, 0, 0, 0, 0, 0, 0, 0, 0, 0, 0, 0, 0, 0, 0, 0, 0, 0, 0, 0, 0, 0, 0, 0, 0, 0, 0, 0, 0, 0, 0, 0, 0, 0, 0, 0, 0, 0, 0, 0, 0, 0, 0, 0, 0, 0, 0, 0, 0, 0, 0, 0, 0, 0, 0, 0, 0, 0, 0, 0, 0, 0, 0, 0, 0, 0, 0, 0, 0, 0, 0, 0, 0, 0, 0, 0, 0, 0, 0, 0, 0, 0, 0, 0, 0, 0, 1, 0, 0, 0, 0, 0, 0, 0, 0, 0, 0, 0, 0, 0, 0, 0, 0, 0, 0, 0, 0, 0, 0, 0, 0, 0, 0, 0, 0, 0, 0, 0, 0, 0, 0, 0, 0, 0, 0, 0, 0, 0, 0, 0, 0, 0, 0, 0, 0, 0, 0, 0, 0, 0, 0, 0, 0, 0, 0, 0, 0, 0, 0, 0, 0, 0, 0, 0, 0, 0, 0, 0, 0, 0, 0, 1, 0, 0, 0, 0, 0, 0, 0, 0, 0, 0, 0, 0, 0, 0, 0, 0, 0, 0, 0, 0, 1, 0, 0, 1, 0, 0, 0, 0, 0, 0, 0, 0, 0, 0, 0, 0, 0, 0, 0, 0, 0, 0, 0, 0, 0, 0, 0, 0, 0, 0, 0, 0, 0, 0, 0, 0, 0, 0, 0, 0, 0, 0, 0, 0, 0, 0, 0, 0, 0, 0, 0, 0, 0, 0, 0, 0, 0, 0, 0, 0, 0, 0, 0, 0, 0, 0, 0, 0, 0, 0, 0, 0, 0, 0, 0, 0, 0, 0, 0, 0, 0, 0, 0, 0, 0, 0, 0, 0, 0, 0, 0, 0, 0, 0, 0, 0, 0, 0, 0, 0, 0, 0, 0, 0, 0, 0, 0, 0, 0, 0, 0, 0, 0, 0, 0, 0, 0, 0, 0, 0, 0, 0, 0, 0, 0, 0, 0, 0, 0, 0, 0, 0, 0, 0, 0, 0, 0, 0, 0, 0, 0, 0, 0, 0, 0, 0, 0, 0, 0, 0, 0, 0, 0, 0, 0, 0, 0, 0, 0, 0, 0, 0, 0, 0, 0, 0, 0, 0, 0, 0, 0, 0, 0, 0, 0, 0, 0, 0, 0, 0, 0, 0, 0, 0, 0, 0, 0, 0, 0, 0, 0, 0, 0, 0, 0, 0, 0, 0, 0, 0, 0, 0, 0, 0, 0, 0, 0, 0, 0, 0, 0, 0, 0, 0, 0, 0, 0, 0, 0, 0, 0, 0, 0, 0, 0, 0, 0, 0, 0, 0, 0, 0, 0, 0, 0, 0, 0, 0, 0, 0, 0, 0, 0, 0, 0, 0, 0, 0, 0, 0, 0, 0, 0, 0, 0, 0, 0, 0, 0, 0, 0, 0, 0, 0, 0, 0, 0, 0, 0, 0, 0, 0, 0, 0, 0, 0, 0, 0, 0, 0, 0, 0, 0, 0, 0, 0, 0, 0, 0, 0, 0, 0, 0, 0, 0, 0, 0, 0, 0, 0, 0, 0, 0, 0, 0, 0, 0, 0, 0, 0, 0, 0, 0, 0, 0, 0, 0, 0, 0, 0, 0, 0, 0, 0, 0, 0, 0, 0, 0, 0, 0, 0, 0, 0, 0, 0, 0, 0, 0, 0, 0, 0, 0, 0, 0, 0, 0, 0, 0, 0, 0, 0, 0, 0, 0, 0, 0, 0, 0, 0, 0, 0, 0, 0, 0, 0, 0, 0, 0, 0, 0, 0, 0, 0, 0, 0, 0, 0, 0, 0, 0, 0, 0, 0, 0, 0, 0, 0, 0, 0, 0, 0, 0, 0, 0, 0, 0, 0, 0, 0, 0, 0, 0, 0, 0, 0, 0, 0, 0, 0, 0, 0, 0, 0, 0, 0, 0, 0, 0, 0, 0, 0, 0, 0, 0, 0, 0, 0, 0, 0, 0, 0, 0, 0, 0, 0, 0, 0, 0, 0, 0, 0, 0, 0, 0, 0, 0, 0, 0, 0, 0, 0, 0, 0, 0, 0, 0, 0, 0, 0, 0, 0, 0, 0, 0, 0, 0, 0, 0, 0, 1, 0, 0, 0, 0, 0, 0, 0, 0, 0, 0, 0, 0, 0, 0, 0, 0, 0, 0, 0, 0, 0, 0, 0, 0, 0, 0, 0, 0, 0, 0, 0, 0, 0, 0, 0, 0, 0, 0, 0, 0, 0, 0, 0, 0, 0, 0, 0, 0, 0, 0, 0, 0, 0, 0, 0, 0, 0, 0, 0, 0, 0, 0, 0, 0, 0, 0, 0, 0, 0, 0, 0, 0, 0, 0, 0, 0, 0, 0, 0, 0, 0, 0, 0, 0, 0, 0, 0, 0, 0, 0, 0, 0, 0, 0, 0, 0, 0, 0, 0, 0, 0, 0, 0, 0, 0, 0, 0, 0, 0, 0, 0, 0, 0, 0, 0, 0, 0, 0, 0, 0, 0, 0, 0, 0, 0, 0, 0, 0, 0, 0, 0, 0, 0, 0, 0, 0, 0, 0, 0, 0, 0, 0, 0, 0, 0, 0, 0, 0, 0, 0, 0, 0, 0, 0, 0, 0, 0, 0, 0, 0, 0, 0, 0, 0, 0, 0, 0, 0, 0, 0, 0, 0, 0, 0, 0, 0, 0, 0, 0, 0, 0, 0, 0, 0, 0, 0, 0, 0, 0, 0, 0, 0, 0, 0, 0, 0, 0, 0, 0, 0, 0, 0, 0, 0, 0, 0, 0, 0, 0, 0, 0, 0, 0, 0, 0, 0, 0, 0, 0, 0, 0, 0, 0, 0, 0, 0, 0, 0, 0, 0, 0, 0, 0, 0, 0, 0, 0, 0, 0, 0, 0, 0, 0, 0, 0, 0, 0, 0, 0, 0, 0, 0, 0, 0, 0, 0, 0, 0, 0, 0, 0, 0, 0, 0, 0, 0, 0, 0, 0, 0, 0, 0, 0, 0, 0, 0, 0, 0, 0, 0, 0, 0, 0, 0, 0, 0, 0, 0, 0, 0, 0, 0, 0, 0, 0, 0, 0, 0, 0, 0, 0, 0, 0, 0, 0, 0, 0, 0, 0, 0, 0, 0, 0, 0, 0, 0, 0, 0, 0, 0, 0, 0, 0, 0, 0, 0, 0, 0, 0, 0, 0, 0, 0, 0, 0, 0, 0, 0, 0, 0, 0, 0, 0, 0, 0, 0, 0, 0, 0, 0, 0, 0, 0, 0, 0, 0, 0, 0, 0, 0, 0, 0, 0, 0, 0, 0, 0, 0, 0, 0, 0, 0, 0, 0, 0, 0, 0, 0, 0, 0, 0, 0, 0, 0, 0, 0, 0, 0, 0, 0, 0, 0, 0, 0, 0, 0, 0, 0, 0, 0, 0, 0, 0, 0, 0, 0, 0, 0, 0, 0, 0, 0, 0, 0, 0, 0, 0, 0, 0, 0, 0, 0, 0, 0, 0, 0, 0, 0, 0, 0, 0, 0, 0, 0, 0, 0, 0, 0, 0, 0, 0, 0, 0, 0, 0, 0, 0, 0, 0, 0, 0, 0, 0, 0, 0, 0, 0, 0, 0, 0, 0, 0, 0, 0, 0, 0, 0, 0, 0, 0, 0, 0, 0, 0, 0, 0, 0, 0, 0, 0, 0, 0, 0, 0, 0, 0, 0, 0, 0, 0, 0, 0, 0, 0, 0, 0, 0, 0, 0, 0, 0, 0, 0, 0, 0, 0, 0, 0, 0, 0, 0, 0, 1, 0, 0, 0, 0, 0, 0, 0, 0, 0, 0, 0, 0, 0, 0, 0, 0, 0, 0, 0, 0, 0, 0, 0, 0, 0, 0, 0, 0, 0, 0, 0, 0, 0, 0, 0, 2, 0, 0, 0, 0, 0, 0, 0, 0, 0, 0, 0, 0, 0, 0, 0, 0, 0, 0, 0, 0, 0, 0, 0, 0, 0, 0, 0, 0, 0, 0, 0, 0, 0, 0, 0, 0, 0, 0, 0, 0, 1, 0, 0, 0, 0, 0, 0, 0, 0, 0, 0, 0, 0, 0, 0, 0, 0, 0, 0, 0, 0, 0, 0, 0, 0, 0, 0, 0, 0, 0, 0, 0, 0, 0, 0, 0, 0, 0, 0, 0, 0, 0, 0, 0, 0, 0, 0, 0, 0, 0, 0, 0, 0, 0, 0, 0, 0, 0, 0, 0, 0, 0, 0, 0, 0, 0, 0, 0, 0, 0, 0, 0, 0, 0, 0, 0, 0, 0, 0, 0, 0, 0, 0, 0, 0, 0, 0, 0, 0, 0, 0, 0, 0, 0, 0, 0, 0, 0, 0, 0, 0, 0, 0, 0, 0, 0, 0, 0, 0, 0, 0, 0, 0, 0, 0, 0, 0, 0, 0, 0, 0, 0, 0, 0, 0, 0, 0, 0, 0, 0, 0, 0, 0, 0, 0, 0, 0, 0, 0, 0, 0, 0, 0, 0, 0, 0, 0, 0, 0, 0, 0, 0, 0, 0, 0, 0, 0, 0, 0, 0, 0, 0, 0, 0, 0, 0, 0, 0, 0, 0, 0, 0, 0, 0, 0, 0, 0, 0, 0, 0, 0, 0, 0, 0, 0, 0, 0, 0, 0, 0, 0, 0, 0, 0, 0, 0, 0, 0, 0, 0, 0, 0, 0, 0, 0, 0, 0, 0, 0, 0, 0, 0, 0, 0, 0, 0, 0, 0, 0, 0, 0, 0, 0, 0, 0, 0, 0, 0, 0, 0, 0, 0, 0, 0, 0, 0, 0, 0, 0, 0, 0, 0, 0, 0, 0, 0, 0, 0, 0, 0, 0, 0, 0, 0, 0, 0, 0, 0, 0, 0, 0, 0, 0, 0, 0, 0, 0, 0, 0, 0, 0, 0, 0, 0, 0, 0, 0, 0, 0, 0, 0, 0, 0, 0, 0, 0, 0, 0, 0, 0, 0, 0, 0, 0, 0, 0, 0, 0, 0, 0, 0, 0, 0, 0, 0, 0, 0, 0, 0, 0, 0, 0, 0, 0, 0, 0, 0, 0, 0, 0, 0, 0, 0, 0, 0, 0, 0, 0, 0, 0, 0, 0, 0, 0, 0, 0, 0, 0, 0, 0, 0, 0, 0, 0, 0, 0, 0, 0, 0, 0, 0, 0, 0, 0, 0, 0, 0, 0, 0, 0, 0, 0, 0, 0, 0, 0, 0, 0, 0, 0, 0, 0, 0, 0, 0, 0, 0, 0, 0, 0, 0, 0, 0, 0, 0, 0, 0, 0, 0, 0, 0, 0, 0, 0, 0, 0, 0, 0, 0, 0, 0, 0, 0, 0, 0, 0, 0, 0, 0, 0, 0, 0, 0, 0, 0, 0, 0, 0, 0, 0, 0, 0, 0, 0, 0, 0, 0, 0, 0, 0, 0, 0, 0, 0, 0, 0, 0, 0, 0, 0, 0, 0, 0, 0, 0, 0, 0, 0, 0, 0, 0, 0, 0, 0, 0, 0, 0, 0, 0, 0, 0, 0, 0, 0, 0, 0, 0, 0, 0, 0, 0, 0, 0, 0, 0, 0, 0, 0, 0, 0, 0, 0, 0, 0, 0, 0, 0, 0, 0, 0, 0, 0, 0, 0, 0, 0, 0, 0, 1, 0, 0, 0, 0, 0, 0, 0, 0, 0, 0, 0, 0, 0, 0, 0, 0, 0, 0, 0, 0, 0, 0, 0, 0, 0, 0, 0, 0, 0, 0, 0, 0, 0, 0, 0, 0, 0, 0, 0, 0, 0, 0, 0, 0, 0, 0, 0, 0, 0, 0, 0, 0, 0, 0, 0, 0, 0, 0, 0, 0, 0, 0, 0, 0, 0, 0, 0, 0, 0, 0, 0, 0, 0, 0, 0, 0, 0, 0, 0, 0, 0, 0, 0, 0, 0, 0, 0, 0, 0, 0, 0, 0, 0, 0, 0, 0, 0, 0, 0, 0, 0, 0, 0, 0, 0, 0, 0, 0, 0, 0, 2, 0, 0, 0, 0, 0, 0, 0, 0, 0, 0, 0, 0, 0, 0, 0, 0, 0, 0, 0, 0, 0, 0, 0, 0, 0, 0, 0, 0, 0, 0, 0, 0, 0, 0, 0, 0, 0, 0, 0, 0, 0, 0, 0, 0, 0, 0, 0, 0, 0, 0, 0, 0, 0, 0, 0, 0, 0, 0, 0, 0, 0, 0, 0, 0, 0, 0, 0, 0, 0, 0, 0, 0, 0, 0, 0, 0, 0, 0, 0, 0, 0, 0, 0, 0, 0, 0, 0, 0, 0, 0, 0, 0, 0, 0, 0, 0, 0, 0, 0, 0, 0, 0, 0, 0, 0, 0, 0, 0, 0, 0, 0, 0, 0, 0, 0, 0, 0, 0, 0, 0, 0, 0, 0, 0, 0, 0, 0, 0, 0, 0, 0, 0, 0, 0, 0, 0, 0, 0, 0, 0, 0, 0, 0, 0, 0, 0, 0, 0, 0, 0, 0, 0, 0, 0, 0, 0, 0, 0, 0, 0, 0, 0, 0, 0, 0, 0, 0, 0, 0, 0, 0, 0, 0, 0, 0, 0, 0, 0, 0, 0, 0, 0, 0, 0, 0, 0, 0, 0, 0, 0, 0, 0, 0, 0, 0, 0, 0, 0, 0, 0, 0, 0, 0, 0, 0, 0, 0, 0, 0, 0, 0, 0, 0, 0, 0, 0, 0, 0, 0, 0, 0, 0, 0, 0, 0, 0, 0, 0, 0, 0, 0, 0, 0, 0, 0, 0, 0, 0, 0, 0, 0, 0, 0, 0, 0, 0, 0, 0, 0, 0, 0, 0, 0, 0, 0, 0, 0, 0, 0, 0, 0, 0, 0, 0, 0, 0, 0, 0, 0, 0, 0, 0, 0, 0, 0, 0, 0, 0, 0, 0, 0, 0, 0, 0, 0, 0, 0, 0, 0, 0, 0, 0, 0, 0, 0, 0, 0, 0, 0, 0, 0, 0, 0, 0, 0, 0, 0, 0, 0, 0, 0, 0, 0, 0, 0, 0, 0, 0, 0, 0, 0, 0, 0, 0, 0, 0, 0, 0, 0, 0, 0, 0, 0, 0, 0, 0, 0, 0, 0, 0, 0, 0, 0, 0, 0, 0, 0, 0, 0, 0, 0, 0, 0, 0, 0, 0, 0, 0, 0, 0, 0, 0, 0, 0, 0, 0, 0, 0, 0, 0, 0, 0, 0, 0, 0, 0, 0, 0, 0, 0, 0, 0, 0, 0, 0, 0, 0, 0, 0, 0, 0, 0, 0, 0, 0, 0, 0, 0, 0, 0, 0, 0, 0, 0, 0, 0, 0, 0, 0, 0, 0, 0, 0, 0, 0, 0, 0, 0, 0, 0, 0, 0, 0, 0, 0, 0, 0, 0, 0, 0, 0, 0, 0, 0, 0, 0, 0, 0, 0, 0, 0, 0, 0, 0, 0, 0, 0, 0, 0, 0, 0, 0, 0, 0, 0, 0, 0, 0, 0, 0, 0, 0, 0, 0, 0, 0, 0, 0, 0, 0, 0, 0, 0, 0, 0, 0, 0, 0, 0, 0, 0, 0, 0, 0, 0, 0, 0, 0, 0, 0, 0, 0, 0, 0, 0, 0, 0, 0, 0, 0, 0, 0, 0, 0, 0, 0, 0, 0, 0, 0, 0, 0, 0, 0, 0, 0, 0, 0, 0, 0, 0, 0, 0, 0, 0, 0, 0, 0, 0, 0, 0, 0, 0, 0, 0, 0, 0, 0, 0, 0, 0, 0, 0, 0, 0, 0, 0, 0, 0, 0, 0, 0, 0, 0, 0, 0, 0, 0, 0, 0, 0, 0, 0, 0, 0, 0, 0, 0, 0, 0, 0, 0, 0, 0, 0, 0, 0, 0, 0, 0, 0, 0, 0, 0, 0, 0, 0, 0, 0, 0, 0, 0, 0, 0, 0, 0, 0, 0, 0, 0, 0, 0, 0, 0, 0, 0, 0, 0, 0, 0, 0, 0, 0, 0, 0, 0, 0, 0, 0, 0, 0, 0, 0, 0, 0, 0, 0, 0, 0, 0, 0, 0, 0, 0, 0, 0, 0, 0, 0, 0, 0, 0, 0, 0, 0, 0, 0, 0, 0, 0, 0, 0, 0, 0, 0, 0, 0, 0, 0, 0, 0, 0, 0, 0, 0, 0, 0, 0, 0, 0, 0, 0, 0, 0, 0, 0, 0, 0, 0, 0, 0, 0, 0, 0, 0, 0, 0, 0, 0, 0, 1, 0, 0, 0, 0, 0, 0, 0, 0, 0, 0, 0, 0, 0, 0, 0, 0, 0, 0, 0, 0, 0, 0, 0, 0, 0, 0, 0, 0, 0, 0, 0, 0, 0, 0, 0, 0, 0, 0, 0, 0, 0, 0, 0, 0, 0, 0, 0, 0, 0, 0, 0, 0, 0, 0, 0, 0, 0, 0, 0, 0, 0, 0, 0, 0, 0, 0, 0, 0, 0, 0, 0, 0, 0, 0, 0, 0, 0, 0, 0, 0, 0, 0, 0, 0, 0, 0, 0, 0, 0, 0, 0, 0, 0, 0, 0, 0, 0, 0, 0, 0, 0, 0, 0, 0, 0, 0, 0, 1, 0, 0, 0, 0, 0, 0, 0, 0, 0, 0, 0, 0, 0, 0, 0, 0, 0, 0, 0, 0, 0, 0, 0, 0, 0, 0, 0, 0, 0, 0, 0, 0, 0, 0, 0, 0, 0, 0, 0, 0, 0, 0, 0, 0, 0, 0, 0, 0, 0, 0, 0, 0, 0, 0, 0, 0, 0, 0, 0, 0, 0, 0, 0, 0, 0, 0, 0, 0, 0, 0, 0, 0, 0, 0, 0, 0, 0, 0, 0, 0, 0, 0, 0, 0, 0, 0, 0, 0, 0, 0, 0, 0, 0, 0, 0, 0, 0, 0, 0, 0, 0, 0, 0, 0, 0, 0, 0, 0, 0, 0, 0, 0, 0, 0, 0, 0, 0, 0, 0, 0, 0, 0, 0, 0, 0, 0, 0, 0, 0, 0, 0, 0, 0, 0, 0, 0, 0, 0, 0, 0, 0, 0, 0, 0, 0, 0, 0, 0, 0, 0, 0, 0, 0, 0, 0, 0, 0, 0, 0, 0, 0, 0, 0, 0, 0, 0, 0, 0, 0, 0, 0, 0, 0, 0, 0, 0, 0, 0, 0, 0, 0, 0, 0, 0, 0, 0, 0, 0, 0, 0, 0, 0, 0, 0, 0, 0, 0, 0, 0, 0, 0, 0, 0, 0, 0, 0, 0, 0, 0, 0, 0, 0, 0, 0, 0, 0, 0, 0, 0, 0, 0, 0, 0, 0, 0, 0, 0, 0, 0, 0, 0, 0, 0, 0, 0, 0, 0, 0, 0, 0, 0, 0, 0, 0, 0, 0, 0, 0, 0, 0, 0, 0, 0, 0, 0, 0, 0, 0, 0, 0, 0, 0, 0, 0, 0, 0, 0, 0, 0, 0, 0, 0, 0, 0, 0, 0, 0, 0, 0, 0, 0, 0, 0, 0, 0, 0, 0, 0, 0, 0, 0, 0, 0, 0, 0, 0, 0, 0, 0, 0, 0, 0, 0, 0, 0, 0, 0, 0, 0, 0, 0, 0, 0, 0, 0, 0, 0, 0, 0, 0, 0, 0, 0, 0, 0, 0, 0, 0, 0, 0, 0, 0, 0, 0, 0, 0, 0, 0, 0, 0, 0, 0, 0, 0, 0, 0, 0, 0, 0, 0, 0, 0, 0, 0, 0, 0, 0, 0, 0, 0, 0, 0, 0, 0, 0, 0, 0, 0, 0, 0, 0, 0, 0, 0, 0, 0, 0, 0, 0, 0, 0, 0, 0, 0, 0, 0, 0, 0, 0, 0, 0, 0, 0, 0, 0, 0, 0, 0, 0, 0, 0, 0, 0, 0, 0, 0, 0, 0, 0, 0, 0, 0, 0, 0, 0, 0, 0, 0, 0, 0, 0, 0, 0, 0, 0, 0, 0, 0, 0, 0, 0, 0, 0, 0, 0, 0, 0, 0, 0, 0, 0, 0, 0, 0, 0, 0, 0, 0, 0, 0, 0, 0, 0, 0, 0, 0, 0, 0, 0, 0, 0, 0, 0, 2, 0, 1, 0]\n"
     ]
    }
   ],
   "source": [
    "test_bow = bow_encoding(test_words, vocabulary)\n",
    "print(test_bow)"
   ]
  },
  {
   "cell_type": "code",
   "execution_count": 57,
   "metadata": {},
   "outputs": [
    {
     "data": {
      "text/plain": [
       "5000"
      ]
     },
     "execution_count": 57,
     "metadata": {},
     "output_type": "execute_result"
    }
   ],
   "source": [
    "len(test_bow)"
   ]
  },
  {
   "cell_type": "markdown",
   "metadata": {},
   "source": [
    "So now we know how to construct a bag of words encoding of a user provided review, how to we send it to our endpoint? First, we need to start the endpoint back up."
   ]
  },
  {
   "cell_type": "code",
   "execution_count": null,
   "metadata": {},
   "outputs": [],
   "source": [
    "xgb_predictor = xgb.deploy(initial_instance_count = 1, instance_type = 'ml.m4.xlarge')"
   ]
  },
  {
   "cell_type": "markdown",
   "metadata": {},
   "source": [
    "At this point we could just do the same thing that we did earlier when we tested our deployed model and send `test_bow` to our endpoint using the `xgb_predictor` object. However, when we eventually construct our Lambda function we won't have access to this object, so how do we call a SageMaker endpoint?\n",
    "\n",
    "It turns out that Python functions that are used in Lambda have access to another Amazon library called `boto3`. This library provides an API for working with Amazon services, including SageMaker. To start with, we need to get a handle to the SageMaker runtime."
   ]
  },
  {
   "cell_type": "code",
   "execution_count": 58,
   "metadata": {},
   "outputs": [],
   "source": [
    "import boto3\n",
    "\n",
    "runtime = boto3.Session().client('sagemaker-runtime')"
   ]
  },
  {
   "cell_type": "markdown",
   "metadata": {},
   "source": [
    "And now that we have access to the SageMaker runtime, we can ask it to make use of (invoke) an endpoint that has already been created. However, we need to provide SageMaker with the name of the deployed endpoint. To find this out we can print it out using the `xgb_predictor` object."
   ]
  },
  {
   "cell_type": "code",
   "execution_count": 59,
   "metadata": {},
   "outputs": [
    {
     "data": {
      "text/plain": [
       "'xgboost-2020-12-22-03-33-04-506'"
      ]
     },
     "execution_count": 59,
     "metadata": {},
     "output_type": "execute_result"
    }
   ],
   "source": [
    "xgb_predictor.endpoint"
   ]
  },
  {
   "cell_type": "markdown",
   "metadata": {},
   "source": [
    "Using the SageMaker runtime and the name of our endpoint, we can invoke the endpoint and send it the `test_bow` data."
   ]
  },
  {
   "cell_type": "code",
   "execution_count": 60,
   "metadata": {},
   "outputs": [
    {
     "ename": "ParamValidationError",
     "evalue": "Parameter validation failed:\nInvalid type for parameter Body, value: [0, 0, 0, 0, 0, 0, 0, 0, 0, 0, 0, 0, 0, 0, 0, 0, 0, 0, 0, 0, 0, 0, 0, 0, 0, 0, 0, 0, 0, 0, 0, 0, 0, 0, 0, 0, 0, 0, 0, 0, 0, 0, 0, 0, 0, 0, 0, 0, 0, 0, 0, 0, 0, 0, 0, 0, 0, 0, 0, 0, 0, 0, 0, 0, 0, 0, 0, 0, 0, 0, 0, 0, 0, 0, 0, 0, 0, 0, 0, 0, 0, 0, 0, 0, 0, 0, 0, 0, 0, 0, 0, 0, 0, 0, 0, 0, 0, 0, 0, 0, 0, 0, 0, 0, 0, 0, 0, 0, 0, 0, 0, 0, 0, 0, 0, 0, 0, 0, 0, 0, 0, 0, 0, 0, 0, 0, 0, 0, 0, 0, 0, 0, 0, 0, 0, 0, 0, 0, 0, 0, 0, 0, 0, 0, 0, 0, 0, 0, 0, 0, 0, 0, 0, 0, 0, 0, 0, 0, 0, 0, 0, 0, 0, 0, 0, 0, 0, 0, 0, 0, 0, 0, 0, 0, 0, 0, 0, 0, 0, 0, 0, 0, 0, 0, 0, 0, 0, 0, 0, 0, 0, 0, 0, 0, 0, 0, 0, 0, 0, 0, 0, 0, 0, 0, 0, 0, 0, 0, 0, 0, 0, 0, 0, 0, 0, 0, 0, 0, 0, 0, 0, 0, 0, 0, 0, 0, 1, 0, 0, 0, 0, 0, 0, 0, 0, 0, 0, 0, 0, 0, 0, 0, 0, 0, 0, 0, 0, 0, 0, 0, 0, 0, 0, 0, 0, 0, 1, 0, 0, 0, 0, 0, 0, 0, 0, 0, 0, 0, 0, 0, 0, 0, 0, 0, 0, 0, 0, 0, 0, 0, 0, 0, 0, 0, 0, 0, 0, 0, 0, 0, 0, 0, 0, 0, 0, 0, 0, 0, 0, 0, 0, 0, 0, 0, 0, 0, 0, 0, 0, 0, 0, 0, 0, 0, 0, 0, 0, 0, 0, 0, 0, 0, 0, 0, 0, 0, 0, 0, 0, 0, 0, 0, 0, 0, 0, 0, 0, 0, 0, 0, 0, 0, 0, 0, 0, 0, 0, 0, 0, 0, 0, 0, 0, 0, 0, 0, 0, 0, 0, 0, 0, 0, 0, 0, 0, 0, 0, 0, 0, 0, 0, 0, 0, 0, 0, 0, 0, 0, 0, 0, 0, 0, 0, 0, 0, 0, 0, 0, 0, 0, 0, 0, 0, 0, 0, 0, 0, 0, 0, 0, 0, 0, 0, 0, 0, 0, 0, 0, 0, 0, 0, 0, 0, 0, 0, 0, 0, 0, 0, 0, 0, 0, 0, 0, 0, 0, 0, 0, 0, 0, 0, 0, 0, 0, 0, 0, 0, 0, 0, 0, 0, 0, 0, 0, 0, 0, 0, 0, 0, 0, 0, 0, 0, 0, 0, 0, 0, 0, 0, 0, 0, 0, 0, 0, 0, 0, 0, 0, 0, 0, 0, 0, 0, 0, 0, 0, 0, 0, 0, 0, 0, 0, 0, 0, 0, 0, 0, 0, 0, 0, 0, 0, 0, 0, 0, 0, 0, 0, 0, 0, 0, 0, 0, 0, 0, 0, 0, 0, 0, 0, 0, 0, 0, 0, 0, 0, 0, 0, 0, 0, 0, 0, 0, 0, 0, 0, 0, 0, 0, 0, 0, 0, 0, 0, 0, 0, 0, 0, 0, 0, 0, 0, 0, 0, 0, 0, 0, 0, 0, 0, 0, 0, 0, 0, 0, 0, 0, 0, 0, 0, 0, 0, 0, 0, 0, 0, 0, 0, 0, 0, 0, 0, 0, 0, 0, 0, 0, 0, 0, 0, 0, 0, 0, 0, 0, 0, 0, 0, 0, 0, 0, 0, 0, 0, 0, 0, 0, 0, 0, 0, 0, 0, 0, 0, 0, 0, 0, 0, 0, 0, 0, 0, 0, 0, 0, 0, 0, 0, 0, 0, 0, 0, 0, 0, 0, 0, 0, 0, 0, 0, 0, 0, 0, 0, 0, 0, 1, 0, 0, 0, 0, 0, 0, 0, 0, 0, 0, 0, 0, 0, 0, 0, 0, 0, 0, 0, 0, 0, 0, 0, 0, 0, 0, 0, 0, 0, 0, 0, 0, 0, 0, 0, 0, 0, 0, 0, 0, 0, 0, 0, 0, 0, 0, 0, 0, 0, 0, 0, 0, 0, 0, 0, 0, 0, 0, 0, 0, 0, 0, 0, 0, 0, 0, 0, 0, 0, 0, 0, 0, 0, 0, 0, 0, 0, 0, 0, 0, 0, 0, 0, 0, 0, 0, 0, 0, 0, 0, 0, 0, 0, 0, 0, 0, 0, 0, 0, 0, 0, 0, 0, 0, 0, 0, 0, 0, 0, 0, 0, 0, 0, 0, 0, 0, 0, 0, 0, 0, 0, 0, 0, 0, 0, 0, 0, 0, 0, 0, 0, 0, 0, 0, 0, 0, 0, 0, 0, 0, 0, 0, 0, 0, 0, 0, 0, 0, 0, 0, 0, 0, 0, 0, 0, 0, 0, 0, 0, 0, 0, 0, 0, 0, 0, 0, 0, 0, 0, 0, 0, 0, 0, 0, 0, 0, 0, 0, 0, 0, 0, 0, 0, 0, 0, 0, 0, 0, 0, 0, 0, 0, 0, 0, 0, 0, 0, 0, 0, 0, 0, 0, 0, 0, 0, 0, 0, 0, 0, 0, 0, 0, 0, 0, 0, 0, 0, 0, 0, 0, 0, 0, 0, 0, 0, 0, 0, 0, 0, 0, 0, 0, 0, 0, 0, 0, 0, 0, 0, 0, 0, 0, 0, 0, 0, 0, 0, 0, 0, 0, 0, 0, 0, 1, 0, 0, 0, 0, 0, 0, 0, 0, 0, 0, 0, 0, 0, 0, 0, 0, 0, 0, 0, 0, 0, 0, 0, 0, 0, 0, 0, 0, 0, 0, 0, 0, 0, 0, 0, 0, 0, 0, 0, 0, 0, 0, 0, 0, 0, 0, 0, 0, 0, 0, 0, 0, 0, 0, 0, 0, 0, 0, 0, 0, 0, 0, 0, 0, 0, 0, 0, 0, 0, 0, 0, 0, 0, 0, 0, 0, 0, 0, 0, 0, 0, 0, 0, 0, 0, 0, 1, 0, 0, 0, 0, 0, 0, 0, 0, 0, 0, 0, 0, 0, 0, 0, 0, 0, 0, 0, 0, 0, 0, 0, 0, 0, 0, 0, 0, 0, 0, 0, 0, 0, 0, 0, 0, 0, 0, 0, 0, 0, 0, 0, 0, 0, 0, 0, 0, 0, 0, 0, 0, 0, 0, 0, 0, 0, 0, 0, 0, 0, 0, 0, 0, 0, 0, 0, 0, 0, 0, 0, 0, 0, 0, 0, 0, 0, 0, 0, 0, 0, 0, 0, 0, 0, 0, 0, 0, 0, 0, 0, 0, 0, 0, 0, 0, 0, 0, 0, 0, 0, 0, 0, 0, 0, 0, 0, 0, 0, 0, 0, 0, 0, 0, 0, 0, 0, 0, 0, 0, 0, 0, 0, 0, 0, 0, 0, 0, 0, 0, 0, 0, 0, 0, 0, 0, 0, 0, 0, 0, 0, 0, 0, 0, 0, 0, 0, 0, 0, 0, 0, 0, 0, 0, 0, 0, 0, 0, 0, 0, 0, 0, 0, 0, 0, 0, 0, 0, 0, 0, 0, 0, 0, 0, 0, 0, 0, 0, 0, 0, 0, 0, 0, 0, 0, 0, 0, 0, 0, 0, 0, 0, 0, 0, 0, 0, 0, 0, 0, 0, 0, 0, 0, 0, 0, 0, 0, 0, 0, 0, 0, 0, 0, 0, 0, 0, 0, 0, 0, 0, 0, 0, 0, 0, 0, 0, 0, 0, 0, 0, 0, 0, 0, 0, 0, 0, 0, 0, 0, 0, 0, 0, 0, 0, 0, 0, 0, 0, 0, 0, 0, 0, 1, 0, 0, 0, 0, 0, 0, 0, 0, 0, 0, 0, 0, 0, 0, 0, 0, 0, 0, 0, 0, 0, 0, 0, 0, 0, 0, 0, 0, 0, 0, 0, 0, 0, 0, 0, 0, 0, 0, 0, 0, 0, 0, 0, 0, 0, 0, 0, 0, 0, 0, 0, 0, 0, 0, 0, 1, 0, 0, 0, 0, 0, 0, 0, 0, 0, 0, 0, 0, 0, 0, 0, 0, 0, 0, 0, 0, 0, 0, 0, 0, 0, 0, 0, 0, 0, 0, 0, 0, 0, 0, 0, 0, 0, 0, 0, 0, 0, 0, 0, 0, 0, 0, 0, 0, 0, 0, 0, 0, 0, 0, 0, 0, 0, 0, 0, 0, 0, 0, 0, 0, 0, 0, 0, 0, 0, 0, 0, 0, 0, 0, 0, 0, 0, 0, 0, 0, 0, 0, 0, 0, 0, 0, 0, 0, 0, 0, 0, 0, 0, 0, 0, 0, 0, 0, 0, 0, 0, 0, 0, 0, 0, 0, 0, 0, 0, 0, 0, 0, 0, 0, 0, 0, 0, 0, 0, 0, 0, 0, 0, 0, 0, 0, 0, 0, 0, 0, 0, 0, 0, 0, 0, 0, 0, 0, 0, 0, 0, 0, 0, 0, 0, 0, 0, 0, 0, 0, 0, 0, 0, 0, 0, 0, 0, 0, 0, 0, 0, 0, 0, 0, 0, 0, 0, 0, 0, 0, 0, 0, 0, 0, 0, 0, 0, 0, 0, 0, 0, 0, 0, 0, 0, 0, 0, 0, 0, 0, 0, 0, 0, 0, 0, 0, 0, 0, 0, 0, 0, 0, 0, 0, 0, 0, 0, 0, 0, 0, 0, 0, 0, 0, 0, 0, 0, 0, 0, 0, 0, 0, 0, 0, 0, 0, 0, 0, 0, 0, 0, 0, 0, 0, 0, 0, 0, 0, 0, 0, 0, 0, 0, 0, 0, 0, 0, 0, 0, 0, 0, 0, 0, 0, 0, 0, 0, 0, 0, 0, 0, 0, 0, 0, 0, 0, 0, 0, 0, 0, 0, 0, 0, 0, 0, 0, 0, 0, 0, 0, 0, 0, 0, 0, 0, 0, 0, 0, 0, 0, 0, 0, 0, 0, 0, 0, 0, 0, 0, 0, 0, 0, 0, 0, 0, 0, 0, 0, 0, 0, 0, 0, 0, 0, 0, 0, 0, 0, 0, 0, 0, 0, 0, 0, 0, 0, 0, 0, 0, 0, 0, 0, 0, 0, 0, 0, 0, 0, 0, 0, 0, 0, 0, 0, 0, 0, 0, 0, 0, 0, 0, 0, 0, 0, 0, 0, 0, 0, 0, 0, 0, 0, 0, 0, 0, 0, 0, 0, 0, 0, 0, 0, 0, 0, 0, 0, 0, 0, 0, 0, 0, 0, 0, 0, 0, 0, 0, 0, 0, 0, 0, 0, 0, 0, 0, 0, 0, 0, 0, 0, 0, 0, 0, 0, 0, 0, 0, 0, 0, 0, 0, 0, 0, 0, 0, 0, 0, 0, 0, 0, 0, 0, 0, 0, 0, 0, 0, 0, 0, 0, 0, 0, 0, 0, 0, 0, 0, 0, 0, 0, 0, 0, 0, 0, 0, 0, 0, 0, 0, 0, 0, 0, 0, 0, 0, 0, 0, 0, 0, 0, 0, 0, 0, 0, 0, 0, 0, 0, 0, 0, 0, 0, 0, 0, 0, 0, 0, 0, 0, 0, 0, 0, 0, 0, 0, 0, 0, 0, 0, 0, 0, 0, 0, 0, 0, 0, 0, 0, 0, 0, 0, 0, 0, 0, 0, 0, 0, 0, 0, 0, 0, 0, 0, 0, 0, 0, 0, 0, 0, 0, 0, 0, 0, 0, 0, 0, 0, 0, 0, 0, 0, 0, 0, 0, 0, 0, 0, 0, 0, 0, 0, 0, 0, 0, 0, 0, 0, 0, 0, 0, 0, 0, 0, 0, 0, 0, 0, 0, 0, 0, 0, 0, 0, 0, 0, 0, 0, 0, 0, 0, 0, 0, 0, 0, 0, 0, 0, 0, 0, 0, 0, 0, 0, 0, 0, 0, 0, 0, 0, 0, 0, 0, 0, 0, 0, 0, 0, 0, 0, 0, 0, 0, 0, 0, 0, 0, 0, 0, 0, 0, 0, 0, 0, 0, 0, 0, 0, 0, 0, 0, 0, 0, 0, 0, 0, 0, 0, 0, 0, 0, 0, 0, 0, 0, 0, 0, 0, 0, 0, 0, 0, 0, 0, 0, 0, 0, 0, 0, 0, 0, 0, 0, 0, 0, 0, 0, 0, 0, 0, 0, 0, 0, 0, 0, 0, 0, 0, 0, 0, 0, 0, 0, 0, 0, 0, 0, 0, 0, 0, 0, 0, 1, 0, 0, 0, 0, 0, 0, 0, 0, 0, 0, 0, 0, 0, 0, 0, 0, 0, 0, 0, 0, 0, 0, 0, 0, 0, 0, 0, 0, 0, 0, 0, 0, 0, 0, 0, 0, 0, 0, 0, 0, 0, 0, 0, 0, 0, 0, 0, 0, 0, 0, 0, 0, 0, 0, 0, 0, 0, 0, 0, 0, 0, 0, 0, 0, 0, 0, 0, 0, 0, 0, 0, 0, 0, 0, 1, 0, 0, 0, 0, 0, 0, 0, 0, 0, 0, 0, 0, 0, 0, 0, 0, 0, 0, 0, 0, 1, 0, 0, 1, 0, 0, 0, 0, 0, 0, 0, 0, 0, 0, 0, 0, 0, 0, 0, 0, 0, 0, 0, 0, 0, 0, 0, 0, 0, 0, 0, 0, 0, 0, 0, 0, 0, 0, 0, 0, 0, 0, 0, 0, 0, 0, 0, 0, 0, 0, 0, 0, 0, 0, 0, 0, 0, 0, 0, 0, 0, 0, 0, 0, 0, 0, 0, 0, 0, 0, 0, 0, 0, 0, 0, 0, 0, 0, 0, 0, 0, 0, 0, 0, 0, 0, 0, 0, 0, 0, 0, 0, 0, 0, 0, 0, 0, 0, 0, 0, 0, 0, 0, 0, 0, 0, 0, 0, 0, 0, 0, 0, 0, 0, 0, 0, 0, 0, 0, 0, 0, 0, 0, 0, 0, 0, 0, 0, 0, 0, 0, 0, 0, 0, 0, 0, 0, 0, 0, 0, 0, 0, 0, 0, 0, 0, 0, 0, 0, 0, 0, 0, 0, 0, 0, 0, 0, 0, 0, 0, 0, 0, 0, 0, 0, 0, 0, 0, 0, 0, 0, 0, 0, 0, 0, 0, 0, 0, 0, 0, 0, 0, 0, 0, 0, 0, 0, 0, 0, 0, 0, 0, 0, 0, 0, 0, 0, 0, 0, 0, 0, 0, 0, 0, 0, 0, 0, 0, 0, 0, 0, 0, 0, 0, 0, 0, 0, 0, 0, 0, 0, 0, 0, 0, 0, 0, 0, 0, 0, 0, 0, 0, 0, 0, 0, 0, 0, 0, 0, 0, 0, 0, 0, 0, 0, 0, 0, 0, 0, 0, 0, 0, 0, 0, 0, 0, 0, 0, 0, 0, 0, 0, 0, 0, 0, 0, 0, 0, 0, 0, 0, 0, 0, 0, 0, 0, 0, 0, 0, 0, 0, 0, 0, 0, 0, 0, 0, 0, 0, 0, 0, 0, 0, 0, 0, 0, 0, 0, 0, 0, 0, 0, 0, 0, 0, 0, 0, 0, 0, 0, 0, 0, 0, 0, 0, 0, 0, 0, 0, 0, 0, 0, 0, 0, 0, 0, 0, 0, 0, 0, 0, 0, 0, 0, 0, 0, 0, 0, 0, 0, 0, 0, 0, 0, 0, 0, 0, 0, 0, 0, 0, 0, 0, 0, 0, 0, 0, 0, 0, 0, 0, 0, 0, 0, 0, 0, 0, 0, 0, 0, 0, 0, 0, 0, 0, 0, 0, 0, 0, 0, 0, 0, 0, 0, 0, 0, 0, 0, 0, 0, 0, 0, 0, 0, 0, 0, 0, 0, 0, 0, 0, 0, 0, 0, 0, 0, 0, 0, 0, 0, 0, 0, 0, 0, 0, 0, 0, 0, 0, 0, 0, 0, 0, 0, 0, 0, 0, 0, 0, 0, 0, 0, 0, 0, 0, 0, 0, 0, 0, 0, 0, 0, 0, 0, 0, 0, 0, 0, 0, 0, 0, 0, 0, 0, 0, 0, 0, 0, 0, 0, 0, 0, 0, 0, 0, 0, 0, 0, 0, 0, 1, 0, 0, 0, 0, 0, 0, 0, 0, 0, 0, 0, 0, 0, 0, 0, 0, 0, 0, 0, 0, 0, 0, 0, 0, 0, 0, 0, 0, 0, 0, 0, 0, 0, 0, 0, 0, 0, 0, 0, 0, 0, 0, 0, 0, 0, 0, 0, 0, 0, 0, 0, 0, 0, 0, 0, 0, 0, 0, 0, 0, 0, 0, 0, 0, 0, 0, 0, 0, 0, 0, 0, 0, 0, 0, 0, 0, 0, 0, 0, 0, 0, 0, 0, 0, 0, 0, 0, 0, 0, 0, 0, 0, 0, 0, 0, 0, 0, 0, 0, 0, 0, 0, 0, 0, 0, 0, 0, 0, 0, 0, 0, 0, 0, 0, 0, 0, 0, 0, 0, 0, 0, 0, 0, 0, 0, 0, 0, 0, 0, 0, 0, 0, 0, 0, 0, 0, 0, 0, 0, 0, 0, 0, 0, 0, 0, 0, 0, 0, 0, 0, 0, 0, 0, 0, 0, 0, 0, 0, 0, 0, 0, 0, 0, 0, 0, 0, 0, 0, 0, 0, 0, 0, 0, 0, 0, 0, 0, 0, 0, 0, 0, 0, 0, 0, 0, 0, 0, 0, 0, 0, 0, 0, 0, 0, 0, 0, 0, 0, 0, 0, 0, 0, 0, 0, 0, 0, 0, 0, 0, 0, 0, 0, 0, 0, 0, 0, 0, 0, 0, 0, 0, 0, 0, 0, 0, 0, 0, 0, 0, 0, 0, 0, 0, 0, 0, 0, 0, 0, 0, 0, 0, 0, 0, 0, 0, 0, 0, 0, 0, 0, 0, 0, 0, 0, 0, 0, 0, 0, 0, 0, 0, 0, 0, 0, 0, 0, 0, 0, 0, 0, 0, 0, 0, 0, 0, 0, 0, 0, 0, 0, 0, 0, 0, 0, 0, 0, 0, 0, 0, 0, 0, 0, 0, 0, 0, 0, 0, 0, 0, 0, 0, 0, 0, 0, 0, 0, 0, 0, 0, 0, 0, 0, 0, 0, 0, 0, 0, 0, 0, 0, 0, 0, 0, 0, 0, 0, 0, 0, 0, 0, 0, 0, 0, 0, 0, 0, 0, 0, 0, 0, 0, 0, 0, 0, 0, 0, 0, 0, 0, 0, 0, 0, 0, 0, 0, 0, 0, 0, 0, 0, 0, 0, 0, 0, 0, 0, 0, 0, 0, 0, 0, 0, 0, 0, 0, 0, 0, 0, 0, 0, 0, 0, 0, 0, 0, 0, 0, 0, 0, 0, 0, 0, 0, 0, 0, 0, 0, 0, 0, 0, 0, 0, 0, 0, 0, 0, 0, 0, 0, 0, 0, 0, 0, 0, 0, 0, 0, 0, 0, 0, 0, 0, 0, 0, 0, 0, 0, 0, 0, 0, 0, 0, 0, 0, 0, 0, 0, 0, 0, 0, 0, 0, 0, 0, 0, 0, 0, 0, 0, 0, 0, 0, 0, 0, 0, 0, 0, 0, 0, 0, 0, 0, 0, 0, 0, 0, 0, 0, 0, 0, 0, 0, 0, 0, 0, 0, 0, 0, 0, 0, 0, 0, 0, 0, 0, 0, 0, 0, 0, 0, 0, 0, 0, 0, 0, 0, 0, 0, 0, 0, 0, 0, 0, 0, 0, 0, 0, 0, 0, 0, 0, 0, 1, 0, 0, 0, 0, 0, 0, 0, 0, 0, 0, 0, 0, 0, 0, 0, 0, 0, 0, 0, 0, 0, 0, 0, 0, 0, 0, 0, 0, 0, 0, 0, 0, 0, 0, 0, 2, 0, 0, 0, 0, 0, 0, 0, 0, 0, 0, 0, 0, 0, 0, 0, 0, 0, 0, 0, 0, 0, 0, 0, 0, 0, 0, 0, 0, 0, 0, 0, 0, 0, 0, 0, 0, 0, 0, 0, 0, 1, 0, 0, 0, 0, 0, 0, 0, 0, 0, 0, 0, 0, 0, 0, 0, 0, 0, 0, 0, 0, 0, 0, 0, 0, 0, 0, 0, 0, 0, 0, 0, 0, 0, 0, 0, 0, 0, 0, 0, 0, 0, 0, 0, 0, 0, 0, 0, 0, 0, 0, 0, 0, 0, 0, 0, 0, 0, 0, 0, 0, 0, 0, 0, 0, 0, 0, 0, 0, 0, 0, 0, 0, 0, 0, 0, 0, 0, 0, 0, 0, 0, 0, 0, 0, 0, 0, 0, 0, 0, 0, 0, 0, 0, 0, 0, 0, 0, 0, 0, 0, 0, 0, 0, 0, 0, 0, 0, 0, 0, 0, 0, 0, 0, 0, 0, 0, 0, 0, 0, 0, 0, 0, 0, 0, 0, 0, 0, 0, 0, 0, 0, 0, 0, 0, 0, 0, 0, 0, 0, 0, 0, 0, 0, 0, 0, 0, 0, 0, 0, 0, 0, 0, 0, 0, 0, 0, 0, 0, 0, 0, 0, 0, 0, 0, 0, 0, 0, 0, 0, 0, 0, 0, 0, 0, 0, 0, 0, 0, 0, 0, 0, 0, 0, 0, 0, 0, 0, 0, 0, 0, 0, 0, 0, 0, 0, 0, 0, 0, 0, 0, 0, 0, 0, 0, 0, 0, 0, 0, 0, 0, 0, 0, 0, 0, 0, 0, 0, 0, 0, 0, 0, 0, 0, 0, 0, 0, 0, 0, 0, 0, 0, 0, 0, 0, 0, 0, 0, 0, 0, 0, 0, 0, 0, 0, 0, 0, 0, 0, 0, 0, 0, 0, 0, 0, 0, 0, 0, 0, 0, 0, 0, 0, 0, 0, 0, 0, 0, 0, 0, 0, 0, 0, 0, 0, 0, 0, 0, 0, 0, 0, 0, 0, 0, 0, 0, 0, 0, 0, 0, 0, 0, 0, 0, 0, 0, 0, 0, 0, 0, 0, 0, 0, 0, 0, 0, 0, 0, 0, 0, 0, 0, 0, 0, 0, 0, 0, 0, 0, 0, 0, 0, 0, 0, 0, 0, 0, 0, 0, 0, 0, 0, 0, 0, 0, 0, 0, 0, 0, 0, 0, 0, 0, 0, 0, 0, 0, 0, 0, 0, 0, 0, 0, 0, 0, 0, 0, 0, 0, 0, 0, 0, 0, 0, 0, 0, 0, 0, 0, 0, 0, 0, 0, 0, 0, 0, 0, 0, 0, 0, 0, 0, 0, 0, 0, 0, 0, 0, 0, 0, 0, 0, 0, 0, 0, 0, 0, 0, 0, 0, 0, 0, 0, 0, 0, 0, 0, 0, 0, 0, 0, 0, 0, 0, 0, 0, 0, 0, 0, 0, 0, 0, 0, 0, 0, 0, 0, 0, 0, 0, 0, 0, 0, 0, 0, 0, 0, 0, 0, 0, 0, 0, 0, 0, 0, 0, 0, 0, 0, 0, 0, 0, 0, 0, 0, 0, 0, 0, 0, 0, 0, 0, 0, 0, 0, 0, 0, 0, 0, 0, 0, 0, 0, 0, 0, 0, 0, 0, 0, 0, 0, 0, 0, 0, 0, 0, 0, 0, 0, 0, 0, 0, 0, 0, 0, 0, 0, 0, 1, 0, 0, 0, 0, 0, 0, 0, 0, 0, 0, 0, 0, 0, 0, 0, 0, 0, 0, 0, 0, 0, 0, 0, 0, 0, 0, 0, 0, 0, 0, 0, 0, 0, 0, 0, 0, 0, 0, 0, 0, 0, 0, 0, 0, 0, 0, 0, 0, 0, 0, 0, 0, 0, 0, 0, 0, 0, 0, 0, 0, 0, 0, 0, 0, 0, 0, 0, 0, 0, 0, 0, 0, 0, 0, 0, 0, 0, 0, 0, 0, 0, 0, 0, 0, 0, 0, 0, 0, 0, 0, 0, 0, 0, 0, 0, 0, 0, 0, 0, 0, 0, 0, 0, 0, 0, 0, 0, 0, 0, 0, 2, 0, 0, 0, 0, 0, 0, 0, 0, 0, 0, 0, 0, 0, 0, 0, 0, 0, 0, 0, 0, 0, 0, 0, 0, 0, 0, 0, 0, 0, 0, 0, 0, 0, 0, 0, 0, 0, 0, 0, 0, 0, 0, 0, 0, 0, 0, 0, 0, 0, 0, 0, 0, 0, 0, 0, 0, 0, 0, 0, 0, 0, 0, 0, 0, 0, 0, 0, 0, 0, 0, 0, 0, 0, 0, 0, 0, 0, 0, 0, 0, 0, 0, 0, 0, 0, 0, 0, 0, 0, 0, 0, 0, 0, 0, 0, 0, 0, 0, 0, 0, 0, 0, 0, 0, 0, 0, 0, 0, 0, 0, 0, 0, 0, 0, 0, 0, 0, 0, 0, 0, 0, 0, 0, 0, 0, 0, 0, 0, 0, 0, 0, 0, 0, 0, 0, 0, 0, 0, 0, 0, 0, 0, 0, 0, 0, 0, 0, 0, 0, 0, 0, 0, 0, 0, 0, 0, 0, 0, 0, 0, 0, 0, 0, 0, 0, 0, 0, 0, 0, 0, 0, 0, 0, 0, 0, 0, 0, 0, 0, 0, 0, 0, 0, 0, 0, 0, 0, 0, 0, 0, 0, 0, 0, 0, 0, 0, 0, 0, 0, 0, 0, 0, 0, 0, 0, 0, 0, 0, 0, 0, 0, 0, 0, 0, 0, 0, 0, 0, 0, 0, 0, 0, 0, 0, 0, 0, 0, 0, 0, 0, 0, 0, 0, 0, 0, 0, 0, 0, 0, 0, 0, 0, 0, 0, 0, 0, 0, 0, 0, 0, 0, 0, 0, 0, 0, 0, 0, 0, 0, 0, 0, 0, 0, 0, 0, 0, 0, 0, 0, 0, 0, 0, 0, 0, 0, 0, 0, 0, 0, 0, 0, 0, 0, 0, 0, 0, 0, 0, 0, 0, 0, 0, 0, 0, 0, 0, 0, 0, 0, 0, 0, 0, 0, 0, 0, 0, 0, 0, 0, 0, 0, 0, 0, 0, 0, 0, 0, 0, 0, 0, 0, 0, 0, 0, 0, 0, 0, 0, 0, 0, 0, 0, 0, 0, 0, 0, 0, 0, 0, 0, 0, 0, 0, 0, 0, 0, 0, 0, 0, 0, 0, 0, 0, 0, 0, 0, 0, 0, 0, 0, 0, 0, 0, 0, 0, 0, 0, 0, 0, 0, 0, 0, 0, 0, 0, 0, 0, 0, 0, 0, 0, 0, 0, 0, 0, 0, 0, 0, 0, 0, 0, 0, 0, 0, 0, 0, 0, 0, 0, 0, 0, 0, 0, 0, 0, 0, 0, 0, 0, 0, 0, 0, 0, 0, 0, 0, 0, 0, 0, 0, 0, 0, 0, 0, 0, 0, 0, 0, 0, 0, 0, 0, 0, 0, 0, 0, 0, 0, 0, 0, 0, 0, 0, 0, 0, 0, 0, 0, 0, 0, 0, 0, 0, 0, 0, 0, 0, 0, 0, 0, 0, 0, 0, 0, 0, 0, 0, 0, 0, 0, 0, 0, 0, 0, 0, 0, 0, 0, 0, 0, 0, 0, 0, 0, 0, 0, 0, 0, 0, 0, 0, 0, 0, 0, 0, 0, 0, 0, 0, 0, 0, 0, 0, 0, 0, 0, 0, 0, 0, 0, 0, 0, 0, 0, 0, 0, 0, 0, 0, 0, 0, 0, 0, 0, 0, 0, 0, 0, 0, 0, 0, 0, 0, 0, 0, 0, 0, 0, 0, 0, 0, 0, 0, 0, 0, 0, 0, 0, 0, 0, 0, 0, 0, 0, 0, 0, 0, 0, 0, 0, 0, 0, 0, 0, 0, 0, 0, 0, 0, 0, 0, 0, 0, 0, 0, 0, 0, 0, 0, 0, 0, 0, 0, 0, 0, 0, 0, 0, 0, 0, 0, 0, 0, 0, 0, 0, 0, 0, 0, 0, 0, 0, 0, 0, 0, 0, 0, 0, 0, 0, 0, 0, 0, 0, 0, 0, 0, 0, 0, 0, 0, 0, 0, 0, 0, 0, 0, 0, 0, 0, 0, 0, 0, 0, 0, 0, 0, 0, 0, 0, 0, 0, 0, 0, 0, 0, 0, 0, 0, 0, 0, 0, 0, 0, 0, 0, 0, 0, 0, 0, 0, 0, 0, 0, 0, 0, 0, 0, 0, 0, 0, 0, 0, 0, 0, 0, 0, 0, 0, 0, 0, 0, 0, 0, 0, 0, 0, 0, 0, 0, 1, 0, 0, 0, 0, 0, 0, 0, 0, 0, 0, 0, 0, 0, 0, 0, 0, 0, 0, 0, 0, 0, 0, 0, 0, 0, 0, 0, 0, 0, 0, 0, 0, 0, 0, 0, 0, 0, 0, 0, 0, 0, 0, 0, 0, 0, 0, 0, 0, 0, 0, 0, 0, 0, 0, 0, 0, 0, 0, 0, 0, 0, 0, 0, 0, 0, 0, 0, 0, 0, 0, 0, 0, 0, 0, 0, 0, 0, 0, 0, 0, 0, 0, 0, 0, 0, 0, 0, 0, 0, 0, 0, 0, 0, 0, 0, 0, 0, 0, 0, 0, 0, 0, 0, 0, 0, 0, 0, 1, 0, 0, 0, 0, 0, 0, 0, 0, 0, 0, 0, 0, 0, 0, 0, 0, 0, 0, 0, 0, 0, 0, 0, 0, 0, 0, 0, 0, 0, 0, 0, 0, 0, 0, 0, 0, 0, 0, 0, 0, 0, 0, 0, 0, 0, 0, 0, 0, 0, 0, 0, 0, 0, 0, 0, 0, 0, 0, 0, 0, 0, 0, 0, 0, 0, 0, 0, 0, 0, 0, 0, 0, 0, 0, 0, 0, 0, 0, 0, 0, 0, 0, 0, 0, 0, 0, 0, 0, 0, 0, 0, 0, 0, 0, 0, 0, 0, 0, 0, 0, 0, 0, 0, 0, 0, 0, 0, 0, 0, 0, 0, 0, 0, 0, 0, 0, 0, 0, 0, 0, 0, 0, 0, 0, 0, 0, 0, 0, 0, 0, 0, 0, 0, 0, 0, 0, 0, 0, 0, 0, 0, 0, 0, 0, 0, 0, 0, 0, 0, 0, 0, 0, 0, 0, 0, 0, 0, 0, 0, 0, 0, 0, 0, 0, 0, 0, 0, 0, 0, 0, 0, 0, 0, 0, 0, 0, 0, 0, 0, 0, 0, 0, 0, 0, 0, 0, 0, 0, 0, 0, 0, 0, 0, 0, 0, 0, 0, 0, 0, 0, 0, 0, 0, 0, 0, 0, 0, 0, 0, 0, 0, 0, 0, 0, 0, 0, 0, 0, 0, 0, 0, 0, 0, 0, 0, 0, 0, 0, 0, 0, 0, 0, 0, 0, 0, 0, 0, 0, 0, 0, 0, 0, 0, 0, 0, 0, 0, 0, 0, 0, 0, 0, 0, 0, 0, 0, 0, 0, 0, 0, 0, 0, 0, 0, 0, 0, 0, 0, 0, 0, 0, 0, 0, 0, 0, 0, 0, 0, 0, 0, 0, 0, 0, 0, 0, 0, 0, 0, 0, 0, 0, 0, 0, 0, 0, 0, 0, 0, 0, 0, 0, 0, 0, 0, 0, 0, 0, 0, 0, 0, 0, 0, 0, 0, 0, 0, 0, 0, 0, 0, 0, 0, 0, 0, 0, 0, 0, 0, 0, 0, 0, 0, 0, 0, 0, 0, 0, 0, 0, 0, 0, 0, 0, 0, 0, 0, 0, 0, 0, 0, 0, 0, 0, 0, 0, 0, 0, 0, 0, 0, 0, 0, 0, 0, 0, 0, 0, 0, 0, 0, 0, 0, 0, 0, 0, 0, 0, 0, 0, 0, 0, 0, 0, 0, 0, 0, 0, 0, 0, 0, 0, 0, 0, 0, 0, 0, 0, 0, 0, 0, 0, 0, 0, 0, 0, 0, 0, 0, 0, 0, 0, 0, 0, 0, 0, 0, 0, 0, 0, 0, 0, 0, 0, 0, 0, 0, 0, 0, 0, 0, 0, 0, 0, 0, 0, 0, 0, 0, 0, 0, 0, 0, 0, 0, 0, 0, 0, 0, 0, 0, 0, 0, 0, 0, 0, 0, 0, 0, 0, 0, 0, 0, 0, 2, 0, 1, 0], type: <class 'list'>, valid types: <class 'bytes'>, <class 'bytearray'>, file-like object",
     "output_type": "error",
     "traceback": [
      "\u001b[0;31m---------------------------------------------------------------------------\u001b[0m",
      "\u001b[0;31mParamValidationError\u001b[0m                      Traceback (most recent call last)",
      "\u001b[0;32m<ipython-input-60-c9ab54ae3a48>\u001b[0m in \u001b[0;36m<module>\u001b[0;34m\u001b[0m\n\u001b[1;32m      1\u001b[0m response = runtime.invoke_endpoint(EndpointName = xgb_predictor.endpoint, # The name of the endpoint we created\n\u001b[1;32m      2\u001b[0m                                        \u001b[0mContentType\u001b[0m \u001b[0;34m=\u001b[0m \u001b[0;34m'text/csv'\u001b[0m\u001b[0;34m,\u001b[0m                     \u001b[0;31m# The data format that is expected\u001b[0m\u001b[0;34m\u001b[0m\u001b[0;34m\u001b[0m\u001b[0m\n\u001b[0;32m----> 3\u001b[0;31m                                        Body = test_bow)\n\u001b[0m",
      "\u001b[0;32m~/anaconda3/envs/python3/lib/python3.6/site-packages/botocore/client.py\u001b[0m in \u001b[0;36m_api_call\u001b[0;34m(self, *args, **kwargs)\u001b[0m\n\u001b[1;32m    355\u001b[0m                     \"%s() only accepts keyword arguments.\" % py_operation_name)\n\u001b[1;32m    356\u001b[0m             \u001b[0;31m# The \"self\" in this scope is referring to the BaseClient.\u001b[0m\u001b[0;34m\u001b[0m\u001b[0;34m\u001b[0m\u001b[0;34m\u001b[0m\u001b[0m\n\u001b[0;32m--> 357\u001b[0;31m             \u001b[0;32mreturn\u001b[0m \u001b[0mself\u001b[0m\u001b[0;34m.\u001b[0m\u001b[0m_make_api_call\u001b[0m\u001b[0;34m(\u001b[0m\u001b[0moperation_name\u001b[0m\u001b[0;34m,\u001b[0m \u001b[0mkwargs\u001b[0m\u001b[0;34m)\u001b[0m\u001b[0;34m\u001b[0m\u001b[0;34m\u001b[0m\u001b[0m\n\u001b[0m\u001b[1;32m    358\u001b[0m \u001b[0;34m\u001b[0m\u001b[0m\n\u001b[1;32m    359\u001b[0m         \u001b[0m_api_call\u001b[0m\u001b[0;34m.\u001b[0m\u001b[0m__name__\u001b[0m \u001b[0;34m=\u001b[0m \u001b[0mstr\u001b[0m\u001b[0;34m(\u001b[0m\u001b[0mpy_operation_name\u001b[0m\u001b[0;34m)\u001b[0m\u001b[0;34m\u001b[0m\u001b[0;34m\u001b[0m\u001b[0m\n",
      "\u001b[0;32m~/anaconda3/envs/python3/lib/python3.6/site-packages/botocore/client.py\u001b[0m in \u001b[0;36m_make_api_call\u001b[0;34m(self, operation_name, api_params)\u001b[0m\n\u001b[1;32m    647\u001b[0m         }\n\u001b[1;32m    648\u001b[0m         request_dict = self._convert_to_request_dict(\n\u001b[0;32m--> 649\u001b[0;31m             api_params, operation_model, context=request_context)\n\u001b[0m\u001b[1;32m    650\u001b[0m \u001b[0;34m\u001b[0m\u001b[0m\n\u001b[1;32m    651\u001b[0m         \u001b[0mservice_id\u001b[0m \u001b[0;34m=\u001b[0m \u001b[0mself\u001b[0m\u001b[0;34m.\u001b[0m\u001b[0m_service_model\u001b[0m\u001b[0;34m.\u001b[0m\u001b[0mservice_id\u001b[0m\u001b[0;34m.\u001b[0m\u001b[0mhyphenize\u001b[0m\u001b[0;34m(\u001b[0m\u001b[0;34m)\u001b[0m\u001b[0;34m\u001b[0m\u001b[0;34m\u001b[0m\u001b[0m\n",
      "\u001b[0;32m~/anaconda3/envs/python3/lib/python3.6/site-packages/botocore/client.py\u001b[0m in \u001b[0;36m_convert_to_request_dict\u001b[0;34m(self, api_params, operation_model, context)\u001b[0m\n\u001b[1;32m    695\u001b[0m             api_params, operation_model, context)\n\u001b[1;32m    696\u001b[0m         request_dict = self._serializer.serialize_to_request(\n\u001b[0;32m--> 697\u001b[0;31m             api_params, operation_model)\n\u001b[0m\u001b[1;32m    698\u001b[0m         \u001b[0;32mif\u001b[0m \u001b[0;32mnot\u001b[0m \u001b[0mself\u001b[0m\u001b[0;34m.\u001b[0m\u001b[0m_client_config\u001b[0m\u001b[0;34m.\u001b[0m\u001b[0minject_host_prefix\u001b[0m\u001b[0;34m:\u001b[0m\u001b[0;34m\u001b[0m\u001b[0;34m\u001b[0m\u001b[0m\n\u001b[1;32m    699\u001b[0m             \u001b[0mrequest_dict\u001b[0m\u001b[0;34m.\u001b[0m\u001b[0mpop\u001b[0m\u001b[0;34m(\u001b[0m\u001b[0;34m'host_prefix'\u001b[0m\u001b[0;34m,\u001b[0m \u001b[0;32mNone\u001b[0m\u001b[0;34m)\u001b[0m\u001b[0;34m\u001b[0m\u001b[0;34m\u001b[0m\u001b[0m\n",
      "\u001b[0;32m~/anaconda3/envs/python3/lib/python3.6/site-packages/botocore/validate.py\u001b[0m in \u001b[0;36mserialize_to_request\u001b[0;34m(self, parameters, operation_model)\u001b[0m\n\u001b[1;32m    295\u001b[0m                                                     operation_model.input_shape)\n\u001b[1;32m    296\u001b[0m             \u001b[0;32mif\u001b[0m \u001b[0mreport\u001b[0m\u001b[0;34m.\u001b[0m\u001b[0mhas_errors\u001b[0m\u001b[0;34m(\u001b[0m\u001b[0;34m)\u001b[0m\u001b[0;34m:\u001b[0m\u001b[0;34m\u001b[0m\u001b[0;34m\u001b[0m\u001b[0m\n\u001b[0;32m--> 297\u001b[0;31m                 \u001b[0;32mraise\u001b[0m \u001b[0mParamValidationError\u001b[0m\u001b[0;34m(\u001b[0m\u001b[0mreport\u001b[0m\u001b[0;34m=\u001b[0m\u001b[0mreport\u001b[0m\u001b[0;34m.\u001b[0m\u001b[0mgenerate_report\u001b[0m\u001b[0;34m(\u001b[0m\u001b[0;34m)\u001b[0m\u001b[0;34m)\u001b[0m\u001b[0;34m\u001b[0m\u001b[0;34m\u001b[0m\u001b[0m\n\u001b[0m\u001b[1;32m    298\u001b[0m         return self._serializer.serialize_to_request(parameters,\n\u001b[1;32m    299\u001b[0m                                                      operation_model)\n",
      "\u001b[0;31mParamValidationError\u001b[0m: Parameter validation failed:\nInvalid type for parameter Body, value: [0, 0, 0, 0, 0, 0, 0, 0, 0, 0, 0, 0, 0, 0, 0, 0, 0, 0, 0, 0, 0, 0, 0, 0, 0, 0, 0, 0, 0, 0, 0, 0, 0, 0, 0, 0, 0, 0, 0, 0, 0, 0, 0, 0, 0, 0, 0, 0, 0, 0, 0, 0, 0, 0, 0, 0, 0, 0, 0, 0, 0, 0, 0, 0, 0, 0, 0, 0, 0, 0, 0, 0, 0, 0, 0, 0, 0, 0, 0, 0, 0, 0, 0, 0, 0, 0, 0, 0, 0, 0, 0, 0, 0, 0, 0, 0, 0, 0, 0, 0, 0, 0, 0, 0, 0, 0, 0, 0, 0, 0, 0, 0, 0, 0, 0, 0, 0, 0, 0, 0, 0, 0, 0, 0, 0, 0, 0, 0, 0, 0, 0, 0, 0, 0, 0, 0, 0, 0, 0, 0, 0, 0, 0, 0, 0, 0, 0, 0, 0, 0, 0, 0, 0, 0, 0, 0, 0, 0, 0, 0, 0, 0, 0, 0, 0, 0, 0, 0, 0, 0, 0, 0, 0, 0, 0, 0, 0, 0, 0, 0, 0, 0, 0, 0, 0, 0, 0, 0, 0, 0, 0, 0, 0, 0, 0, 0, 0, 0, 0, 0, 0, 0, 0, 0, 0, 0, 0, 0, 0, 0, 0, 0, 0, 0, 0, 0, 0, 0, 0, 0, 0, 0, 0, 0, 0, 0, 1, 0, 0, 0, 0, 0, 0, 0, 0, 0, 0, 0, 0, 0, 0, 0, 0, 0, 0, 0, 0, 0, 0, 0, 0, 0, 0, 0, 0, 0, 1, 0, 0, 0, 0, 0, 0, 0, 0, 0, 0, 0, 0, 0, 0, 0, 0, 0, 0, 0, 0, 0, 0, 0, 0, 0, 0, 0, 0, 0, 0, 0, 0, 0, 0, 0, 0, 0, 0, 0, 0, 0, 0, 0, 0, 0, 0, 0, 0, 0, 0, 0, 0, 0, 0, 0, 0, 0, 0, 0, 0, 0, 0, 0, 0, 0, 0, 0, 0, 0, 0, 0, 0, 0, 0, 0, 0, 0, 0, 0, 0, 0, 0, 0, 0, 0, 0, 0, 0, 0, 0, 0, 0, 0, 0, 0, 0, 0, 0, 0, 0, 0, 0, 0, 0, 0, 0, 0, 0, 0, 0, 0, 0, 0, 0, 0, 0, 0, 0, 0, 0, 0, 0, 0, 0, 0, 0, 0, 0, 0, 0, 0, 0, 0, 0, 0, 0, 0, 0, 0, 0, 0, 0, 0, 0, 0, 0, 0, 0, 0, 0, 0, 0, 0, 0, 0, 0, 0, 0, 0, 0, 0, 0, 0, 0, 0, 0, 0, 0, 0, 0, 0, 0, 0, 0, 0, 0, 0, 0, 0, 0, 0, 0, 0, 0, 0, 0, 0, 0, 0, 0, 0, 0, 0, 0, 0, 0, 0, 0, 0, 0, 0, 0, 0, 0, 0, 0, 0, 0, 0, 0, 0, 0, 0, 0, 0, 0, 0, 0, 0, 0, 0, 0, 0, 0, 0, 0, 0, 0, 0, 0, 0, 0, 0, 0, 0, 0, 0, 0, 0, 0, 0, 0, 0, 0, 0, 0, 0, 0, 0, 0, 0, 0, 0, 0, 0, 0, 0, 0, 0, 0, 0, 0, 0, 0, 0, 0, 0, 0, 0, 0, 0, 0, 0, 0, 0, 0, 0, 0, 0, 0, 0, 0, 0, 0, 0, 0, 0, 0, 0, 0, 0, 0, 0, 0, 0, 0, 0, 0, 0, 0, 0, 0, 0, 0, 0, 0, 0, 0, 0, 0, 0, 0, 0, 0, 0, 0, 0, 0, 0, 0, 0, 0, 0, 0, 0, 0, 0, 0, 0, 0, 0, 0, 0, 0, 0, 0, 0, 0, 0, 0, 0, 0, 0, 0, 0, 0, 0, 0, 0, 0, 0, 0, 0, 0, 0, 0, 0, 0, 0, 0, 0, 0, 0, 0, 0, 0, 0, 0, 0, 0, 0, 0, 0, 0, 0, 0, 0, 0, 0, 1, 0, 0, 0, 0, 0, 0, 0, 0, 0, 0, 0, 0, 0, 0, 0, 0, 0, 0, 0, 0, 0, 0, 0, 0, 0, 0, 0, 0, 0, 0, 0, 0, 0, 0, 0, 0, 0, 0, 0, 0, 0, 0, 0, 0, 0, 0, 0, 0, 0, 0, 0, 0, 0, 0, 0, 0, 0, 0, 0, 0, 0, 0, 0, 0, 0, 0, 0, 0, 0, 0, 0, 0, 0, 0, 0, 0, 0, 0, 0, 0, 0, 0, 0, 0, 0, 0, 0, 0, 0, 0, 0, 0, 0, 0, 0, 0, 0, 0, 0, 0, 0, 0, 0, 0, 0, 0, 0, 0, 0, 0, 0, 0, 0, 0, 0, 0, 0, 0, 0, 0, 0, 0, 0, 0, 0, 0, 0, 0, 0, 0, 0, 0, 0, 0, 0, 0, 0, 0, 0, 0, 0, 0, 0, 0, 0, 0, 0, 0, 0, 0, 0, 0, 0, 0, 0, 0, 0, 0, 0, 0, 0, 0, 0, 0, 0, 0, 0, 0, 0, 0, 0, 0, 0, 0, 0, 0, 0, 0, 0, 0, 0, 0, 0, 0, 0, 0, 0, 0, 0, 0, 0, 0, 0, 0, 0, 0, 0, 0, 0, 0, 0, 0, 0, 0, 0, 0, 0, 0, 0, 0, 0, 0, 0, 0, 0, 0, 0, 0, 0, 0, 0, 0, 0, 0, 0, 0, 0, 0, 0, 0, 0, 0, 0, 0, 0, 0, 0, 0, 0, 0, 0, 0, 0, 0, 0, 0, 0, 0, 0, 0, 0, 0, 0, 1, 0, 0, 0, 0, 0, 0, 0, 0, 0, 0, 0, 0, 0, 0, 0, 0, 0, 0, 0, 0, 0, 0, 0, 0, 0, 0, 0, 0, 0, 0, 0, 0, 0, 0, 0, 0, 0, 0, 0, 0, 0, 0, 0, 0, 0, 0, 0, 0, 0, 0, 0, 0, 0, 0, 0, 0, 0, 0, 0, 0, 0, 0, 0, 0, 0, 0, 0, 0, 0, 0, 0, 0, 0, 0, 0, 0, 0, 0, 0, 0, 0, 0, 0, 0, 0, 0, 1, 0, 0, 0, 0, 0, 0, 0, 0, 0, 0, 0, 0, 0, 0, 0, 0, 0, 0, 0, 0, 0, 0, 0, 0, 0, 0, 0, 0, 0, 0, 0, 0, 0, 0, 0, 0, 0, 0, 0, 0, 0, 0, 0, 0, 0, 0, 0, 0, 0, 0, 0, 0, 0, 0, 0, 0, 0, 0, 0, 0, 0, 0, 0, 0, 0, 0, 0, 0, 0, 0, 0, 0, 0, 0, 0, 0, 0, 0, 0, 0, 0, 0, 0, 0, 0, 0, 0, 0, 0, 0, 0, 0, 0, 0, 0, 0, 0, 0, 0, 0, 0, 0, 0, 0, 0, 0, 0, 0, 0, 0, 0, 0, 0, 0, 0, 0, 0, 0, 0, 0, 0, 0, 0, 0, 0, 0, 0, 0, 0, 0, 0, 0, 0, 0, 0, 0, 0, 0, 0, 0, 0, 0, 0, 0, 0, 0, 0, 0, 0, 0, 0, 0, 0, 0, 0, 0, 0, 0, 0, 0, 0, 0, 0, 0, 0, 0, 0, 0, 0, 0, 0, 0, 0, 0, 0, 0, 0, 0, 0, 0, 0, 0, 0, 0, 0, 0, 0, 0, 0, 0, 0, 0, 0, 0, 0, 0, 0, 0, 0, 0, 0, 0, 0, 0, 0, 0, 0, 0, 0, 0, 0, 0, 0, 0, 0, 0, 0, 0, 0, 0, 0, 0, 0, 0, 0, 0, 0, 0, 0, 0, 0, 0, 0, 0, 0, 0, 0, 0, 0, 0, 0, 0, 0, 0, 0, 0, 0, 0, 0, 0, 0, 0, 1, 0, 0, 0, 0, 0, 0, 0, 0, 0, 0, 0, 0, 0, 0, 0, 0, 0, 0, 0, 0, 0, 0, 0, 0, 0, 0, 0, 0, 0, 0, 0, 0, 0, 0, 0, 0, 0, 0, 0, 0, 0, 0, 0, 0, 0, 0, 0, 0, 0, 0, 0, 0, 0, 0, 0, 1, 0, 0, 0, 0, 0, 0, 0, 0, 0, 0, 0, 0, 0, 0, 0, 0, 0, 0, 0, 0, 0, 0, 0, 0, 0, 0, 0, 0, 0, 0, 0, 0, 0, 0, 0, 0, 0, 0, 0, 0, 0, 0, 0, 0, 0, 0, 0, 0, 0, 0, 0, 0, 0, 0, 0, 0, 0, 0, 0, 0, 0, 0, 0, 0, 0, 0, 0, 0, 0, 0, 0, 0, 0, 0, 0, 0, 0, 0, 0, 0, 0, 0, 0, 0, 0, 0, 0, 0, 0, 0, 0, 0, 0, 0, 0, 0, 0, 0, 0, 0, 0, 0, 0, 0, 0, 0, 0, 0, 0, 0, 0, 0, 0, 0, 0, 0, 0, 0, 0, 0, 0, 0, 0, 0, 0, 0, 0, 0, 0, 0, 0, 0, 0, 0, 0, 0, 0, 0, 0, 0, 0, 0, 0, 0, 0, 0, 0, 0, 0, 0, 0, 0, 0, 0, 0, 0, 0, 0, 0, 0, 0, 0, 0, 0, 0, 0, 0, 0, 0, 0, 0, 0, 0, 0, 0, 0, 0, 0, 0, 0, 0, 0, 0, 0, 0, 0, 0, 0, 0, 0, 0, 0, 0, 0, 0, 0, 0, 0, 0, 0, 0, 0, 0, 0, 0, 0, 0, 0, 0, 0, 0, 0, 0, 0, 0, 0, 0, 0, 0, 0, 0, 0, 0, 0, 0, 0, 0, 0, 0, 0, 0, 0, 0, 0, 0, 0, 0, 0, 0, 0, 0, 0, 0, 0, 0, 0, 0, 0, 0, 0, 0, 0, 0, 0, 0, 0, 0, 0, 0, 0, 0, 0, 0, 0, 0, 0, 0, 0, 0, 0, 0, 0, 0, 0, 0, 0, 0, 0, 0, 0, 0, 0, 0, 0, 0, 0, 0, 0, 0, 0, 0, 0, 0, 0, 0, 0, 0, 0, 0, 0, 0, 0, 0, 0, 0, 0, 0, 0, 0, 0, 0, 0, 0, 0, 0, 0, 0, 0, 0, 0, 0, 0, 0, 0, 0, 0, 0, 0, 0, 0, 0, 0, 0, 0, 0, 0, 0, 0, 0, 0, 0, 0, 0, 0, 0, 0, 0, 0, 0, 0, 0, 0, 0, 0, 0, 0, 0, 0, 0, 0, 0, 0, 0, 0, 0, 0, 0, 0, 0, 0, 0, 0, 0, 0, 0, 0, 0, 0, 0, 0, 0, 0, 0, 0, 0, 0, 0, 0, 0, 0, 0, 0, 0, 0, 0, 0, 0, 0, 0, 0, 0, 0, 0, 0, 0, 0, 0, 0, 0, 0, 0, 0, 0, 0, 0, 0, 0, 0, 0, 0, 0, 0, 0, 0, 0, 0, 0, 0, 0, 0, 0, 0, 0, 0, 0, 0, 0, 0, 0, 0, 0, 0, 0, 0, 0, 0, 0, 0, 0, 0, 0, 0, 0, 0, 0, 0, 0, 0, 0, 0, 0, 0, 0, 0, 0, 0, 0, 0, 0, 0, 0, 0, 0, 0, 0, 0, 0, 0, 0, 0, 0, 0, 0, 0, 0, 0, 0, 0, 0, 0, 0, 0, 0, 0, 0, 0, 0, 0, 0, 0, 0, 0, 0, 0, 0, 0, 0, 0, 0, 0, 0, 0, 0, 0, 0, 0, 0, 0, 0, 0, 0, 0, 0, 0, 0, 0, 0, 0, 0, 0, 0, 0, 0, 0, 0, 0, 0, 0, 0, 0, 0, 0, 0, 0, 0, 0, 0, 0, 0, 0, 0, 0, 0, 0, 0, 0, 0, 0, 0, 0, 0, 0, 0, 0, 0, 0, 0, 0, 0, 0, 0, 0, 0, 0, 0, 0, 0, 0, 0, 0, 0, 0, 0, 0, 0, 0, 0, 0, 0, 0, 0, 0, 0, 0, 0, 0, 0, 0, 0, 0, 0, 0, 0, 0, 0, 0, 0, 0, 0, 0, 0, 0, 0, 0, 0, 0, 0, 0, 0, 0, 0, 0, 0, 0, 0, 0, 0, 0, 0, 0, 0, 0, 0, 0, 0, 0, 0, 0, 0, 0, 0, 0, 0, 0, 0, 0, 0, 0, 0, 0, 0, 0, 0, 0, 0, 0, 0, 0, 0, 0, 0, 0, 0, 0, 0, 0, 0, 0, 0, 0, 0, 0, 0, 0, 0, 0, 0, 0, 0, 0, 0, 1, 0, 0, 0, 0, 0, 0, 0, 0, 0, 0, 0, 0, 0, 0, 0, 0, 0, 0, 0, 0, 0, 0, 0, 0, 0, 0, 0, 0, 0, 0, 0, 0, 0, 0, 0, 0, 0, 0, 0, 0, 0, 0, 0, 0, 0, 0, 0, 0, 0, 0, 0, 0, 0, 0, 0, 0, 0, 0, 0, 0, 0, 0, 0, 0, 0, 0, 0, 0, 0, 0, 0, 0, 0, 0, 1, 0, 0, 0, 0, 0, 0, 0, 0, 0, 0, 0, 0, 0, 0, 0, 0, 0, 0, 0, 0, 1, 0, 0, 1, 0, 0, 0, 0, 0, 0, 0, 0, 0, 0, 0, 0, 0, 0, 0, 0, 0, 0, 0, 0, 0, 0, 0, 0, 0, 0, 0, 0, 0, 0, 0, 0, 0, 0, 0, 0, 0, 0, 0, 0, 0, 0, 0, 0, 0, 0, 0, 0, 0, 0, 0, 0, 0, 0, 0, 0, 0, 0, 0, 0, 0, 0, 0, 0, 0, 0, 0, 0, 0, 0, 0, 0, 0, 0, 0, 0, 0, 0, 0, 0, 0, 0, 0, 0, 0, 0, 0, 0, 0, 0, 0, 0, 0, 0, 0, 0, 0, 0, 0, 0, 0, 0, 0, 0, 0, 0, 0, 0, 0, 0, 0, 0, 0, 0, 0, 0, 0, 0, 0, 0, 0, 0, 0, 0, 0, 0, 0, 0, 0, 0, 0, 0, 0, 0, 0, 0, 0, 0, 0, 0, 0, 0, 0, 0, 0, 0, 0, 0, 0, 0, 0, 0, 0, 0, 0, 0, 0, 0, 0, 0, 0, 0, 0, 0, 0, 0, 0, 0, 0, 0, 0, 0, 0, 0, 0, 0, 0, 0, 0, 0, 0, 0, 0, 0, 0, 0, 0, 0, 0, 0, 0, 0, 0, 0, 0, 0, 0, 0, 0, 0, 0, 0, 0, 0, 0, 0, 0, 0, 0, 0, 0, 0, 0, 0, 0, 0, 0, 0, 0, 0, 0, 0, 0, 0, 0, 0, 0, 0, 0, 0, 0, 0, 0, 0, 0, 0, 0, 0, 0, 0, 0, 0, 0, 0, 0, 0, 0, 0, 0, 0, 0, 0, 0, 0, 0, 0, 0, 0, 0, 0, 0, 0, 0, 0, 0, 0, 0, 0, 0, 0, 0, 0, 0, 0, 0, 0, 0, 0, 0, 0, 0, 0, 0, 0, 0, 0, 0, 0, 0, 0, 0, 0, 0, 0, 0, 0, 0, 0, 0, 0, 0, 0, 0, 0, 0, 0, 0, 0, 0, 0, 0, 0, 0, 0, 0, 0, 0, 0, 0, 0, 0, 0, 0, 0, 0, 0, 0, 0, 0, 0, 0, 0, 0, 0, 0, 0, 0, 0, 0, 0, 0, 0, 0, 0, 0, 0, 0, 0, 0, 0, 0, 0, 0, 0, 0, 0, 0, 0, 0, 0, 0, 0, 0, 0, 0, 0, 0, 0, 0, 0, 0, 0, 0, 0, 0, 0, 0, 0, 0, 0, 0, 0, 0, 0, 0, 0, 0, 0, 0, 0, 0, 0, 0, 0, 0, 0, 0, 0, 0, 0, 0, 0, 0, 0, 0, 0, 0, 0, 0, 0, 0, 0, 0, 0, 0, 0, 0, 0, 0, 0, 0, 0, 0, 0, 0, 0, 0, 0, 0, 0, 0, 0, 0, 0, 0, 0, 0, 0, 0, 0, 0, 0, 0, 0, 0, 0, 0, 0, 0, 0, 0, 0, 0, 0, 0, 0, 0, 0, 0, 0, 0, 0, 0, 0, 0, 0, 1, 0, 0, 0, 0, 0, 0, 0, 0, 0, 0, 0, 0, 0, 0, 0, 0, 0, 0, 0, 0, 0, 0, 0, 0, 0, 0, 0, 0, 0, 0, 0, 0, 0, 0, 0, 0, 0, 0, 0, 0, 0, 0, 0, 0, 0, 0, 0, 0, 0, 0, 0, 0, 0, 0, 0, 0, 0, 0, 0, 0, 0, 0, 0, 0, 0, 0, 0, 0, 0, 0, 0, 0, 0, 0, 0, 0, 0, 0, 0, 0, 0, 0, 0, 0, 0, 0, 0, 0, 0, 0, 0, 0, 0, 0, 0, 0, 0, 0, 0, 0, 0, 0, 0, 0, 0, 0, 0, 0, 0, 0, 0, 0, 0, 0, 0, 0, 0, 0, 0, 0, 0, 0, 0, 0, 0, 0, 0, 0, 0, 0, 0, 0, 0, 0, 0, 0, 0, 0, 0, 0, 0, 0, 0, 0, 0, 0, 0, 0, 0, 0, 0, 0, 0, 0, 0, 0, 0, 0, 0, 0, 0, 0, 0, 0, 0, 0, 0, 0, 0, 0, 0, 0, 0, 0, 0, 0, 0, 0, 0, 0, 0, 0, 0, 0, 0, 0, 0, 0, 0, 0, 0, 0, 0, 0, 0, 0, 0, 0, 0, 0, 0, 0, 0, 0, 0, 0, 0, 0, 0, 0, 0, 0, 0, 0, 0, 0, 0, 0, 0, 0, 0, 0, 0, 0, 0, 0, 0, 0, 0, 0, 0, 0, 0, 0, 0, 0, 0, 0, 0, 0, 0, 0, 0, 0, 0, 0, 0, 0, 0, 0, 0, 0, 0, 0, 0, 0, 0, 0, 0, 0, 0, 0, 0, 0, 0, 0, 0, 0, 0, 0, 0, 0, 0, 0, 0, 0, 0, 0, 0, 0, 0, 0, 0, 0, 0, 0, 0, 0, 0, 0, 0, 0, 0, 0, 0, 0, 0, 0, 0, 0, 0, 0, 0, 0, 0, 0, 0, 0, 0, 0, 0, 0, 0, 0, 0, 0, 0, 0, 0, 0, 0, 0, 0, 0, 0, 0, 0, 0, 0, 0, 0, 0, 0, 0, 0, 0, 0, 0, 0, 0, 0, 0, 0, 0, 0, 0, 0, 0, 0, 0, 0, 0, 0, 0, 0, 0, 0, 0, 0, 0, 0, 0, 0, 0, 0, 0, 0, 0, 0, 0, 0, 0, 0, 0, 0, 0, 0, 0, 0, 0, 0, 0, 0, 0, 0, 0, 0, 0, 0, 0, 0, 0, 0, 0, 0, 0, 0, 0, 0, 0, 0, 0, 0, 0, 0, 0, 0, 0, 0, 0, 0, 0, 0, 0, 0, 0, 0, 0, 0, 0, 0, 0, 0, 0, 0, 0, 0, 0, 0, 0, 0, 0, 0, 0, 0, 0, 0, 0, 0, 0, 0, 0, 0, 0, 0, 0, 0, 0, 0, 0, 0, 0, 0, 0, 0, 0, 0, 0, 0, 0, 0, 0, 0, 0, 0, 0, 0, 0, 0, 0, 0, 0, 0, 0, 0, 0, 0, 0, 0, 0, 0, 0, 0, 0, 0, 0, 0, 0, 0, 0, 0, 0, 0, 0, 0, 0, 0, 0, 0, 0, 0, 0, 0, 0, 0, 0, 0, 0, 0, 0, 0, 0, 1, 0, 0, 0, 0, 0, 0, 0, 0, 0, 0, 0, 0, 0, 0, 0, 0, 0, 0, 0, 0, 0, 0, 0, 0, 0, 0, 0, 0, 0, 0, 0, 0, 0, 0, 0, 2, 0, 0, 0, 0, 0, 0, 0, 0, 0, 0, 0, 0, 0, 0, 0, 0, 0, 0, 0, 0, 0, 0, 0, 0, 0, 0, 0, 0, 0, 0, 0, 0, 0, 0, 0, 0, 0, 0, 0, 0, 1, 0, 0, 0, 0, 0, 0, 0, 0, 0, 0, 0, 0, 0, 0, 0, 0, 0, 0, 0, 0, 0, 0, 0, 0, 0, 0, 0, 0, 0, 0, 0, 0, 0, 0, 0, 0, 0, 0, 0, 0, 0, 0, 0, 0, 0, 0, 0, 0, 0, 0, 0, 0, 0, 0, 0, 0, 0, 0, 0, 0, 0, 0, 0, 0, 0, 0, 0, 0, 0, 0, 0, 0, 0, 0, 0, 0, 0, 0, 0, 0, 0, 0, 0, 0, 0, 0, 0, 0, 0, 0, 0, 0, 0, 0, 0, 0, 0, 0, 0, 0, 0, 0, 0, 0, 0, 0, 0, 0, 0, 0, 0, 0, 0, 0, 0, 0, 0, 0, 0, 0, 0, 0, 0, 0, 0, 0, 0, 0, 0, 0, 0, 0, 0, 0, 0, 0, 0, 0, 0, 0, 0, 0, 0, 0, 0, 0, 0, 0, 0, 0, 0, 0, 0, 0, 0, 0, 0, 0, 0, 0, 0, 0, 0, 0, 0, 0, 0, 0, 0, 0, 0, 0, 0, 0, 0, 0, 0, 0, 0, 0, 0, 0, 0, 0, 0, 0, 0, 0, 0, 0, 0, 0, 0, 0, 0, 0, 0, 0, 0, 0, 0, 0, 0, 0, 0, 0, 0, 0, 0, 0, 0, 0, 0, 0, 0, 0, 0, 0, 0, 0, 0, 0, 0, 0, 0, 0, 0, 0, 0, 0, 0, 0, 0, 0, 0, 0, 0, 0, 0, 0, 0, 0, 0, 0, 0, 0, 0, 0, 0, 0, 0, 0, 0, 0, 0, 0, 0, 0, 0, 0, 0, 0, 0, 0, 0, 0, 0, 0, 0, 0, 0, 0, 0, 0, 0, 0, 0, 0, 0, 0, 0, 0, 0, 0, 0, 0, 0, 0, 0, 0, 0, 0, 0, 0, 0, 0, 0, 0, 0, 0, 0, 0, 0, 0, 0, 0, 0, 0, 0, 0, 0, 0, 0, 0, 0, 0, 0, 0, 0, 0, 0, 0, 0, 0, 0, 0, 0, 0, 0, 0, 0, 0, 0, 0, 0, 0, 0, 0, 0, 0, 0, 0, 0, 0, 0, 0, 0, 0, 0, 0, 0, 0, 0, 0, 0, 0, 0, 0, 0, 0, 0, 0, 0, 0, 0, 0, 0, 0, 0, 0, 0, 0, 0, 0, 0, 0, 0, 0, 0, 0, 0, 0, 0, 0, 0, 0, 0, 0, 0, 0, 0, 0, 0, 0, 0, 0, 0, 0, 0, 0, 0, 0, 0, 0, 0, 0, 0, 0, 0, 0, 0, 0, 0, 0, 0, 0, 0, 0, 0, 0, 0, 0, 0, 0, 0, 0, 0, 0, 0, 0, 0, 0, 0, 0, 0, 0, 0, 0, 0, 0, 0, 0, 0, 0, 0, 0, 0, 0, 0, 0, 0, 0, 0, 0, 0, 0, 0, 0, 0, 0, 0, 0, 0, 0, 0, 0, 0, 0, 0, 0, 0, 0, 0, 0, 0, 0, 0, 0, 0, 0, 0, 0, 0, 0, 0, 0, 0, 0, 0, 0, 0, 0, 0, 0, 0, 0, 0, 1, 0, 0, 0, 0, 0, 0, 0, 0, 0, 0, 0, 0, 0, 0, 0, 0, 0, 0, 0, 0, 0, 0, 0, 0, 0, 0, 0, 0, 0, 0, 0, 0, 0, 0, 0, 0, 0, 0, 0, 0, 0, 0, 0, 0, 0, 0, 0, 0, 0, 0, 0, 0, 0, 0, 0, 0, 0, 0, 0, 0, 0, 0, 0, 0, 0, 0, 0, 0, 0, 0, 0, 0, 0, 0, 0, 0, 0, 0, 0, 0, 0, 0, 0, 0, 0, 0, 0, 0, 0, 0, 0, 0, 0, 0, 0, 0, 0, 0, 0, 0, 0, 0, 0, 0, 0, 0, 0, 0, 0, 0, 2, 0, 0, 0, 0, 0, 0, 0, 0, 0, 0, 0, 0, 0, 0, 0, 0, 0, 0, 0, 0, 0, 0, 0, 0, 0, 0, 0, 0, 0, 0, 0, 0, 0, 0, 0, 0, 0, 0, 0, 0, 0, 0, 0, 0, 0, 0, 0, 0, 0, 0, 0, 0, 0, 0, 0, 0, 0, 0, 0, 0, 0, 0, 0, 0, 0, 0, 0, 0, 0, 0, 0, 0, 0, 0, 0, 0, 0, 0, 0, 0, 0, 0, 0, 0, 0, 0, 0, 0, 0, 0, 0, 0, 0, 0, 0, 0, 0, 0, 0, 0, 0, 0, 0, 0, 0, 0, 0, 0, 0, 0, 0, 0, 0, 0, 0, 0, 0, 0, 0, 0, 0, 0, 0, 0, 0, 0, 0, 0, 0, 0, 0, 0, 0, 0, 0, 0, 0, 0, 0, 0, 0, 0, 0, 0, 0, 0, 0, 0, 0, 0, 0, 0, 0, 0, 0, 0, 0, 0, 0, 0, 0, 0, 0, 0, 0, 0, 0, 0, 0, 0, 0, 0, 0, 0, 0, 0, 0, 0, 0, 0, 0, 0, 0, 0, 0, 0, 0, 0, 0, 0, 0, 0, 0, 0, 0, 0, 0, 0, 0, 0, 0, 0, 0, 0, 0, 0, 0, 0, 0, 0, 0, 0, 0, 0, 0, 0, 0, 0, 0, 0, 0, 0, 0, 0, 0, 0, 0, 0, 0, 0, 0, 0, 0, 0, 0, 0, 0, 0, 0, 0, 0, 0, 0, 0, 0, 0, 0, 0, 0, 0, 0, 0, 0, 0, 0, 0, 0, 0, 0, 0, 0, 0, 0, 0, 0, 0, 0, 0, 0, 0, 0, 0, 0, 0, 0, 0, 0, 0, 0, 0, 0, 0, 0, 0, 0, 0, 0, 0, 0, 0, 0, 0, 0, 0, 0, 0, 0, 0, 0, 0, 0, 0, 0, 0, 0, 0, 0, 0, 0, 0, 0, 0, 0, 0, 0, 0, 0, 0, 0, 0, 0, 0, 0, 0, 0, 0, 0, 0, 0, 0, 0, 0, 0, 0, 0, 0, 0, 0, 0, 0, 0, 0, 0, 0, 0, 0, 0, 0, 0, 0, 0, 0, 0, 0, 0, 0, 0, 0, 0, 0, 0, 0, 0, 0, 0, 0, 0, 0, 0, 0, 0, 0, 0, 0, 0, 0, 0, 0, 0, 0, 0, 0, 0, 0, 0, 0, 0, 0, 0, 0, 0, 0, 0, 0, 0, 0, 0, 0, 0, 0, 0, 0, 0, 0, 0, 0, 0, 0, 0, 0, 0, 0, 0, 0, 0, 0, 0, 0, 0, 0, 0, 0, 0, 0, 0, 0, 0, 0, 0, 0, 0, 0, 0, 0, 0, 0, 0, 0, 0, 0, 0, 0, 0, 0, 0, 0, 0, 0, 0, 0, 0, 0, 0, 0, 0, 0, 0, 0, 0, 0, 0, 0, 0, 0, 0, 0, 0, 0, 0, 0, 0, 0, 0, 0, 0, 0, 0, 0, 0, 0, 0, 0, 0, 0, 0, 0, 0, 0, 0, 0, 0, 0, 0, 0, 0, 0, 0, 0, 0, 0, 0, 0, 0, 0, 0, 0, 0, 0, 0, 0, 0, 0, 0, 0, 0, 0, 0, 0, 0, 0, 0, 0, 0, 0, 0, 0, 0, 0, 0, 0, 0, 0, 0, 0, 0, 0, 0, 0, 0, 0, 0, 0, 0, 0, 0, 0, 0, 0, 0, 0, 0, 0, 0, 0, 0, 0, 0, 0, 0, 0, 0, 0, 0, 0, 0, 0, 0, 0, 0, 0, 0, 0, 0, 0, 0, 0, 0, 0, 0, 0, 0, 0, 0, 0, 0, 0, 0, 0, 0, 0, 0, 0, 0, 0, 0, 0, 0, 0, 0, 0, 0, 0, 0, 0, 0, 0, 0, 0, 0, 0, 0, 0, 0, 0, 0, 0, 0, 0, 0, 0, 0, 0, 0, 0, 0, 0, 0, 0, 0, 0, 0, 0, 0, 0, 0, 0, 0, 0, 0, 0, 0, 0, 0, 0, 0, 0, 0, 0, 0, 0, 0, 0, 0, 0, 0, 0, 0, 0, 0, 0, 0, 0, 0, 0, 0, 0, 0, 0, 0, 0, 0, 0, 0, 0, 0, 0, 0, 0, 0, 0, 0, 0, 0, 0, 0, 0, 0, 0, 0, 0, 1, 0, 0, 0, 0, 0, 0, 0, 0, 0, 0, 0, 0, 0, 0, 0, 0, 0, 0, 0, 0, 0, 0, 0, 0, 0, 0, 0, 0, 0, 0, 0, 0, 0, 0, 0, 0, 0, 0, 0, 0, 0, 0, 0, 0, 0, 0, 0, 0, 0, 0, 0, 0, 0, 0, 0, 0, 0, 0, 0, 0, 0, 0, 0, 0, 0, 0, 0, 0, 0, 0, 0, 0, 0, 0, 0, 0, 0, 0, 0, 0, 0, 0, 0, 0, 0, 0, 0, 0, 0, 0, 0, 0, 0, 0, 0, 0, 0, 0, 0, 0, 0, 0, 0, 0, 0, 0, 0, 1, 0, 0, 0, 0, 0, 0, 0, 0, 0, 0, 0, 0, 0, 0, 0, 0, 0, 0, 0, 0, 0, 0, 0, 0, 0, 0, 0, 0, 0, 0, 0, 0, 0, 0, 0, 0, 0, 0, 0, 0, 0, 0, 0, 0, 0, 0, 0, 0, 0, 0, 0, 0, 0, 0, 0, 0, 0, 0, 0, 0, 0, 0, 0, 0, 0, 0, 0, 0, 0, 0, 0, 0, 0, 0, 0, 0, 0, 0, 0, 0, 0, 0, 0, 0, 0, 0, 0, 0, 0, 0, 0, 0, 0, 0, 0, 0, 0, 0, 0, 0, 0, 0, 0, 0, 0, 0, 0, 0, 0, 0, 0, 0, 0, 0, 0, 0, 0, 0, 0, 0, 0, 0, 0, 0, 0, 0, 0, 0, 0, 0, 0, 0, 0, 0, 0, 0, 0, 0, 0, 0, 0, 0, 0, 0, 0, 0, 0, 0, 0, 0, 0, 0, 0, 0, 0, 0, 0, 0, 0, 0, 0, 0, 0, 0, 0, 0, 0, 0, 0, 0, 0, 0, 0, 0, 0, 0, 0, 0, 0, 0, 0, 0, 0, 0, 0, 0, 0, 0, 0, 0, 0, 0, 0, 0, 0, 0, 0, 0, 0, 0, 0, 0, 0, 0, 0, 0, 0, 0, 0, 0, 0, 0, 0, 0, 0, 0, 0, 0, 0, 0, 0, 0, 0, 0, 0, 0, 0, 0, 0, 0, 0, 0, 0, 0, 0, 0, 0, 0, 0, 0, 0, 0, 0, 0, 0, 0, 0, 0, 0, 0, 0, 0, 0, 0, 0, 0, 0, 0, 0, 0, 0, 0, 0, 0, 0, 0, 0, 0, 0, 0, 0, 0, 0, 0, 0, 0, 0, 0, 0, 0, 0, 0, 0, 0, 0, 0, 0, 0, 0, 0, 0, 0, 0, 0, 0, 0, 0, 0, 0, 0, 0, 0, 0, 0, 0, 0, 0, 0, 0, 0, 0, 0, 0, 0, 0, 0, 0, 0, 0, 0, 0, 0, 0, 0, 0, 0, 0, 0, 0, 0, 0, 0, 0, 0, 0, 0, 0, 0, 0, 0, 0, 0, 0, 0, 0, 0, 0, 0, 0, 0, 0, 0, 0, 0, 0, 0, 0, 0, 0, 0, 0, 0, 0, 0, 0, 0, 0, 0, 0, 0, 0, 0, 0, 0, 0, 0, 0, 0, 0, 0, 0, 0, 0, 0, 0, 0, 0, 0, 0, 0, 0, 0, 0, 0, 0, 0, 0, 0, 0, 0, 0, 0, 0, 0, 0, 0, 0, 0, 0, 0, 0, 0, 0, 0, 0, 0, 0, 0, 0, 0, 0, 0, 0, 0, 0, 0, 0, 0, 0, 0, 0, 0, 0, 0, 0, 0, 0, 0, 0, 0, 0, 0, 0, 0, 0, 0, 0, 0, 0, 0, 0, 0, 0, 0, 0, 0, 0, 0, 0, 0, 0, 0, 0, 2, 0, 1, 0], type: <class 'list'>, valid types: <class 'bytes'>, <class 'bytearray'>, file-like object"
     ]
    }
   ],
   "source": [
    "response = runtime.invoke_endpoint(EndpointName = xgb_predictor.endpoint, # The name of the endpoint we created\n",
    "                                       ContentType = 'text/csv',                     # The data format that is expected\n",
    "                                       Body = test_bow)"
   ]
  },
  {
   "cell_type": "markdown",
   "metadata": {},
   "source": [
    "So why did we get an error?\n",
    "\n",
    "Because we tried to send the endpoint a list of integers but it expected us to send data of type `text/csv`. So, we need to convert it."
   ]
  },
  {
   "cell_type": "code",
   "execution_count": 61,
   "metadata": {},
   "outputs": [],
   "source": [
    "response = runtime.invoke_endpoint(EndpointName = xgb_predictor.endpoint, # The name of the endpoint we created\n",
    "                                       ContentType = 'text/csv',                     # The data format that is expected\n",
    "                                       Body = ','.join([str(val) for val in test_bow]).encode('utf-8'))"
   ]
  },
  {
   "cell_type": "code",
   "execution_count": 62,
   "metadata": {},
   "outputs": [
    {
     "name": "stdout",
     "output_type": "stream",
     "text": [
      "{'ResponseMetadata': {'RequestId': '9168c752-08c9-44b5-8f10-904444fd729f', 'HTTPStatusCode': 200, 'HTTPHeaders': {'x-amzn-requestid': '9168c752-08c9-44b5-8f10-904444fd729f', 'x-amzn-invoked-production-variant': 'AllTraffic', 'date': 'Tue, 22 Dec 2020 04:08:10 GMT', 'content-type': 'text/csv; charset=utf-8', 'content-length': '14'}, 'RetryAttempts': 0}, 'ContentType': 'text/csv; charset=utf-8', 'InvokedProductionVariant': 'AllTraffic', 'Body': <botocore.response.StreamingBody object at 0x7fe004401e80>}\n"
     ]
    }
   ],
   "source": [
    "print(response)"
   ]
  },
  {
   "cell_type": "markdown",
   "metadata": {},
   "source": [
    "As we can see, the response from our model is a somewhat complicated looking dict that contains a bunch of information. The bit that we are most interested in is `'Body'` object which is a streaming object that we need to `read` in order to make use of."
   ]
  },
  {
   "cell_type": "code",
   "execution_count": 63,
   "metadata": {},
   "outputs": [
    {
     "name": "stdout",
     "output_type": "stream",
     "text": [
      "0.329716235399\n"
     ]
    }
   ],
   "source": [
    "response = response['Body'].read().decode('utf-8')\n",
    "print(response)"
   ]
  },
  {
   "cell_type": "markdown",
   "metadata": {},
   "source": [
    "Now that we know how to process the incoming user data we can start setting up the infrastructure to make our simple web app work. To do this we will make use of two different services. Amazon's Lambda and API Gateway services.\n",
    "\n",
    "Lambda is a service which allows someone to write some relatively simple code and have it executed whenever a chosen trigger occurs. For example, you may want to update a database whenever new data is uploaded to a folder stored on S3.\n",
    "\n",
    "API Gateway is a service that allows you to create HTTP endpoints (url addresses) which are connected to other AWS services. One of the benefits to this is that you get to decide what credentials, if any, are required to access these endpoints.\n",
    "\n",
    "In our case we are going to set up an HTTP endpoint through API Gateway which is open to the public. Then, whenever anyone sends data to our public endpoint we will trigger a Lambda function which will send the input (in our case a review) to our model's endpoint and then return the result."
   ]
  },
  {
   "cell_type": "markdown",
   "metadata": {},
   "source": [
    "### Setting up a Lambda function\n",
    "\n",
    "The first thing we are going to do is set up a Lambda function. This Lambda function will be executed whenever our public API has data sent to it. When it is executed it will receive the data, perform any sort of processing that is required, send the data (the review) to the SageMaker endpoint we've created and then return the result.\n",
    "\n",
    "#### Part A: Create an IAM Role for the Lambda function\n",
    "\n",
    "Since we want the Lambda function to call a SageMaker endpoint, we need to make sure that it has permission to do so. To do this, we will construct a role that we can later give the Lambda function.\n",
    "\n",
    "Using the AWS Console, navigate to the **IAM** page and click on **Roles**. Then, click on **Create role**. Make sure that the **AWS service** is the type of trusted entity selected and choose **Lambda** as the service that will use this role, then click **Next: Permissions**.\n",
    "\n",
    "In the search box type `sagemaker` and select the check box next to the **AmazonSageMakerFullAccess** policy. Then, click on **Next: Review**.\n",
    "\n",
    "Lastly, give this role a name. Make sure you use a name that you will remember later on, for example `LambdaSageMakerRole`. Then, click on **Create role**."
   ]
  },
  {
   "cell_type": "markdown",
   "metadata": {},
   "source": [
    "#### Part B: Create a Lambda function\n",
    "\n",
    "Now it is time to actually create the Lambda function. Remember from earlier that in order to process the user provided input and send it to our endpoint we need to gather two pieces of information:\n",
    "\n",
    " - The name of the endpoint, and\n",
    " - the vocabulary object.\n",
    "\n",
    "We will copy these pieces of information to our Lambda function after we create it.\n",
    "\n",
    "To start, using the AWS Console, navigate to the AWS Lambda page and click on **Create a function**. When you get to the next page, make sure that **Author from scratch** is selected. Now, name your Lambda function, using a name that you will remember later on, for example `sentiment_analysis_xgboost_func`. Make sure that the **Python 3.6** runtime is selected and then choose the role that you created in the previous part. Then, click on **Create Function**.\n",
    "\n",
    "On the next page you will see some information about the Lambda function you've just created. If you scroll down you should see an editor in which you can write the code that will be executed when your Lambda function is triggered. Collecting the code we wrote above to process a single review and adding it to the provided example `lambda_handler` we arrive at the following.\n",
    "\n",
    "```python\n",
    "# We need to use the low-level library to interact with SageMaker since the SageMaker API\n",
    "# is not available natively through Lambda.\n",
    "import boto3\n",
    "\n",
    "# And we need the regular expression library to do some of the data processing\n",
    "import re\n",
    "\n",
    "REPLACE_NO_SPACE = re.compile(\"(\\.)|(\\;)|(\\:)|(\\!)|(\\')|(\\?)|(\\,)|(\\\")|(\\()|(\\))|(\\[)|(\\])\")\n",
    "REPLACE_WITH_SPACE = re.compile(\"(<br\\s*/><br\\s*/>)|(\\-)|(\\/)\")\n",
    "\n",
    "def review_to_words(review):\n",
    "    words = REPLACE_NO_SPACE.sub(\"\", review.lower())\n",
    "    words = REPLACE_WITH_SPACE.sub(\" \", words)\n",
    "    return words\n",
    "    \n",
    "def bow_encoding(words, vocabulary):\n",
    "    bow = [0] * len(vocabulary) # Start by setting the count for each word in the vocabulary to zero.\n",
    "    for word in words.split():  # For each word in the string\n",
    "        if word in vocabulary:  # If the word is one that occurs in the vocabulary, increase its count.\n",
    "            bow[vocabulary[word]] += 1\n",
    "    return bow\n",
    "\n",
    "\n",
    "def lambda_handler(event, context):\n",
    "    \n",
    "    vocab = \"*** ACTUAL VOCABULARY GOES HERE ***\"\n",
    "    \n",
    "    words = review_to_words(event['body'])\n",
    "    bow = bow_encoding(words, vocab)\n",
    "\n",
    "    # The SageMaker runtime is what allows us to invoke the endpoint that we've created.\n",
    "    runtime = boto3.Session().client('sagemaker-runtime')\n",
    "\n",
    "    # Now we use the SageMaker runtime to invoke our endpoint, sending the review we were given\n",
    "    response = runtime.invoke_endpoint(EndpointName = '***ENDPOINT NAME HERE***',# The name of the endpoint we created\n",
    "                                       ContentType = 'text/csv',                 # The data format that is expected\n",
    "                                       Body = ','.join([str(val) for val in bow]).encode('utf-8')) # The actual review\n",
    "\n",
    "    # The response is an HTTP response whose body contains the result of our inference\n",
    "    result = response['Body'].read().decode('utf-8')\n",
    "    \n",
    "    # Round the result so that our web app only gets '1' or '0' as a response.\n",
    "    result = round(float(result))\n",
    "\n",
    "    return {\n",
    "        'statusCode' : 200,\n",
    "        'headers' : { 'Content-Type' : 'text/plain', 'Access-Control-Allow-Origin' : '*' },\n",
    "        'body' : str(result)\n",
    "    }\n",
    "```"
   ]
  },
  {
   "cell_type": "markdown",
   "metadata": {},
   "source": [
    "Once you have copy and pasted the code above into the Lambda code editor, replace the `**ENDPOINT NAME HERE**` portion with the name of the endpoint that we deployed earlier. You can determine the name of the endpoint using the code cell below."
   ]
  },
  {
   "cell_type": "code",
   "execution_count": 64,
   "metadata": {},
   "outputs": [
    {
     "data": {
      "text/plain": [
       "'xgboost-2020-12-22-03-33-04-506'"
      ]
     },
     "execution_count": 64,
     "metadata": {},
     "output_type": "execute_result"
    }
   ],
   "source": [
    "xgb_predictor.endpoint"
   ]
  },
  {
   "cell_type": "markdown",
   "metadata": {},
   "source": [
    "In addition, you will need to copy the vocabulary dict to the appropriate place in the code at the beginning of the `lambda_handler` method. The cell below prints out the vocabulary dict in a way that is easy to copy and paste."
   ]
  },
  {
   "cell_type": "code",
   "execution_count": 65,
   "metadata": {},
   "outputs": [
    {
     "name": "stdout",
     "output_type": "stream",
     "text": [
      "{'yet': 4984, 'another': 250, 'son': 4070, 'who': 4871, 'wont': 4932, 'grow': 1982, 'up': 4683, 'flick': 1754, 'and': 226, 'just': 2437, 'the': 4426, 'other': 3135, 'recent': 3566, 'like': 2599, 'in': 2257, 'bad': 382, 'for': 1784, 'what': 4858, 'third': 4455, 'time': 4495, 'anna': 245, 'is': 2360, 'forgettable': 1794, 'as': 311, 'always': 203, 'jeff': 2390, 'this': 4457, 'one': 3107, 'from': 1840, 'state': 4160, 'at': 331, 'least': 2554, 'diane': 1238, 'does': 1308, 'become': 433, 'late': 2523, 'career': 686, 'do': 1302, 'not': 3040, 'bother': 548, 'nothing': 3047, 'said': 3774, 'here': 2086, 'that': 4424, 'hasnt': 2044, 'been': 438, 'covered': 1023, 'many': 2732, 'times': 4497, 'over': 3148, 'will': 4886, 'say': 3799, 'its': 2370, 'about': 67, 'hundred': 2195, 'better': 472, 'than': 4420, 'failure': 1629, 'to': 4507, 'there': 4438, 'are': 285, 'very': 4723, 'few': 1700, 'amusing': 221, 'bits': 490, 'movie': 2926, 'unless': 4669, 'you': 4986, 'think': 4452, 'funny': 1852, 'ha': 2002, 'hes': 2093, 'old': 3100, 'he': 2056, 'dropped': 1370, 'bomb': 531, 'was': 4805, 'great': 1964, 'with': 4911, 'good': 1937, 'cast': 710, 'all': 187, 'of': 3083, 'them': 4432, 'hitting': 2126, 'on': 3105, 'when': 4862, 'keaton': 2448, 'her': 2085, 'best': 469, 'well': 4843, 'it': 2366, 'doesnt': 1309, 'get': 1899, 'any': 256, 'but': 636, 'tom': 4514, 'scott': 3824, 'underrated': 4642, 'even': 1533, 'should': 3951, 'be': 418, 'star': 4150, 'my': 2951, 'only': 3110, 'complaint': 920, 'aspect': 321, 'screenplay': 3831, 'none': 3028, 'characters': 760, 'ever': 1538, 'dead': 1132, 'daughter': 1121, 'wasnt': 4807, 'person': 3238, 'neither': 2996, 'mother': 2911, 'played': 3297, 'by': 642, 'point': 3316, 'she': 3923, 'breaks': 571, 'promise': 3430, 'made': 2697, 'character': 758, 'reveal': 3670, 'had': 2003, 'sleeping': 4025, 'around': 297, 'political': 3324, 'thing': 4450, 'no': 3020, 'politics': 3326, 'found': 1811, 'pass': 3201, 'your': 4991, 'chance': 747, 'historical': 2119, 'value': 4709, 'portrayal': 3341, 'reminded': 3619, 'me': 2778, 'cheap': 774, 'soap': 4047, 'opera': 3116, 'twist': 4617, 'facts': 1624, 'gave': 1875, 'birth': 486, 'while': 4868, 'people': 3221, 'please': 3304, 'pregnant': 3369, 'queen': 3485, 'especially': 1520, 'would': 4957, 'go': 1924, 'room': 3735, 'reason': 3557, 'they': 4442, 'tried': 4584, 'make': 2713, 'appear': 273, 'gods': 1928, 'sake': 3775, 'way': 4820, 'justify': 2439, 'own': 3158, 'sister': 4001, 'beyond': 476, 'description': 1197, 'greatest': 1966, 'decisions': 1152, 'were': 4848, 'based': 404, 'anything': 260, 'feelings': 1686, 'did': 1241, 'everything': 1544, 'two': 4620, 'reasons': 3560, 'power': 3359, 'self': 3869, 'family': 1645, 'where': 4864, 'survival': 4320, 'something': 4066, 'stood': 4199, 'either': 1438, 'murdered': 2940, 'brothers': 599, 'or': 3124, 'mark': 2739, 'anthony': 253, 'unfortunately': 4654, 'too': 4522, 'powerful': 3360, 'kill': 2468, 'gay': 1876, 'so': 4046, 'end': 1468, 'thought': 4462, 'an': 223, 'extremely': 1610, 'clever': 841, 'film': 1716, 'pleased': 3305, 'truly': 4597, 'couldnt': 1008, 'ask': 316, 'more': 2904, 'actually': 109, 'because': 432, 'didnt': 1242, 'return': 3665, 'someone': 4064, 'which': 4867, 'really': 3556, 'want': 4788, 'keep': 2449, 'due': 1382, 'how': 2181, 'much': 2934, 'enjoyed': 1486, 'also': 199, 'fact': 1621, 'dont': 1324, 'foreign': 1790, 'films': 1721, 'first': 1736, 'now': 3054, 'personally': 3243, 'love': 2669, 'stuff': 4243, 'definitely': 1162, 'added': 116, 'overall': 3150, 'worth': 4953, 'watching': 4815, 'however': 2183, 'if': 2222, 'youre': 4992, 'into': 2332, 'whole': 4873, 'trying': 4601, 'understand': 4643, 'read': 3543, 'subtitles': 4259, 'bit': 488, 'then': 4436, '10': 0, 'sure': 4308, 'vague': 4705, 'idea': 2213, 'bettie': 473, 'page': 3167, 'partly': 3197, 'appearance': 274, 'days': 1130, 'apparently': 270, 'got': 1944, 'photo': 3257, 'taken': 4350, 'santa': 3783, 'hat': 2045, 'know': 2489, 'co': 867, 'written': 4972, 'directed': 1259, 'american': 213, 'mary': 2751, 'out': 3141, 'key': 2458, 'parts': 3199, 'life': 2592, 'enough': 1491, 'southern': 4088, 'church': 813, 'has': 2043, 'some': 4061, 'experiences': 1582, 'leaves': 2556, 'behind': 447, 'seek': 3858, 'new': 3003, 'york': 4985, 'city': 825, 'gets': 1900, 'lot': 2661, 'soon': 4074, 'becomes': 434, 'underground': 4640, 'obvious': 3071, 'notorious': 3051, 'title': 4504, 'actress': 105, 'portrays': 3344, 'down': 1335, 'spirit': 4113, 'woman': 4921, 'could': 1007, 'success': 4265, 'shes': 3930, 'simplistic': 3985, 'ideas': 2215, 'morality': 2903, 'questionable': 3488, 'adam': 111, 'eve': 1532, 'naked': 2959, 'werent': 4849, 'comments': 901, 'couple': 1016, 'filmmakers': 1720, 'leave': 2555, 'later': 2525, 'years': 4979, 'pages': 3168, 'off': 3084, 'kind': 2476, 'period': 3236, 'leaving': 2557, 'shoots': 3944, 'jesus': 2399, 'usual': 4699, 'presented': 3376, 'hbo': 2055, 'albeit': 173, 'feature': 1678, 'release': 3602, 'scenes': 3811, 'captures': 678, 'getting': 1901, 'photos': 3261, 'top': 4525, 'starring': 4154, 'ridiculous': 3693, 'adds': 119, 'needed': 2988, 'comic': 893, 'relief': 3605, 'otherwise': 3137, 'nature': 2975, 'story': 4207, 'uninteresting': 4660, 'involves': 2348, 'investigation': 2343, 'came': 656, 'such': 4268, 'isnt': 2362, 'given': 1913, 'explore': 1594, 'merely': 2815, 'relationships': 3598, 'sex': 3907, 'neat': 2982, 'black': 493, 'white': 4870, 'look': 2646, 'sometimes': 4067, 'seemed': 3862, 'went': 4847, 'along': 195, 'watchable': 4812, 'view': 4736, 'bette': 471, 'probably': 3407, 'fans': 1650, 'seems': 3864, 'disjointed': 1287, 'poorly': 3329, 'moves': 2925, 'different': 1248, 'wrote': 4974, 'each': 1395, 'wanted': 4789, 'take': 4349, 'miracle': 2860, 'street': 4216, 'original': 3129, 'type': 4621, 'done': 1322, 'poor': 3328, 'falls': 1640, 'apart': 264, 'young': 4989, 'see': 3855, 'whoever': 4872, 'scripted': 3835, 'knows': 2493, 'little': 2624, 'baseball': 403, 'angels': 234, 'last': 2521, 'place': 3282, 'owner': 3159, 'seem': 3861, 'care': 684, 'nor': 3032, 'bothered': 549, 'his': 2118, 'manager': 2724, 'fight': 1707, 'play': 3296, 'live': 2625, 'tv': 4610, 'team': 4378, 'game': 1864, 'winning': 4898, 'shape': 3919, 'year': 4978, 'help': 2079, 'kid': 2464, 'claims': 830, 'real': 3547, 'sounds': 4084, 'worse': 4951, 'losing': 2658, 'violent': 4748, 'control': 977, 'whose': 4877, 'lost': 2660, '15': 7, 'row': 3744, 'coach': 868, 'acting': 99, 'eccentric': 1414, 'helping': 2081, 'foster': 1809, 'kids': 2467, 'reaction': 3541, 'makes': 2716, 'sense': 3877, 'moved': 2922, 'change': 749, 'mind': 2849, 'maggie': 2702, 'straight': 4210, 'cliché': 844, 'land': 2511, 'speech': 4102, 'during': 1387, 'news': 3005, 'supposed': 4306, 'playing': 3300, 'final': 1722, 'weekend': 4838, 'series': 3890, 'against': 147, 'saying': 3800, 'won': 4925, 'decided': 1149, 'until': 4680, 'wins': 4899, 'league': 2549, 'championship': 745, 'regular': 3592, 'season': 3843, 'starting': 4158, 'next': 3007, 'day': 1129, 'mel': 2796, 'clark': 832, 'tony': 4521, 'have': 2052, 'thrown': 4481, 'low': 2676, 'typically': 4624, 'games': 1865, 'pitch': 3279, 'count': 1010, 'lower': 2677, 'usually': 4700, '80': 58, '90': 60, 'al': 170, 'angel': 231, 'says': 3801, 'their': 4431, 'though': 4461, 'throughout': 4478, 'second': 3846, 'half': 2007, 'examples': 1554, 'younger': 4990, 'under': 4639, 'may': 2775, 'entertaining': 1499, 'right': 3696, 'classic': 835, 'wrong': 4973, 'mess': 2818, 'forever': 1792, 'cable': 644, 'saturday': 3792, 'morning': 2906, 'book': 535, 'grade': 1951, 'saw': 3798, 'differences': 1247, 'suppose': 4305, 'eat': 1411, '30': 42, 'dollars': 1315, 'after': 143, 'eaten': 1412, 'billy': 482, 'joe': 2407, 'school': 3813, 'pants': 3182, 'fake': 1635, 'still': 4188, 'enjoy': 1484, 'screams': 3828, 'la': 2500, 'front': 1841, 'dvd': 1391, 'box': 555, 'must': 2950, 'sorry': 4076, 'piece': 3272, 'crap': 1031, 'released': 3603, 'revolves': 3682, 'bunch': 623, 'girls': 1911, 'disease': 1285, 'forces': 1788, 'murder': 2939, 'innocent': 2294, 'stay': 4166, 'alive': 186, 'skin': 4015, 'we': 4823, 'legs': 2566, 'heads': 2059, 'etc': 1527, 'convincing': 985, 'halloween': 2010, 'felt': 1692, 'set': 3898, 'awful': 372, 'talking': 4360, 'human': 2188, 'weird': 4841, 'zombie': 4997, 'hunter': 2199, 'illness': 2230, 'closet': 858, 'chair': 742, 'before': 440, 'head': 2057, 'picture': 3269, 'considering': 952, 'talent': 4354, 'display': 1291, 'gore': 1941, 'laughably': 2531, 'unrealistic': 4677, 'again': 146, 'looking': 2648, 'video': 4733, 'guy': 2000, 'responsible': 3656, 'cult': 1077, 'director': 1264, 'those': 4460, 'religious': 3608, 'thinking': 4453, 'clearly': 840, 'opposite': 3123, 'true': 4596, 'thats': 4425, 'possible': 3350, 'can': 665, 'anyone': 259, 'pleasure': 3306, 'write': 4967, 'same': 3778, 'himself': 2111, 'mike': 2838, 'ken': 2453, 'george': 1893, 'oh': 3096, 'stop': 4201, 'being': 448, 'silly': 3976, 'offended': 3085, 'above': 68, 'opinion': 3118, 'member': 2800, 'let': 2579, 'members': 2801, 'force': 1786, 'watch': 4811, 'andrew': 228, 'till': 4493, 'since': 3990, 'tell': 4395, 'special': 4097, 'hello': 2078, 'critic': 1061, 'refreshing': 3586, 'enjoyable': 1485, 'four': 1812, 'funeral': 1849, 'peters': 3248, 'friends': 1837, 'number': 3060, 'familiar': 1643, 'talented': 4355, 'actors': 104, 'laugh': 2529, 'sad': 3767, 'movies': 2927, 'entertainment': 1500, 'english': 1483, 'generally': 1881, 'fit': 1740, 'bill': 481, 'although': 201, 'part': 3193, 'sheriff': 3929, 'managed': 2723, 'jump': 2429, 'several': 3905, 'places': 3284, 'believe': 454, 'im': 2232, 'easy': 1410, 'might': 2835, 'ok': 3098, 'am': 204, 'finished': 1733, 'product': 3418, '12': 3, '2006': 36, 'horror': 2168, 'fan': 1648, 'sci': 3815, 'fi': 1701, 'going': 1931, 'happen': 2026, 'completely': 922, 'balance': 387, 'suggest': 4280, 'directors': 1266, 'notes': 3046, 'features': 1680, 'filmed': 1717, 'joy': 2422, 'work': 4940, 'crew': 1053, 'hope': 2155, 'brian': 576, 'future': 1856, 'projects': 3428, 'wave': 4818, 'japanese': 2382, 'cinema': 816, 'taking': 4352, 'creative': 1041, 'working': 4944, 'themes': 4434, 'call': 651, 'pieces': 3273, 'terms': 4406, 'color': 877, 'photography': 3260, 'editing': 1421, 'brilliant': 583, 'samurai': 3779, 'allows': 192, 'traditional': 4550, 'beliefs': 452, 'demons': 1178, 'powers': 3361, 'certainly': 738, 'ancient': 225, 'culture': 1079, 'explored': 1595, 'fine': 1729, 'example': 1553, 'genre': 1888, '2001': 31, 'most': 2909, 'interesting': 2325, 'highly': 2105, 'recommend': 3571, 'include': 2261, 'twilight': 4614, '2002': 32, 'blind': 506, '2003': 33, 'warning': 4800, 'mild': 2839, 'spoilers': 4124, 'joseph': 2419, 'smith': 4038, 'stands': 4147, 'amazing': 209, 'moving': 2928, 'episode': 1507, 'history': 2121, 'world': 4946, 'events': 1536, 'whom': 4875, 'christ': 807, 'earth': 1403, 'ive': 2372, 'far': 1653, 'seen': 3865, 'twice': 4613, 'month': 2896, 'public': 3460, 'showing': 3958, 'shown': 3959, 'trio': 4587, 'age': 148, 'operation': 3117, 'without': 4913, 'our': 3139, 'modern': 2882, 'bloody': 513, 'difficult': 1249, 'scene': 3809, 'helped': 2080, 'show': 3953, 'between': 475, 'parents': 3188, 'confusion': 943, 'subsequent': 4257, 'lead': 2545, 'vision': 4754, 'portrayed': 3342, 'face': 1616, 'never': 3001, 'nail': 2957, 'marks': 2742, 'hands': 2020, 'small': 4033, 'community': 908, 'slightly': 4029, 'marriage': 2743, 'emma': 1457, 'map': 2733, 'jumps': 2432, 'simply': 3986, 'note': 3044, 'style': 4249, 'practice': 3363, 'dramatic': 1348, 'delivers': 1172, 'having': 2054, 'recently': 3567, 'attacked': 338, 'spread': 4133, 'heights': 2073, 'local': 2634, 'shows': 3960, 'including': 2264, 'beautiful': 428, 'moments': 2887, 'portraying': 3343, 'relationship': 3597, 'attempt': 340, 'depth': 1190, 'complexity': 924, 'wife': 4884, 'endless': 1473, 'children': 792, 'wit': 4908, 'courage': 1018, 'dangerous': 1110, 'ride': 3692, 'home': 2142, 'lives': 2628, 'touched': 4534, 'already': 197, 'setting': 3900, 'left': 2561, 'witnessed': 4915, 'watched': 4813, 'assumed': 329, 'introduce': 2336, 'non': 3027, 'longer': 2645, 'case': 707, 'find': 1726, 'things': 4451, 'him': 2110, 'curious': 1083, 'whether': 4866, 'epic': 1506, 'man': 2721, 'else': 1448, 'beautifully': 429, 'shot': 3949, 'friendly': 1836, 'hopefully': 2157, 'everyone': 1542, 'happened': 2027, 'these': 4441, 'united': 4664, 'states': 4163, 'america': 212, 'light': 2595, 'aspects': 322, 'freedom': 1828, 'expression': 1602, 'respect': 3652, 'law': 2538, 'granted': 1957, 'yes': 4982, 'memorable': 2802, 'starred': 4153, 'hanks': 2025, 'short': 3946, 'relevant': 3604, 'hollywood': 2137, 'showcase': 3954, 'talents': 4356, 'considered': 951, 'somewhat': 4068, 'thinks': 4454, 'sees': 3866, 'monsters': 2893, 'runs': 3757, 'through': 4477, 'group': 1980, 'use': 4692, 'try': 4600, 'come': 886, 'basically': 407, 'cleverly': 842, 'makers': 2715, 'fun': 1848, 'sort': 4077, 'drinking': 1362, 'drugs': 1374, 'lots': 2662, 'popular': 3333, 'doing': 1312, 'required': 3641, 'brain': 562, 'able': 66, 'themselves': 4435, 'certain': 737, 'groups': 1981, 'utterly': 4702, 'stupid': 4247, 'waste': 4808, 'died': 1244, 'entire': 1502, 'existence': 1571, 'drunk': 1375, 'driving': 1368, 'trek': 4578, 'hidden': 2096, 'excellent': 1555, 'fiction': 1702, 'cant': 671, 'wait': 4770, 'started': 4157, 'week': 4837, 'cannot': 670, 'recommended': 3572, 'waiting': 4772, 'episodes': 1508, 'rated': 3527, 'ten': 4399, 'deserves': 1201, 'staff': 4138, 'job': 2405, 'checking': 778, 'detail': 1217, 'associated': 327, 'ships': 3935, 'used': 4693, 'von': 4765, 'breaking': 570, 'waves': 4819, 'nice': 3008, 'shadow': 3912, 'tells': 4397, 'german': 1896, 'wants': 4791, 'experience': 1580, 'germany': 1898, 'war': 4792, 'takes': 4351, 'uncle': 4636, 'train': 4556, 'travels': 4569, 'almost': 193, 'totally': 4532, 'destroyed': 1214, 'meeting': 2794, 'killing': 2472, 'hunt': 2198, 'former': 1800, 'nazi': 2977, 'party': 3200, 'society': 4050, 'suffering': 4277, 'corruption': 1002, 'main': 2707, 'involved': 2346, 'called': 652, 'put': 3480, 'atmosphere': 333, 'viewer': 4738, 'attempting': 342, 'wake': 4774, 'youve': 4995, 'europe': 1529, 'yesterday': 4983, 'spanish': 4092, 'myself': 2953, 'emotional': 1459, 'lesson': 2577, 'spain': 4091, 'direction': 1261, 'why': 4878, 'masterpiece': 2759, 'high': 2100, 'schools': 3814, 'tremendous': 4579, 'pilot': 3276, 'civil': 826, 'chooses': 800, 'government': 1948, 'criminal': 1057, 'role': 3726, 'religion': 3607, 'surprisingly': 4316, 'inventive': 2341, 'colors': 879, 'magnificent': 2705, 'anybody': 257, 'difference': 1246, 'scenario': 3808, 'express': 1600, 'protect': 3443, 'start': 4156, 'abuse': 74, 'towards': 4540, 'de': 1131, 'carol': 693, 'journey': 2421, 'stories': 4205, '20th': 38, 'century': 736, 'contain': 962, 'dogs': 1311, 'heaven': 2068, 'animated': 241, 'previous': 3387, 'don': 1320, 'became': 431, 'cute': 1090, 'theyre': 4445, 'animation': 242, 'perfectly': 3226, 'voiced': 4762, 'songs': 4072, 'touching': 4536, 'opened': 3113, '17': 9, 'date': 1118, 'produced': 3414, 'disney': 1289, 'charlie': 765, 'killed': 2469, 'mean': 2779, 'shame': 3918, 'survive': 4321, 'song': 4071, 'performed': 3230, 'jackson': 2375, 'five': 1743, 'fell': 1690, 'super': 4295, 'mario': 2738, 'loved': 2670, 'graphics': 1959, 'music': 2946, 'heard': 2062, 'remember': 3616, 'plot': 3309, 'princess': 3397, 'kidnapped': 2466, 'rescue': 3643, 'object': 3066, 'stars': 4155, 'six': 4010, 'beat': 423, 'three': 4469, 'levels': 2585, 'lets': 2580, 'advice': 133, 'villain': 4744, 'important': 2247, 'agree': 155, 'compare': 911, 'effects': 1431, 'awesome': 371, 'sound': 4081, 'water': 4816, 'favorite': 1671, 'night': 3013, 'roger': 3724, 'others': 3136, 'worlds': 4947, 'ones': 3108, 'stick': 4185, 'favorites': 1672, 'past': 3207, 'developing': 1224, 'typical': 4623, 'bring': 585, 'edge': 1418, 'seat': 3845, 'average': 362, 'thriller': 4472, 'brilliantly': 584, 'edited': 1420, 'museum': 2945, 'erotic': 1515, 'pace': 3161, 'fast': 1661, 'fully': 1847, 'appreciate': 279, 'suitable': 4285, 'everybody': 1540, 'itself': 2371, 'quite': 3495, 'viewers': 4739, 'build': 614, 'tension': 4404, 'michael': 2829, 'caine': 647, 'casting': 711, 'choice': 797, 'acts': 107, 'musical': 2947, 'score': 3822, 'suits': 4287, 'body': 527, 'double': 1331, 'doubt': 1332, 'drama': 1346, 'class': 833, 'big': 478, 'besides': 468, 'terrible': 4407, 'boring': 543, 'predictable': 3367, 'remote': 3622, 'cause': 723, 'premise': 3370, 'supporting': 4304, 'budget': 610, 'giving': 1915, 'fair': 1630, 'turkey': 4604, 'insult': 2309, 'ties': 4490, 'fool': 1779, 'liking': 2604, 'instead': 2307, 'heart': 2064, 'warming': 4795, 'failed': 1626, 'miserably': 2864, 'worst': 4952, 'yourself': 4993, 'favor': 1670, 'skip': 4016, 'wish': 4904, 'extent': 1605, 'liked': 2600, 'vampires': 4712, 'women': 4923, 'slap': 4018, 'lee': 2559, 'realized': 3553, 'sidekick': 3966, 'blade': 495, 'deadly': 1133, 'jon': 2416, 'okay': 3099, 'yeah': 4977, 'actor': 103, 'sing': 3992, 'catch': 714, 'action': 100, 'shocked': 3939, 'reviews': 3679, 'intended': 2315, 'deep': 1154, 'vast': 4716, 'majority': 2712, 'reviewers': 3678, 'produce': 3413, 'insight': 2298, 'twisted': 4618, 'rate': 3526, 'trash': 4565, 'comedy': 890, 'rather': 3528, 'surprised': 4313, 'jamie': 2379, 'spectacular': 4101, 'using': 4698, 'prison': 3401, 'clean': 838, 'act': 97, 'blue': 518, 'hudson': 2184, 'hours': 2177, 'guys': 2001, 'plays': 3301, 'convincingly': 986, 'humorous': 2193, 'intelligent': 2314, 'serious': 3891, 'humor': 2192, 'side': 3965, 'underlying': 4641, 'matrix': 2767, 'men': 2805, 'raw': 3532, 'paced': 3162, 'filming': 1718, 'occasional': 3074, 'disappoint': 1272, 'normally': 3034, 'level': 2584, 'die': 1243, 'hard': 2033, 'trilogy': 4586, 'coming': 896, 'deals': 1137, 'learn': 2550, 'summer': 4291, 'robert': 3713, 'famous': 1647, 'superb': 4296, 'hits': 2125, 'false': 1641, 'stunning': 4244, 'debut': 1143, 'photographed': 3258, 'superbly': 4297, 'window': 4894, 'reality': 3551, 'honestly': 2147, 'single': 3996, 'changes': 751, 'families': 1644, 'together': 4511, 'discussion': 1284, 'issues': 2365, 'deal': 1135, 'parent': 3187, 'michelle': 2830, 'diana': 1237, 'girl': 1909, 'ready': 3546, 'battle': 414, 'father': 1666, 'paying': 3217, 'boxing': 556, 'lessons': 2578, 'decides': 1150, 'focusing': 1769, 'anger': 235, 'douglas': 1334, 'emotions': 1461, 'circle': 821, 'maybe': 2776, 'impressed': 2251, 'compared': 912, 'japan': 2381, 'kinda': 2477, 'impression': 2252, 'sinister': 3998, 'talk': 4358, 'long': 2644, 'conversations': 981, 'ghost': 1902, 'dark': 1115, 'pictures': 3270, 'views': 4742, 'strange': 4211, 'magic': 2703, 'looks': 2649, 'full': 1846, 'violence': 4747, 'horrendous': 2162, 'creators': 1044, 'mysterious': 2955, 'hero': 2088, 'evil': 1548, 'reading': 3544, 'spoof': 4127, 'gem': 1877, 'list': 2617, 'opening': 3114, 'credits': 1050, '1950s': 14, 'cartoon': 704, 'theme': 4433, 'appears': 278, 'names': 2963, 'hit': 2122, 'plus': 3311, 'superman': 4301, 'every': 1539, 'shallow': 3917, 'various': 4715, 'actresses': 106, 'producers': 3416, 'careers': 687, 'excuse': 1564, 'fashioned': 1660, 'farce': 1654, 'issue': 2364, 'mad': 2696, 'magazine': 2701, 'feels': 1687, 'gift': 1906, 'us': 4690, 'audience': 352, 'sally': 3776, 'field': 1704, 'award': 366, 'americas': 215, 'awards': 367, 'sun': 4292, 'sets': 3899, 'fears': 1677, 'contrary': 974, 'genuine': 1891, 'thrill': 4471, 'adams': 112, 'absence': 70, 'instantly': 2306, 'trip': 4588, 'rest': 3657, 'constantly': 958, 'unseen': 4678, 'paranoia': 3186, 'taste': 4369, 'baker': 385, 'specifically': 4100, 'hired': 2117, 'goldberg': 1933, 'writer': 4968, 'support': 4303, 'offers': 3090, 'months': 2897, 'visit': 4755, 'doubts': 1333, 'line': 2610, 'living': 2629, 'aforementioned': 139, 'teacher': 4375, 'ben': 463, 'calls': 654, 'roll': 3728, 'secret': 3849, 'seeing': 3857, 'mr': 2929, 'happy': 2032, 'brother': 598, 'paid': 3169, 'million': 2847, 'command': 897, 'likes': 2602, 'carrie': 697, 'fisher': 1739, 'whos': 4876, 'anderson': 227, 'kevin': 2457, 'dinner': 1254, 'theater': 4427, 'hell': 2077, 'david': 1124, 'jr': 2423, 'brought': 600, 'back': 378, '20': 29, 'earlier': 1399, 'course': 1019, 'presents': 3377, 'logical': 2639, 'current': 1084, 'ago': 154, 'somehow': 4063, 'steps': 4177, 'trick': 4582, 'across': 96, 'washington': 4806, 'bridge': 578, 'helps': 2082, 'shake': 3914, 'tries': 4585, 'rid': 3690, 'easily': 1406, 'promised': 3431, 'development': 1225, 'hamlet': 2013, 'means': 2783, 'hold': 2129, 'producer': 3415, 'florida': 1761, 'eating': 1413, 'indeed': 2271, 'lifestyle': 2593, 'amongst': 218, 'hilarious': 2106, 'fat': 1663, 'suit': 4284, 'stage': 4139, 'forced': 1787, 'whatever': 4859, 'broken': 594, 'channel': 753, 'dating': 1120, 'craven': 1034, 'elizabeth': 1445, 'ensemble': 1492, 'fantastic': 1651, 'stereotypes': 4179, 'run': 3755, 'montana': 2895, 'rise': 3702, 'desperate': 1208, 'plots': 3310, 'finally': 1724, 'succeed': 4262, 'settle': 3902, 'youll': 4988, 'lovable': 2668, 'reads': 3545, 'lines': 2612, 'stomach': 4196, 'laughter': 2535, 'tears': 4380, 'feel': 1684, 'free': 1827, 'demand': 1174, 'money': 2888, 'rental': 3627, 'need': 2987, 'often': 3095, 'deliver': 1169, 'crafted': 1029, 'writing': 4971, 'draw': 1349, 'source': 4086, 'painfully': 3172, 'awfully': 373, 'less': 2575, 'transition': 4561, 'expecting': 1578, 'ambitious': 211, 'project': 3427, 'below': 462, 'par': 3184, 'execution': 1566, 'kapoor': 2443, 'disappointed': 1273, 'expected': 1577, 'close': 853, 'review': 3676, 'decent': 1147, 'desired': 1206, 'chose': 804, 'atmospheric': 334, 'pulled': 3462, 'porn': 3336, 'flicks': 1755, 'vampire': 4711, 'check': 777, 'blood': 512, 'entertained': 1498, 'constant': 957, 'slow': 4031, 'smart': 4035, 'angles': 237, 'ie': 2221, 'theres': 4440, 'romance': 3732, 'bourne': 554, 'calm': 655, 'car': 680, 'town': 4541, 'married': 2744, 'kay': 2447, 'francis': 1818, 'works': 4945, 'performs': 3234, 'leading': 2547, 'lady': 2507, 'dreams': 1355, 'becoming': 435, 'broadway': 592, 'ham': 2011, 'boot': 538, 'arrives': 302, 'visits': 4756, 'believing': 457, 'husband': 2204, 'finds': 1728, 'resulting': 3661, 'unexpected': 4650, 'death': 1141, 'leads': 2548, 'trial': 4580, 'sentence': 3881, 'joined': 2413, 'traveling': 4568, 'hopes': 2159, 'making': 2718, 'mans': 2730, 'baby': 376, 'pretty': 3384, 'fetched': 1698, 'perhaps': 3235, 'melodramatic': 2798, 'tons': 4520, 'greatly': 1967, 'strong': 4229, 'performance': 3228, 'forty': 1807, 'older': 3101, 'ran': 3513, 'stayed': 4167, 'give': 1912, 'nearly': 2981, 'format': 1799, 'advantage': 129, 'coherent': 871, 'storyline': 4208, 'multiple': 2936, 'heck': 2071, 'scared': 3805, 'odd': 3080, 'leader': 2546, 'reminds': 3620, 'combination': 883, 'clint': 850, 'eastwood': 1409, 'tommy': 4516, 'jones': 2418, 'creator': 1043, 'rights': 3697, 'knowing': 2490, 'store': 4204, 'multi': 2935, 'rose': 3739, 'beloved': 461, 'british': 589, 'accent': 78, 'exception': 1557, 'ending': 1471, 'rent': 3626, 'eddie': 1416, 'murphy': 2944, 'particularly': 3195, 'lovely': 2671, 'charlotte': 766, 'lewis': 2586, 'beauty': 430, 'held': 2074, 'tone': 4517, 'higher': 2101, 'learning': 2552, 'equally': 1510, 'university': 4667, 'african': 142, 'americans': 214, 'intrigued': 2334, '25': 40, 'cry': 1073, '11': 2, '1972': 18, 'olivier': 3103, 'lover': 2672, 'feeling': 1685, 'dislike': 1288, 'remake': 3612, 'adapted': 114, 'kenneth': 2455, 'marvelous': 2750, 'missed': 2867, 'design': 1202, 'stylish': 4251, 'uncomfortable': 4637, 'cold': 872, 'somebody': 4062, 'lived': 2626, 'house': 2178, 'green': 1971, 'round': 3742, 'eyes': 1613, 'laws': 2540, 'perform': 3227, 'weakest': 4825, 'mid': 2832, 'asleep': 320, '2007': 37, 'critics': 1064, '45': 50, 'minutes': 2859, 'pure': 3471, 'boredom': 542, 'stupidity': 4248, 'turned': 4606, 'lasted': 2522, 'west': 4852, 'burt': 629, 'ward': 4793, 'result': 3660, 'demon': 1177, 'king': 2479, 'gives': 1914, 'compelling': 916, 'historically': 2120, 'army': 295, 'lawyer': 2541, 'appalling': 268, 'security': 3854, 'situation': 4008, 'away': 369, 'counter': 1011, 'whilst': 4869, 'service': 3896, 'satisfied': 3789, 'driven': 1365, 'passed': 3202, 'truth': 4599, 'decades': 1145, 'red': 3576, 'scare': 3803, 'essentially': 1523, 'phony': 3256, 'lying': 2690, 'accused': 91, 'matter': 2769, 'wonder': 4926, 'wing': 4896, 'uk': 4626, 'newspaper': 3006, 'named': 2961, 'lie': 2590, 'interest': 2323, 'types': 4622, 'arms': 294, 'soviet': 4089, 'sheer': 3925, 'scale': 3802, 'fellow': 1691, 'correct': 1000, 'brave': 567, 'soul': 4079, 'telling': 4396, 'mass': 2753, 'murderer': 2941, 'worked': 4941, 'vicious': 4728, 'system': 4345, 'western': 4853, 'accurate': 90, 'account': 89, 'breath': 573, 'drunken': 1376, 'imagination': 2236, 'moore': 2901, 'turn': 4605, 'combined': 885, 'wonderful': 4928, 'reunion': 3669, 'forward': 1808, 'youth': 4994, 'charm': 767, 'touch': 4533, '2000': 30, 'realism': 3549, 'follow': 1772, 'lou': 2663, 'grant': 1956, 'sue': 4274, 'ann': 244, 'today': 4508, 'early': 1400, 'viewed': 4737, 'camera': 659, 'brown': 601, 'makeup': 2717, 'surely': 4309, 'avoided': 364, 'annoying': 249, 'ms': 2931, 'paint': 3173, 'singers': 3994, 'singing': 3995, 'actual': 108, 'facial': 1619, 'artists': 309, 'apparent': 269, 'weight': 4840, 'received': 3564, 'heavy': 2070, 'television': 4394, 'commercial': 902, 'company': 910, 'commercials': 903, 'quality': 3484, 'print': 3399, 'production': 3419, 'lesser': 2576, 'improve': 2254, 'add': 115, 'language': 2516, 'speak': 4094, 'italian': 2367, 'lyrics': 2692, 'teach': 4374, 'narrator': 2967, 'seconds': 3848, 'introduction': 2339, 'aside': 315, 'known': 2492, 'remembered': 3617, 'larry': 2520, 'victims': 4730, 'killer': 2470, 'depiction': 1185, 'joke': 2414, 'allow': 189, 'sucked': 4270, 'vhs': 4725, '80s': 59, 'save': 3794, 'jessica': 2398, 'james': 2378, 'cameron': 661, 'ignore': 2224, 'decide': 1148, 'buy': 640, 'join': 2412, 'hate': 2046, 'fox': 1814, 'lesbian': 2573, 'absolute': 71, 'compelled': 915, 'sign': 3970, 'imdb': 2240, 'rating': 3529, 'drops': 1372, 'chick': 786, 'asking': 318, 'id': 2212, 'idiot': 2218, 'pathetic': 3210, 'focus': 1766, 'onto': 3111, 'mentally': 2809, 'jumped': 2430, 'sky': 4017, 'excitement': 1562, 'middle': 2833, 'flaws': 1752, 'lame': 2510, 'sick': 3963, 'anymore': 258, 'bottom': 551, 'simple': 3983, 'teenagers': 4391, 'van': 4713, 'clichés': 846, 'guarantee': 1987, 'warned': 4798, 'crazy': 1035, 'dan': 1102, 'handled': 2019, 'break': 569, 'split': 4120, 'picked': 3266, 'monster': 2892, 'capture': 676, 'phone': 3255, 'escape': 1517, 'vehicle': 4718, 'speed': 4103, 'seemingly': 3863, 'weak': 4824, 'properly': 3437, 'unnecessary': 4672, 'elements': 1443, 'react': 3540, 'ways': 4822, 'despite': 1211, 'fall': 1637, 'lust': 2689, 'immediately': 2242, 'teens': 4392, 'ripped': 3701, 'bodies': 526, 'twelve': 4611, 'boys': 559, 'dream': 1354, 'improvement': 2256, 'cinematography': 820, 'cut': 1089, 'hear': 2061, 'achieved': 93, 'spent': 4108, 'ultimately': 4628, 'mildly': 2840, 'pointless': 3318, 'extras': 1608, 'listen': 2619, 'commentary': 899, 'belief': 451, 'claim': 828, 'wonders': 4931, 'afraid': 140, 'within': 4912, 'acted': 98, 'appropriate': 283, 'order': 3126, 'question': 3487, 'havent': 2053, 'brilliance': 582, 'conversation': 980, 'digital': 1251, 'ease': 1404, 'moment': 2886, 'comes': 891, 'mann': 2728, 'roberts': 3714, 'uses': 4697, 'shelf': 3926, 'comparison': 914, 'arrogant': 303, 'goes': 1930, 'specific': 4099, 'voice': 4761, 'admit': 122, 'further': 1853, 'complete': 921, 'accents': 79, 'wouldnt': 4958, 'born': 544, 'sorts': 4078, 'ignorant': 2223, 'topless': 4527, 'ground': 1979, 'documentary': 1307, 'reviewer': 3677, 'claimed': 829, 'forest': 1791, 'convince': 983, 'track': 4544, 'sitting': 4007, 'dialogues': 1235, 'individuals': 2278, 'plain': 3286, 'category': 718, 'resist': 3648, 'exactly': 1551, 'politically': 3325, 'possibly': 3351, 'sequel': 3885, 'qualities': 3483, 'insane': 2296, 'brand': 565, 'zero': 4996, 'consists': 955, 'flashbacks': 1747, 'portion': 3338, 'thanks': 4423, 'nick': 3012, 'version': 4720, 'christmas': 810, 'falling': 1639, 'sadly': 3769, 'fail': 1625, 'conservative': 948, 'numerous': 3062, 'versions': 4721, 'prove': 3445, 'guilty': 1995, 'embarrassed': 1453, 'space': 4090, 'outfit': 3144, 'cool': 989, 'anyways': 262, 'holds': 2131, 'drags': 1345, 'segments': 3868, 'stand': 4143, 'millions': 2848, 'renting': 3629, 'embarrassing': 1454, 'ill': 2228, 'internet': 2327, 'hide': 2097, 'escaped': 1518, 'mst3k': 2932, 'filled': 1715, 'empty': 1465, 'paper': 3183, 'thin': 4449, 'dumb': 1385, 'situations': 4009, 'goofy': 1939, 'centers': 734, 'chosen': 805, 'agents': 151, 'spy': 4135, 'dad': 1095, 'agent': 150, 'gone': 1935, 'missing': 2869, 'kurt': 2499, 'thomas': 4458, 'promising': 3433, 'bare': 398, 'begin': 442, 'describe': 1194, 'details': 1219, 'asian': 314, 'girlfriend': 1910, 'hour': 2176, 'sudden': 4272, 'begins': 444, 'shut': 3961, 'tough': 4537, 'existent': 1572, 'rules': 3754, 'whenever': 4863, 'delightful': 1168, 'village': 4743, 'name': 2960, 'shines': 3932, 'protagonist': 3441, 'wise': 4903, 'equipment': 1511, 'eastern': 1408, 'cities': 823, 'master': 2757, 'skills': 4014, 'parallel': 3185, 'horses': 2171, 'believed': 455, 'dies': 1245, 'believable': 453, 'major': 2711, 'realistic': 3550, 'likely': 2601, 'nevertheless': 3002, 'target': 4366, 'idiotic': 2219, 'dentist': 1180, 'create': 1036, 'disgusting': 1286, 'pulling': 3463, 'teeth': 4393, 'move': 2921, 'kicked': 2461, 'bang': 393, 'literally': 2622, 'slowly': 4032, 'halfway': 2008, 'bored': 541, 'confused': 941, 'advise': 134, 'beginning': 443, 'planned': 3290, 'answers': 252, 'keeps': 2451, 'dialogue': 1234, 'supernatural': 4302, 'peter': 3247, 'haunting': 2051, 'fascinating': 1658, 'richard': 3686, 'australian': 357, 'closer': 856, 'discovers': 1281, 'chris': 806, 'race': 3499, 'beings': 449, 'australia': 356, 'thousands': 4466, 'extraordinary': 1607, 'sequences': 3888, 'solid': 4057, 'roles': 3727, 'climax': 849, 'contrast': 975, 'thrillers': 4473, 'flat': 1748, 'talks': 4361, 'spiritual': 4116, 'identity': 2217, 'masterful': 2758, 'visually': 4758, 'dramas': 1347, 'opens': 3115, 'stock': 4193, 'footage': 1782, 'cuts': 1091, 'captain': 674, 'running': 3756, 'cover': 1022, 'once': 3106, 'inside': 2297, 'hitler': 2124, 'officers': 3093, 'ultimate': 4627, 'realize': 3552, 'caught': 722, 'fantasy': 1652, 'depicted': 1183, 'notable': 3041, 'prevent': 3385, 'russian': 3762, 'advance': 127, 'minor': 2857, 'subplot': 4255, 'involving': 2349, 'familys': 1646, 'surviving': 4323, 'suffers': 4278, 'included': 2262, 'wears': 4832, 'arm': 292, 'wore': 4939, 'soldiers': 4054, 'wear': 4830, 'iron': 2354, 'cross': 1066, 'outside': 3146, 'suicide': 4283, 'weapon': 4828, 'model': 2880, 'wholly': 4874, 'dance': 1103, 'near': 2979, 'wounded': 4961, 'soldier': 4053, 'nurse': 3063, 'incredible': 2269, 'alone': 194, 'wall': 4781, 'starts': 4159, 'screaming': 3827, 'brings': 587, 'guard': 1988, 'screen': 3829, 'smoke': 4039, 'image': 2233, 'interested': 2324, '1973': 19, 'der': 1191, 'officer': 3092, 'crimes': 1056, 'judge': 2424, 'obviously': 3072, 'surprising': 4315, 'hugh': 2186, 'tired': 4501, '1960s': 15, 'knew': 2486, 'fame': 1642, 'liberal': 2588, 'rebel': 3561, 'followed': 1773, 'tour': 4538, 'knowledge': 2491, 'pro': 3406, 'con': 928, 'spoke': 4125, 'glad': 1916, 'initial': 2290, 'dull': 1384, 'whats': 4860, 'intellectual': 2312, 'according': 88, 'dvds': 1392, 'speaking': 4095, 'william': 4887, 'everywhere': 1545, 'eyed': 1612, 'inane': 2258, 'outrageous': 3145, 'hed': 2072, 'badly': 383, 'irrelevant': 2358, 'empire': 1464, 'narrative': 2966, 'separate': 3883, 'interview': 2329, 'element': 1442, 'basic': 406, 'questions': 3489, 'lone': 2642, 'background': 380, 'bears': 421, 'rarely': 3524, 'movements': 2924, 'touches': 4535, 'students': 4239, 'barely': 399, 'ridiculously': 3694, 'editor': 1423, 'filmmaker': 1719, 'statement': 4162, 'signs': 3973, 'mere': 2814, 'struggling': 4236, 'answer': 251, 'canada': 666, 'prior': 3400, 'invasion': 2340, 'iraq': 2351, 'vietnam': 4735, 'era': 1513, 'points': 3319, 'media': 2789, 'follows': 1775, 'ad': 110, 'advertising': 132, 'industry': 2280, 'word': 4937, 'similarly': 3980, 'peoples': 3222, 'fear': 1676, 'crime': 1055, 'explains': 1589, 'rape': 3521, 'crisis': 1060, 'wasted': 4809, 'absurd': 73, 'cuba': 1075, 'victim': 4729, 'latin': 2527, 'africa': 141, 'union': 4661, 'guess': 1989, 'gray': 1963, 'aliens': 184, 'species': 4098, 'lay': 2542, 'justice': 2438, 'met': 2822, 'revolutionary': 3681, 'anti': 254, 'drug': 1373, 'lord': 2652, 'trade': 4547, 'forget': 1793, 'storytelling': 4209, 'slasher': 4020, 'helicopter': 2076, 'road': 3709, 'shots': 3950, 'amateur': 206, 'warm': 4794, 'awkward': 374, 'lit': 2621, 'wondered': 4927, 'cards': 683, 'factor': 1622, 'laurel': 2537, 'terry': 4415, 'exciting': 1563, 'dry': 1377, 'nude': 3058, 'virginia': 4750, 'creepy': 1052, 'chicks': 787, 'expressions': 1603, 'emphasis': 1463, 'delight': 1167, 'suddenly': 4273, 'drive': 1363, 'truck': 4595, 'eighties': 1437, 'ya': 4976, 'grew': 1972, 'kiss': 2483, 'damage': 1099, 'caused': 724, 'anyway': 261, 'regarding': 3589, 'banned': 395, 'hype': 2207, 'substance': 4258, 'midnight': 2834, 'viewing': 4740, 'theatre': 4429, 'mgm': 2828, 'studios': 4241, 'grab': 1949, 'dick': 1239, 'rip': 3700, 'throat': 4476, 'darkness': 1117, 'professor': 3422, 'ii': 2226, 'flash': 1745, 'gordon': 1940, 'aint': 163, 'babe': 375, 'weeks': 4839, 'beatty': 427, 'landscape': 2513, 'jumping': 2431, 'hoping': 2160, 'shooting': 3943, 'pain': 3170, 'god': 1926, 'terribly': 4408, '1st': 28, 'offering': 3089, 'virus': 4752, 'causes': 725, 'sexual': 3908, 'replaced': 3634, 'murderous': 2942, 'toward': 4539, 'explaining': 1588, 'fly': 1763, 'scientists': 3819, 'arrested': 298, 'females': 1694, 'discovered': 1280, 'assume': 328, 'blah': 496, 'except': 1556, 'kills': 2474, 'psychic': 3456, 'redeeming': 3577, 'grasp': 1960, 'suspense': 4330, 'nowhere': 3056, 'degree': 1164, 'urge': 4689, 'jennifer': 2392, 'fulci': 1845, 'john': 2409, 'awe': 370, 'perfect': 3224, 'naive': 2958, 'bud': 607, 'necessary': 2984, 'attitude': 346, 'cowboy': 1025, 'country': 1014, 'soundtrack': 4085, 'desperately': 1209, 'ninja': 3018, 'scarecrow': 3804, 'fits': 1741, 'twists': 4619, 'turns': 4609, 'keeping': 2450, 'drives': 1367, 'pre': 3365, 'thirty': 4456, 'icon': 2211, 'dig': 1250, 'smoking': 4040, 'dedicated': 1153, 'fighting': 1709, 'loose': 2650, 'vote': 4766, 'decade': 1144, 'concern': 931, 'marie': 2737, 'burns': 628, 'selling': 3873, 'closed': 854, 'delivering': 1171, 'womens': 4924, 'friend': 1835, 'mayor': 2777, 'lake': 2509, 'draws': 1352, 'orders': 3127, 'strike': 4224, 'bedroom': 437, 'bath': 411, 'frankly': 1823, 'unfunny': 4655, 'offensive': 3086, 'andy': 230, 'slapstick': 4019, 'mix': 2876, 'karen': 2444, 'charles': 764, 'warn': 4797, 'psychological': 3458, 'basis': 408, 'alright': 198, 'disappointing': 1274, 'possessed': 3347, 'flop': 1760, 'screenwriter': 3833, 'ah': 158, 'direct': 1258, 'sat': 3786, 'shortly': 3947, 'pity': 3281, 'couldve': 1009, 'adventure': 130, 'ted': 4386, 'threat': 4467, 'chuck': 812, 'sends': 3876, 'robots': 3718, 'winter': 4900, 'humour': 2194, 'lacking': 2504, 'pair': 3176, 'mention': 2810, 'figure': 1711, 'grim': 1974, 'techniques': 4384, 'packed': 3166, 'stretch': 4221, 'heavily': 2069, 'present': 3374, 'spot': 4131, 'machine': 2693, 'confusing': 942, 'timing': 4498, 'placed': 3283, 'happens': 2029, 'evident': 1547, 'hated': 2047, 'appreciated': 280, 'jokes': 2415, 'arent': 288, 'motives': 2916, 'fairly': 1631, 'meaning': 2780, 'cruel': 1070, 'showed': 3956, 'per': 3223, 'proud': 3444, 'hand': 2015, 'science': 3816, 'station': 4164, 'took': 4523, 'walk': 4775, 'moon': 2900, 'comment': 898, 'technical': 4381, 'mistakes': 2873, 'seriously': 3892, 'camp': 662, 'idiots': 2220, 'mixed': 2877, 'un': 4630, 'responsibility': 3655, 'minds': 2852, 'flaw': 1749, 'kate': 2446, 'huge': 2185, 'pile': 3275, 'crappy': 1032, 'garbage': 1870, 'positive': 3346, 'term': 4405, 'loosely': 2651, 'normal': 3033, 'intelligence': 2313, 'trust': 4598, 'thank': 4421, 'avoid': 363, 'choose': 799, 'favourite': 1673, 'costumes': 1006, 'ron': 3734, 'moody': 2899, 'oliver': 3102, '60s': 54, 'sisters': 4002, 'timeless': 4496, 'dickens': 1240, 'poverty': 3357, 'houses': 2180, 'resort': 3650, 'bull': 619, 'looked': 2647, 'dog': 1310, 'rat': 3525, 'record': 3573, 'amount': 219, 'notice': 3048, 'standards': 4145, 'musicals': 2948, 'following': 1774, 'progress': 3425, 'consider': 949, 'both': 547, 'danny': 1112, 'reed': 3580, 'problem': 3408, 'lies': 2591, 'fails': 1628, 'impress': 2250, 'jack': 2373, 'revenge': 3675, 'meet': 2793, 'formula': 1802, 'deeper': 1155, 'mental': 2808, 'ends': 1474, 'stiff': 4187, 'competition': 918, 'directing': 1260, 'abilities': 64, 'festival': 1697, 'hadnt': 2004, 'criminals': 1058, 'accidentally': 85, 'cat': 713, 'mouse': 2919, 'matters': 2770, 'odds': 3082, 'performances': 3229, 'motion': 2913, 'serves': 3895, 'expensive': 1579, 'repeated': 3631, 'attempts': 343, 'gritty': 1977, 'countless': 1012, 'weve': 4856, 'latter': 2528, 'cared': 685, 'wanting': 4790, 'quickly': 3491, 'frightening': 1839, 'worthwhile': 4955, 'collection': 874, 'stereotypical': 4180, 'cliche': 843, 'defense': 1159, 'suspenseful': 4331, 'push': 3477, 'limited': 2606, 'hills': 2109, 'kick': 2460, 'stopped': 4202, 'christopher': 811, 'lloyd': 2630, 'adults': 126, 'taxi': 4371, 'glover': 1923, 'pleasant': 3302, 'effort': 1432, 'pokemon': 3320, 'corny': 997, 'mediocre': 2791, 'areas': 287, 'aimed': 162, 'adult': 125, 'fields': 1705, 'sweet': 4336, 'fresh': 1833, 'installment': 2303, 'popcorn': 3331, 'intensity': 2317, 'likable': 2598, 'lowest': 2678, 'length': 2569, 'deserve': 1199, 'entry': 1504, 'detective': 1220, 'relatives': 3601, 'wealthy': 4827, 'relative': 3599, 'murders': 2943, 'male': 2719, 'importance': 2246, 'meaningful': 2781, 'unconvincing': 4638, 'noir': 3023, 'defined': 1160, 'mood': 2898, 'menace': 2806, 'cynical': 1093, 'losers': 2656, 'upon': 4684, 'problems': 3409, 'child': 789, 'female': 1693, 'trailer': 4554, 'excited': 1561, '1990s': 25, 'chase': 769, 'sutherland': 4333, 'firstly': 1737, 'secondly': 3847, 'exact': 1550, 'affair': 135, 'president': 3378, 'potential': 3355, 'eva': 1531, 'parker': 3191, 'cash': 709, 'paul': 3214, 'south': 4087, 'messed': 2821, 'fabulous': 1615, 'stealing': 4171, 'theyve': 4446, 'hole': 2132, 'manage': 2722, 'miss': 2866, 'kudos': 2497, 'theyll': 4444, 'destroy': 1213, 'emotionally': 1460, 'disturbing': 1300, 'fed': 1682, 'aged': 149, 'macy': 2695, 'business': 633, 'hire': 2116, 'donald': 1321, 'ritter': 3705, 'patient': 3211, 'campbell': 663, 'panic': 3181, 'notch': 3043, 'meets': 2795, 'professional': 3421, 'remarkable': 3613, 'henry': 2084, 'theaters': 4428, 'nights': 3016, 'achieve': 92, 'boy': 557, 'mistaken': 2872, 'words': 4938, 'park': 3190, 'share': 3920, 'natural': 2973, 'chemistry': 782, 'obsessed': 3069, 'ordinary': 3128, 'offer': 3087, 'attention': 345, 'driver': 1366, 'hearing': 2063, 'grand': 1953, 'general': 1880, 'intense': 2316, 'glimpse': 1919, 'wars': 4804, 'match': 2762, 'tag': 4348, 'gold': 1932, 'table': 4346, 'ray': 3533, 'spike': 4111, 'vs': 4767, 'matches': 2764, 'wrestling': 4966, 'noble': 3021, 'crowd': 1067, 'press': 3379, 'expect': 1575, 'flying': 1764, 'lack': 2502, 'cameras': 660, 'quick': 3490, 'european': 1530, 'hardy': 2037, 'lacks': 2505, 'impressive': 2253, 'ended': 1470, 'dress': 1357, 'variety': 4714, 'sub': 4252, 'styles': 4250, 'matched': 2763, 'energy': 1478, 'skill': 4013, 'lacked': 2503, 'upset': 4687, 'christian': 808, 'storm': 4206, 'pop': 3330, 'rock': 3720, 'angle': 236, 'plenty': 3307, 'stolen': 4195, 'strictly': 4223, 'extra': 1606, 'pay': 3216, 'cinderella': 815, '1999': 27, 'technically': 4382, 'castle': 712, 'remains': 3611, 'magical': 2704, 'fairy': 1632, 'tale': 4353, 'glass': 1917, 'form': 1798, 'depressing': 1188, 'perry': 3237, 'harder': 2035, 'jay': 2386, 'writers': 4969, 'horrible': 2163, 'focused': 1767, 'fortunately': 1805, 'forgotten': 1797, 'costs': 1004, 'building': 615, 'ex': 1549, 'stranger': 4213, 'slight': 4027, 'bitter': 491, 'deeply': 1156, 'particular': 3194, 'em': 1452, 'french': 1830, 'satisfying': 3791, 'subtle': 4260, 'terrific': 4409, 'lips': 2615, 'wonderfully': 4929, 'nasty': 2968, 'faithful': 1634, 'featuring': 1681, 'sharp': 3922, 'vincent': 4746, '40s': 49, 'appealing': 272, 'discover': 1279, 'bleak': 503, 'desperation': 1210, 'develop': 1222, 'complex': 923, 'cook': 988, 'scheme': 3812, 'locations': 2636, 'office': 3091, 'worker': 4942, 'deaf': 1134, 'ability': 65, 'sexually': 3910, 'technology': 4385, 'contemporary': 965, 'mistake': 2871, 'sit': 4003, 'overlooked': 3154, 'personal': 3240, 'provided': 3449, 'affected': 137, 'script': 3834, 'told': 4513, 'empathy': 1462, '1940s': 13, 'unbearable': 4633, 'haunted': 2050, 'radio': 3504, 'college': 875, 'birthday': 487, 'mansion': 2731, 'hung': 2197, 'scary': 3807, 'fill': 1714, 'bob': 524, 'jimmy': 2403, 'johnny': 2410, 'material': 2766, 'steven': 4182, 'adaptation': 113, 'alice': 182, 'novel': 3052, 'treatment': 4574, 'growing': 1983, 'rural': 3758, 'abusive': 75, 'miserable': 2863, 'removed': 3624, 'step': 4175, 'loud': 2664, 'singer': 3993, 'stellar': 4174, 'dare': 1113, 'purple': 3473, 'manages': 2725, 'essence': 1521, 'complicated': 925, 'tends': 4402, 'vivid': 4760, 'allowing': 191, 'walker': 4778, 'shine': 3931, 'surrounded': 4318, 'suffice': 4279, 'rocks': 3722, 'figured': 1712, 'cringe': 1059, 'reasonably': 3559, '75': 57, '40': 48, 'mentioned': 2811, 'wooden': 4934, 'unbelievably': 4635, 'spend': 4105, 'convoluted': 987, 'clichéd': 845, 'surprise': 4312, 'distracting': 1297, 'contains': 964, 'circumstances': 822, 'engaging': 1481, 'chances': 748, 'twenty': 4612, 'widow': 4883, 'ryan': 3765, 'dialog': 1232, 'ugly': 4625, 'native': 2972, 'clue': 864, 'birds': 485, 'belongs': 460, 'toy': 4542, 'guns': 1998, 'useless': 4695, 'computer': 927, 'ranks': 3519, 'toilet': 4512, 'construction': 960, 'planet': 3289, 'commit': 904, 'mystery': 2956, 'california': 650, 'tortured': 4530, 'unknown': 4668, 'police': 3322, 'bright': 581, 'suspects': 4328, 'total': 4531, 'disbelief': 1277, 'pat': 3208, 'teenage': 4389, 'sequence': 3887, 'mummy': 2937, 'valley': 4707, 'kings': 2481, 'population': 3335, 'rule': 3753, 'finding': 1727, 'task': 4368, 'mrs': 2930, 'desert': 1198, 'drink': 1361, 'guide': 1993, 'dr': 1340, 'tracks': 4545, '3000': 43, 'dressed': 1358, 'animal': 239, 'contact': 961, 'absolutely': 72, 'sexy': 3911, 'deaths': 1142, 'curse': 1086, 'civilization': 827, 'survivors': 4325, 'mostly': 2910, 'negative': 2991, 'effect': 1428, 'proper': 3436, 'ups': 4686, '35': 45, 'et': 1526, 'kirk': 2482, 'established': 1524, 'enterprise': 1495, 'exploration': 1593, 'quit': 3494, 'gripping': 1976, 'anime': 243, 'art': 304, 'daring': 1114, 'adorable': 124, 'adventures': 131, 'memory': 2804, 'brosnan': 597, 'genius': 1887, 'bond': 532, 'charismatic': 763, 'laughed': 2532, 'sunday': 4293, 'navy': 2976, 'delivered': 1170, 'comedic': 888, 'improved': 2255, 'air': 164, '90s': 61, 'allowed': 190, 'connect': 944, 'walked': 4776, 'food': 1778, 'facing': 1620, 'victoria': 4732, 'struggles': 4235, 'needless': 2989, 'previously': 3388, 'emily': 1456, 'blunt': 520, 'devil': 1228, 'entirely': 1503, 'sides': 3967, 'vulnerable': 4768, 'proves': 3447, 'prince': 3396, 'albert': 174, 'happening': 2028, 'richardson': 3688, 'sir': 4000, 'jim': 2402, 'impact': 2244, 'tend': 4400, 'exceptionally': 1559, 'unlike': 4670, 'lose': 2654, 'drawn': 1351, 'turning': 4608, 'appreciation': 281, 'significant': 3972, 'disturbed': 1299, 'impossible': 2249, 'portrait': 3339, 'ed': 1415, 'behavior': 446, 'rage': 3505, 'finger': 1731, 'research': 3644, 'march': 2734, 'worthy': 4956, 'loaded': 2632, 'branagh': 564, 'proceeds': 3411, 'centered': 733, 'steel': 4173, 'introduces': 2338, 'unpleasant': 4674, 'homosexual': 2145, 'parties': 3196, 'effectively': 1430, 'remotely': 3623, 'shell': 3927, 'amounts': 220, 'subjects': 4254, 'surface': 4310, 'tribute': 4581, 'standing': 4146, 'successful': 4266, 'tad': 4347, 'ingredients': 2289, 'bumbling': 622, 'heroes': 2089, 'dolls': 1316, 'villains': 4745, 'choreography': 802, 'amitabh': 216, 'heroine': 2091, 'cop': 991, 'props': 3439, 'carries': 699, 'similar': 3978, 'brief': 579, 'results': 3662, 'cameo': 657, 'herself': 2092, 'dances': 1106, 'wind': 4893, 'logic': 2638, 'accident': 84, 'hardly': 2036, 'horse': 2170, 'spell': 4104, 'nonsense': 3030, 'wet': 4855, 'goodness': 1938, 'north': 3036, 'indians': 2275, 'harris': 2038, 'countryside': 1015, 'spends': 4107, 'purely': 3472, '50s': 52, 'exploitation': 1592, '70s': 56, 'futuristic': 1857, 'pride': 3391, 'edition': 1422, 'concerned': 932, 'kitchen': 2485, 'bathroom': 412, 'shouldnt': 3952, 'afford': 138, 'lousy': 2667, 'exists': 1573, 'receive': 3563, 'area': 286, 'spending': 4106, 'hundreds': 2196, 'borrowed': 545, 'returned': 3666, 'benefit': 465, 'enormous': 1490, 'among': 217, 'spoiler': 4123, 'chinese': 796, 'transfer': 4559, 'cgi': 740, 'island': 2361, 'creatures': 1046, 'cats': 721, 'enter': 1494, 'pulls': 3464, 'feet': 1688, 'test': 4416, 'laughable': 2530, 'tooth': 4524, 'gotten': 1947, 'spin': 4112, 'jazz': 2387, 'treasure': 4571, 'treat': 4572, 'sings': 3997, 'remarkably': 3614, 'folks': 1771, 'values': 4710, 'potentially': 3356, 'captivating': 675, 'gradually': 1952, 'reaches': 3538, 'overdone': 3152, 'conclusion': 936, 'noise': 3024, 'fault': 1668, 'sincere': 3991, 'wandering': 4785, 'broadcast': 591, 'spirits': 4115, 'via': 4726, 'buying': 641, 'understanding': 4645, 'began': 441, 'occasionally': 3075, 'clear': 839, 'wide': 4880, 'awake': 365, 'blame': 499, 'revealed': 3671, 'tongue': 4518, 'cheek': 779, 'extended': 1604, 'dolph': 1317, 'carried': 698, 'hurt': 2202, 'choreographed': 801, 'sucks': 4271, 're': 3535, 'scenery': 3810, 'cost': 1003, 'returns': 3668, 'teenager': 4390, 'rented': 3628, 'minimal': 2855, 'ralph': 3510, 'cutting': 1092, 'eerie': 1427, 'executed': 1565, 'angry': 238, 'mob': 2879, 'bizarre': 492, 'hysterical': 2208, 'lisa': 2616, 'gorgeous': 1942, 'exotic': 1574, 'strangely': 4212, 'copy': 994, 'characterization': 759, 'dialogs': 1233, 'hey': 2095, 'dragon': 1344, 'landscapes': 2514, 'designs': 1204, 'tim': 4494, 'burton': 630, 'displayed': 1292, 'educational': 1425, 'prepared': 3371, 'mature': 2773, 'pg': 3250, '13': 4, 'content': 966, 'canadian': 667, 'originally': 3131, 'chan': 746, '60': 53, 'equivalent': 1512, '50': 51, 'involve': 2345, 'silver': 3977, 'weapons': 4829, 'clothes': 860, 'authentic': 358, 'arrived': 301, '100': 1, 'square': 4136, 'mile': 2842, 'solve': 4060, 'rush': 3759, 'ford': 1789, '24': 39, 'frame': 1815, 'continuity': 972, 'putting': 3482, 'reduced': 3579, 'credit': 1049, 'nations': 2971, 'attitudes': 347, 'deserved': 1200, 'guest': 1992, 'measure': 2786, 'beaten': 424, 'reporter': 3636, 'agrees': 157, 'gruesome': 1986, 'tales': 4357, 'connected': 945, 'womans': 4922, 'eventually': 1537, 'suffer': 4275, 'fate': 1665, 'vacation': 4704, 'grave': 1962, 'brad': 560, 'uninspired': 4657, 'dreary': 1356, 'nudity': 3059, 'effective': 1429, 'technique': 4383, 'woods': 4935, 'ear': 1397, 'brains': 563, 'raise': 3507, '3d': 46, 'dirty': 1268, 'dancing': 1107, 'grows': 1985, 'huh': 2187, 'loves': 2674, 'copies': 992, 'frustration': 1843, 'luck': 2681, 'bar': 396, 'sight': 3969, 'fashion': 1659, 'dancer': 1104, 'intent': 2318, 'teen': 4388, 'hospital': 2172, 'hair': 2005, 'wasting': 4810, 'imagine': 2238, 'sarah': 3785, 'engage': 1479, 'sold': 4052, 'bank': 394, 'prom': 3429, 'fancy': 1649, 'football': 1783, 'punch': 3466, 'laughing': 2533, 'titles': 4506, 'summary': 4290, 'pot': 3354, 'integrity': 2311, 'fortune': 1806, 'hunting': 2201, 'stewart': 4184, 'walter': 4784, 'travel': 4567, 'territory': 4411, 'aware': 368, 'boom': 537, 'plan': 3287, 'honest': 2146, 'punishment': 3467, 'steal': 4170, 'border': 539, 'dawson': 1128, 'hot': 2174, 'pursuit': 3476, 'finish': 1732, 'slick': 4026, 'tight': 4492, 'surprises': 4314, 'core': 995, 'watches': 4814, 'essential': 1522, 'inspiring': 2302, 'developed': 1223, 'lucy': 2684, 'humanity': 2189, 'condition': 937, 'inner': 2292, 'triumph': 4590, 'subject': 4253, 'killers': 2471, 'incredibly': 2270, 'largely': 2518, 'presence': 3373, 'wisdom': 4902, 'dennis': 1179, 'brooklyn': 595, 'colonel': 876, 'spoil': 4121, 'blowing': 515, 'relatively': 3600, 'stinker': 4191, 'challenge': 743, 'che': 773, 'resolution': 3649, 'margaret': 2735, 'duo': 1386, 'noted': 3045, 'somewhere': 4069, 'massive': 2756, 'infamous': 2284, 'deliberately': 1166, 'audiences': 353, 'providing': 3451, 'remaining': 3610, 'context': 968, 'shirt': 3937, 'franchise': 1817, 'solely': 4056, 'student': 4238, 'perspective': 3245, 'sympathy': 4343, 'doctor': 1304, 'enemies': 1476, 'purpose': 3474, 'repetitive': 3633, 'bush': 632, 'misery': 2865, 'opportunity': 3121, 'troops': 4591, 'thus': 4486, 'interviews': 2330, 'corrupt': 1001, 'cia': 814, 'countries': 1013, 'indie': 2276, 'inspector': 2299, 'cinemas': 817, 'gross': 1978, 'hint': 2112, 'strongly': 4231, 'theyd': 4443, 'social': 4049, 'central': 735, 'uneven': 4649, 'downhill': 1336, 'aka': 168, 'painting': 3175, 'tragic': 4552, 'irritating': 2359, 'bound': 553, 'hearts': 2066, 'homeless': 2143, 'antics': 255, 'experiment': 1583, 'happiness': 2031, 'greater': 1965, 'moral': 2902, 'crash': 1033, 'videos': 4734, 'asked': 317, 'shark': 3921, 'hip': 2114, 'pulp': 3465, 'carrying': 701, 'intrigue': 2333, 'unpredictable': 4675, 'enthusiasm': 1501, 'dynamic': 1394, 'door': 1328, 'rooms': 3736, 'hotel': 2175, 'seven': 3903, 'wallace': 4782, 'accompanied': 86, 'built': 618, 'cheese': 780, 'wouldve': 4959, 'celluloid': 731, 'rubbish': 3748, 'merit': 2816, 'amateurish': 207, 'documentaries': 1306, 'military': 2844, 'actions': 101, 'perfection': 3225, 'torture': 4529, 'screens': 3832, 'drivel': 1364, 'holes': 2133, 'sport': 4129, 'hurts': 2203, 'redemption': 3578, 'hooked': 2153, 'ashamed': 312, 'shower': 3957, 'bbc': 417, 'britain': 588, 'website': 4834, 'author': 359, 'message': 2819, 'board': 522, 'bucks': 606, 'east': 1407, 'rare': 3523, 'legal': 2563, 'settings': 3901, 'chilling': 794, '1930s': 11, 'masters': 2761, 'solution': 4059, 'scientist': 3818, 'alan': 171, 'anne': 246, 'amy': 222, 'sam': 3777, 'visual': 4757, 'minute': 2858, 'wrap': 4963, 'flight': 1757, 'neck': 2985, 'plane': 3288, 'bible': 477, 'notion': 3050, 'instance': 2304, 'annoyed': 248, 'presumably': 3380, 'psycho': 3457, 'everyday': 1541, 'alien': 183, 'bottle': 550, 'bear': 420, 'mainstream': 2709, 'creating': 1039, 'mini': 2854, 'amazingly': 210, 'inept': 2281, 'jaw': 2384, 'consistently': 954, 'mainly': 2708, 'sean': 3840, 'bonus': 534, 'lawrence': 2539, 'seeking': 3859, 'racist': 3503, 'locked': 2637, 'mail': 2706, 'flawed': 1750, 'ages': 152, 'personalities': 3241, 'protagonists': 3442, 'portray': 3340, 'learned': 2551, 'accept': 80, 'prefer': 3368, 'balls': 390, 'mouth': 2920, 'eye': 1611, 'monkey': 2890, 'youd': 4987, 'large': 2517, 'peace': 3219, 'candy': 668, 'crude': 1069, 'laughs': 2534, 'controversial': 978, 'manner': 2729, 'spots': 4132, 'forth': 1804, 'pull': 3461, 'gun': 1996, 'bullet': 620, 'retarded': 3663, 'waitress': 4773, 'recorded': 3574, 'proof': 3434, 'suck': 4269, 'saved': 3795, 'mask': 2752, 'standard': 4144, 'blonde': 511, 'boyfriend': 558, 'captured': 677, 'reveals': 3673, 'damn': 1100, 'explain': 1586, 'threw': 4470, 'wow': 4962, 'carrey': 696, 'crying': 1074, 'studio': 4240, 'legend': 2564, 'cure': 1081, 'warriors': 4803, 'bold': 528, 'accepted': 82, 'priest': 3392, 'raised': 3508, 'catholic': 720, 'shocking': 3940, 'understandable': 4644, 'madness': 2698, 'duty': 1390, 'strikes': 4225, 'louis': 2665, 'sent': 3880, 'san': 3780, 'francisco': 1819, 'investigate': 2342, 'club': 863, 'boss': 546, 'wendy': 4846, 'jonathan': 2417, 'parody': 3192, 'westerns': 4854, 'unique': 4662, 'mexican': 2826, 'shoot': 3942, 'gonna': 1936, 'vengeance': 4719, 'gang': 1867, 'maria': 2736, 'headed': 2058, 'ignored': 2225, 'recognized': 3570, 'disappointment': 1275, 'dealing': 1136, 'relate': 3593, 'hamilton': 2012, 'cheating': 776, 'steve': 4181, 'cooper': 990, 'meanwhile': 2785, 'throws': 4482, 'catches': 715, 'fire': 1734, 'principal': 3398, 'craig': 1030, 'justin': 2440, 'carpenter': 694, 'planning': 3291, 'basement': 405, 'spare': 4093, 'kelly': 2452, 'fix': 1744, 'connection': 946, '1980': 20, 'bruce': 602, 'decision': 1151, 'expectations': 1576, 'picks': 3268, 'supposedly': 4307, 'graphic': 1958, 'drag': 1342, 'outstanding': 3147, 'liners': 2611, 'someones': 4065, 'reasonable': 3558, 'maintain': 2710, 'minimum': 2856, 'method': 2824, 'trademark': 4548, 'handsome': 2021, 'rings': 3699, 'confidence': 938, 'tied': 4489, 'tiny': 4500, 'rocky': 3723, 'lonely': 2643, 'poster': 3353, 'letters': 2582, 'concerns': 934, 'quiet': 3492, 'household': 2179, 'surrounding': 4319, 'mothers': 2912, 'fathers': 1667, 'obsession': 3070, 'led': 2558, 'clues': 865, 'appearing': 277, 'resembles': 3646, 'bell': 458, 'endearing': 1469, 'needs': 2990, 'root': 3737, 'buildings': 616, 'urban': 4688, 'common': 906, 'realizes': 3554, 'motivation': 2914, 'judging': 2425, 'directorial': 1265, 'welcome': 4842, 'meat': 2787, 'charming': 768, 'smaller': 4034, 'kept': 2456, 'moronic': 2907, 'roy': 3745, 'hank': 2024, 'williams': 4888, 'appearances': 275, 'falk': 1636, 'torn': 4528, 'vegas': 4717, 'neighbors': 2994, 'veteran': 4724, 'cars': 702, 'upper': 4685, 'mindless': 2851, 'recall': 3562, 'explosion': 1596, 'reference': 3582, 'executive': 1567, '18': 10, 'market': 2740, 'boat': 523, 'generic': 1885, 'range': 3516, 'chases': 771, 'explosions': 1597, 'dozens': 1339, 'ruin': 3750, 'artist': 307, 'web': 4833, 'sympathetic': 4342, 'physically': 3263, 'afterwards': 145, 'stooges': 4200, 'numbers': 3061, 'sleep': 4024, 'ruth': 3763, 'inspired': 2301, 'novels': 3053, 'reached': 3537, 'classics': 837, 'arguably': 289, 'passionate': 3206, 'manhattan': 2726, 'respected': 3653, 'incompetent': 2266, 'turner': 4607, 'nicholson': 3011, 'neo': 2998, 'lighting': 2596, 'introduced': 2337, 'prostitute': 3440, 'study': 4242, 'mine': 2853, 'players': 3299, 'hates': 2048, 'eg': 1434, 'serial': 3889, 'del': 1165, 'tarzan': 4367, 'sword': 4340, 'souls': 4080, 'conceived': 929, 'classes': 834, 'code': 869, 'bet': 470, 'bed': 436, 'ladies': 2506, 'loses': 2657, 'physical': 3262, 'beneath': 464, 'dracula': 1341, 'fooled': 1780, 'attraction': 350, 'choices': 798, 'strangers': 4214, 'fascinated': 1657, 'furthermore': 1854, 'stan': 4142, 'masses': 2755, 'gifted': 1907, 'stephen': 4176, 'spielberg': 4110, 'gain': 1863, 'contract': 973, 'elvis': 1451, 'fu': 1844, 'training': 4558, 'faster': 1662, 'witnesses': 4916, 'pretentious': 3383, 'ape': 266, 'purposes': 3475, 'practically': 3362, 'program': 3424, 'finale': 1723, 'primarily': 3393, 'asks': 319, 'explanation': 1590, 'hitchcock': 2123, 'homage': 2141, 'jake': 2377, 'witty': 4917, 'stone': 4197, 'romantic': 3733, 'paris': 3189, 'wayne': 4821, 'sid': 3964, 'london': 2641, 'heroic': 2090, 'battles': 415, 'pit': 3278, 'struggle': 4234, 'bland': 500, 'mixture': 2878, 'doc': 1303, 'savage': 3793, 'sixties': 4011, 'batman': 413, 'books': 536, 'succeeds': 4264, 'misses': 2868, 'served': 3894, 'curiosity': 1082, 'appeal': 271, 'genuinely': 1892, 'reynolds': 3684, 'voight': 4764, 'ned': 2986, 'unaware': 4632, 'wes': 4851, 'exist': 1569, 'folk': 1770, 'agreed': 156, 'incomprehensible': 2267, 'gory': 1943, 'nose': 3037, 'addition': 118, 'rich': 3685, 'post': 3352, 'ice': 2210, 'colorful': 878, 'lazy': 2543, 'glorious': 1921, 'created': 1037, 'seeks': 3860, 'breathtaking': 574, 'loving': 2675, 'fictional': 1703, 'damon': 1101, 'puts': 3481, 'extreme': 1609, 'passes': 3203, 'national': 2970, 'generated': 1882, 'advanced': 128, 'richards': 3687, 'stunt': 4245, 'event': 1535, 'regardless': 3590, 'safe': 3771, 'sounded': 4082, 'bought': 552, 'tedious': 4387, '14': 6, 'silence': 3974, 'broad': 590, 'broke': 593, 'devoted': 1231, 'wolf': 4920, 'pack': 3165, 'testament': 4417, 'criticism': 1063, 'narration': 2965, 'indian': 2274, 'chief': 788, 'foul': 1810, 'continues': 971, 'glory': 1922, 'endure': 1475, 'victor': 4731, 'nicely': 3009, 'mistress': 2874, 'willing': 4889, 'gothic': 1945, 'band': 391, 'clown': 862, 'horribly': 2164, 'satisfy': 3790, 'amanda': 205, 'unintentionally': 4659, 'includes': 2263, 'fare': 1655, 'enemy': 1477, 'depressed': 1187, 'sum': 4289, 'efforts': 1433, 'saving': 3797, 'menacing': 2807, 'devoid': 1230, 'scripts': 3836, 'closely': 855, 'mundane': 2938, 'desire': 1205, 'dozen': 1338, 'propaganda': 3435, 'attractive': 351, 'bringing': 586, 'racism': 3502, 'yellow': 4981, 'covers': 1024, 'inspiration': 2300, 'sea': 3838, 'cabin': 643, 'wild': 4885, 'dealt': 1138, 'rising': 3703, 'jobs': 2406, 'conflict': 939, 'usa': 4691, 'relations': 3596, 'generations': 1884, 'independent': 2272, 'cagney': 646, 'tracy': 4546, 'leonard': 2572, 'tradition': 4549, 'susan': 4326, 'wed': 4835, 'survived': 4322, 'dying': 1393, 'worry': 4950, 'poignant': 3315, 'robinson': 3716, 'stereotype': 4178, 'mall': 2720, 'court': 1020, 'talked': 4359, 'faced': 1617, 'beating': 425, 'chasing': 772, 'virtually': 4751, 'suggested': 4281, 'carl': 692, 'throw': 4479, 'pick': 3265, 'riveting': 3708, 'unforgettable': 4652, 'performing': 3233, 'pacing': 3163, 'stays': 4169, 'bat': 410, 'transformation': 4560, 'lengthy': 2570, 'threatening': 4468, 'estate': 1525, 'visuals': 4759, 'individual': 2277, 'fourth': 1813, '1984': 23, 'dutch': 1389, 'instinct': 2308, 'fatal': 1664, 'husbands': 2205, 'influenced': 2287, 'alfred': 181, 'orson': 3132, 'wells': 4845, 'doors': 1329, 'international': 2326, 'occasion': 3073, 'strip': 4228, 'suggests': 4282, 'engaged': 1480, 'willis': 4890, 'information': 2288, 'psychiatrist': 3455, 'ocean': 3079, 'persons': 3244, 'therefore': 4439, 'described': 1195, 'adding': 117, 'pitt': 3280, 'jeffrey': 2391, 'oscar': 3133, 'nominated': 3025, 'incident': 2260, 'barbara': 397, 'hill': 2108, 'convey': 982, 'journalist': 2420, 'edgar': 1417, 'allen': 188, 'send': 3875, 'capital': 673, 'streets': 4217, 'clothing': 861, 'wearing': 4831, 'anywhere': 263, 'careful': 688, 'disagree': 1269, 'user': 4696, 'location': 2635, 'matthew': 2772, 'flies': 1756, 'arrive': 300, 'airport': 167, 'dear': 1140, 'tragedy': 4551, 'kingdom': 2480, 'disneys': 1290, 'cusack': 1088, 'nation': 2969, 'businessman': 634, 'oil': 3097, 'determined': 1221, 'mission': 2870, 'host': 2173, 'center': 732, 'wedding': 4836, 'carry': 700, 'vice': 4727, 'zone': 4999, 'oz': 3160, 'neighborhood': 2993, 'elsewhere': 1449, 'joan': 2404, 'open': 3112, 'imagery': 2234, 'unusual': 4681, 'structure': 4233, 'climactic': 848, 'frank': 1821, 'hints': 2113, 'blair': 497, 'witch': 4909, 'ring': 3698, 'influence': 2286, 'sits': 4006, 'handle': 2018, 'polished': 3323, 'tomatoes': 4515, 'brutally': 604, 'dated': 1119, 'disaster': 1276, 'illegal': 2229, 'cup': 1080, 'tea': 4373, 'stuck': 4237, 'grown': 1984, 'oddly': 3081, 'tricks': 4583, 'gag': 1861, 'splendid': 4119, 'buried': 624, 'concept': 930, 'thoroughly': 4459, 'experienced': 1581, 'ruined': 3751, 'darker': 1116, 'creates': 1038, 'gentle': 1890, 'adequate': 120, '1980s': 21, 'st': 4137, 'timothy': 4499, 'dalton': 1098, 'rochester': 3719, 'jane': 2380, 'scope': 3821, 'ultra': 4629, 'nervous': 2999, 'wondering': 4930, 'gags': 1862, 'routine': 3743, 'roman': 3731, 'polanski': 3321, 'capable': 672, 'masterpieces': 2760, 'fond': 1776, 'le': 2544, 'apartment': 265, 'france': 1816, 'attempted': 341, 'focuses': 1768, 'conspiracy': 956, 'meant': 2784, 'cage': 645, 'images': 2235, 'enters': 1496, 'provoking': 3452, 'surreal': 4317, 'jackie': 2374, 'doll': 1313, 'rank': 3518, 'campy': 664, 'sleazy': 4023, 'thankfully': 4422, 'trailers': 4555, 'speaks': 4096, 'rubber': 3747, 'identify': 2216, 'kim': 2475, 'guts': 1999, 'attracted': 349, 'quote': 3496, 'card': 681, 'exceptional': 1558, 'guilt': 1994, 'evidence': 1546, 'suspicious': 4332, 'jail': 2376, 'innovative': 2295, 'cinematic': 818, 'spooky': 4128, 'references': 3583, 'larger': 2519, 'critical': 1062, 'frequently': 1832, 'distinct': 1296, 'altogether': 202, 'faults': 1669, 'listed': 2618, 'convinced': 984, 'charisma': 762, 'england': 1482, 'golden': 1934, 'biggest': 480, 'sin': 3988, 'necessarily': 2983, 'hollywoods': 2138, 'ticket': 4487, 'simon': 3982, 'blank': 501, 'failing': 1627, 'brutal': 603, 'christians': 809, 'davis': 1126, 'heres': 2087, 'hatred': 2049, 'argue': 290, 'kung': 2498, 'riding': 3695, 'plastic': 3294, 'dinosaurs': 1256, 'rangers': 3517, 'taught': 4370, 'toys': 4543, 'embarrassment': 1455, 'related': 3594, 'wannabe': 4787, 'smile': 4036, 'hoped': 2156, 'garden': 1872, 'overrated': 3156, 'china': 795, 'cell': 730, 'credible': 1048, 'myers': 2952, 'official': 3094, 'reflection': 3585, 'emotion': 1458, 'superior': 4300, 'elaborate': 1439, 'nightmare': 3014, 'elm': 1447, 'pleasantly': 3303, 'sole': 4055, 'flesh': 1753, 'humans': 2190, 'cake': 648, 'faces': 1618, 'junk': 2436, 'splatter': 4118, 'da': 1094, 'patrick': 3213, 'photographer': 3259, 'naturally': 2974, 'unfortunate': 4653, 'stops': 4203, 'titanic': 4503, 'ship': 3934, 'pool': 3327, 'unbelievable': 4634, 'pearl': 3220, 'department': 1182, 'snl': 4044, 'funnier': 1850, 'beats': 426, 'lucky': 2683, 'martial': 2747, 'flawless': 1751, 'bollywood': 530, 'proved': 3446, 'raped': 3522, 'thoughtful': 4463, 'searching': 3842, 'daily': 1097, 'flow': 1762, 'gangster': 1868, 'martin': 2748, 'freeman': 1829, 'comedies': 889, 'approach': 282, 'blend': 504, 'ironic': 2355, 'maker': 2714, 'global': 1920, 'revolution': 3680, 'disappear': 1270, 'iran': 2350, 'feminist': 1695, 'fights': 1710, 'blown': 516, 'forgot': 1796, 'chaplin': 756, 'staying': 4168, 'corpse': 999, 'nonsensical': 3031, 'factory': 1623, 'grace': 1950, 'metal': 2823, 'consistent': 953, 'dawn': 1127, 'device': 1227, 'johnson': 2411, 'donna': 1323, 'highlight': 2103, 'listening': 2620, 'finest': 1730, 'access': 83, 'generous': 1886, 'gas': 1874, 'clumsy': 866, 'exposed': 1598, 'arrival': 299, 'provides': 3450, 'encounter': 1466, 'pushed': 3478, 'goal': 1925, 'committed': 905, 'carefully': 689, 'revelation': 3674, 'whatsoever': 4861, 'dinosaur': 1255, 'stretched': 4222, 'nostalgic': 3039, 'performer': 3231, 'treated': 4573, 'remind': 3618, 'sophisticated': 4075, 'sentimental': 3882, 'dollar': 1314, 'unhappy': 4656, 'changed': 750, 'couples': 1017, 'writes': 4970, 'amazed': 208, 'wood': 4933, 'definition': 1163, 'blockbuster': 509, 'downright': 1337, 'cg': 739, 'noticed': 3049, 'crack': 1027, 'bin': 483, 'crocodile': 1065, 'kidding': 2465, 'iii': 2227, 'universal': 4665, 'handful': 2017, 'arnold': 296, 'doctors': 1305, 'revealing': 3672, 'thugs': 4484, 'sloppy': 4030, 'rocket': 3721, 'bag': 384, 'repeat': 3630, 'montage': 2894, 'freak': 1824, 'miller': 2846, 'builds': 617, 'remarks': 3615, 'rap': 3520, 'cube': 1076, 'solo': 4058, 'explained': 1587, 'ass': 323, 'thumbs': 4485, 'julia': 2427, 'elvira': 1450, 'deceased': 1146, 'aunt': 355, 'encounters': 1467, 'burning': 627, 'itll': 2369, 'scream': 3826, 'alex': 179, 'neighbor': 2992, 'trap': 4563, 'daniel': 1111, 'risk': 3704, 'citizen': 824, 'search': 3841, 'dubbed': 1379, 'continue': 969, 'theatrical': 4430, 'germans': 1897, 'translation': 4562, 'plans': 3292, 'silent': 3975, 'poetry': 3314, 'flashback': 1746, 'wwii': 4975, 'stanley': 4148, 'returning': 3667, 'equal': 1509, 'preview': 3386, 'stress': 4220, 'suspect': 4327, 'suspend': 4329, 'elderly': 1440, 'corporate': 998, 'slightest': 4028, 'possibility': 3349, 'artificial': 306, 'attack': 337, 'mentions': 2813, 'pet': 3246, 'lately': 2524, 'ironically': 2356, 'painful': 3171, 'theory': 4437, 'handed': 2016, 'profound': 3423, 'scientific': 3817, 'ridden': 3691, 'universe': 4666, 'instant': 2305, 'chorus': 803, 'wealth': 4826, 'realise': 3548, 'warren': 4801, 'funniest': 1851, 'strength': 4219, 'merits': 2817, 'caring': 691, 'remain': 3609, 'holiday': 2134, 'max': 2774, 'brooks': 596, 'zombies': 4998, 'busy': 635, 'dimensional': 1253, 'picking': 3267, '2004': 34, '2005': 35, 'catherine': 719, 'thrilling': 4474, 'caliber': 649, 'presentation': 3375, 'greek': 1970, 'secrets': 3852, 'teaching': 4377, 'honor': 2150, 'soccer': 4048, 'reach': 3536, 'todays': 4509, 'inferior': 2285, 'environment': 1505, 'explicit': 1591, 'regard': 3588, 'brazil': 568, 'mexico': 2827, '1990': 24, 'whereas': 4865, 'distant': 1295, 'discuss': 1283, 'chased': 770, 'consequences': 947, 'player': 3298, 'trapped': 4564, 'latest': 2526, 'dave': 1123, 'selfish': 3870, 'constructed': 959, 'andrews': 229, 'trouble': 4592, 'synopsis': 4344, 'comfortable': 892, 'sunshine': 4294, 'intentions': 2321, 'entertain': 1497, 'featured': 1679, 'nonetheless': 3029, 'random': 3514, 'nobody': 3022, 'chess': 783, 'afternoon': 144, 'knock': 2488, 'figures': 1713, 'passing': 3204, 'forbidden': 1785, 'hilariously': 2107, 'porno': 3337, 'believes': 456, 'poetic': 3313, 'provide': 3448, 'offered': 3088, 'hyde': 2206, 'dropping': 1371, 'racial': 3501, 'partner': 3198, 'twin': 4615, 'unlikely': 4671, 'bus': 631, 'holy': 2140, 'corner': 996, 'gratuitous': 1961, 'increasingly': 2268, '30s': 44, 'pamela': 3179, 'holding': 2130, 'tender': 4401, 'philip': 3252, 'prime': 3395, 'louise': 2666, 'melodrama': 2797, 'position': 3345, 'contest': 967, 'demands': 1175, 'loss': 2659, 'mate': 2765, 'understated': 4646, 'easier': 1405, 'lab': 2501, 'experiments': 1584, 'giant': 1905, 'patients': 3212, 'thousand': 4465, 'unable': 4631, 'staring': 4152, 'danger': 1109, 'honesty': 2148, 'utter': 4701, 'jewish': 2401, 'warner': 4799, 'powell': 3358, 'acceptable': 81, 'price': 3389, 'string': 4227, 'gene': 1879, 'killings': 2473, 'accomplished': 87, 'pig': 3274, 'acid': 95, 'directly': 1263, 'burned': 626, 'neil': 2995, 'chapter': 757, 'miscast': 2862, 'overly': 3155, 'nyc': 3065, 'memories': 2803, 'heat': 2067, 'frustrated': 1842, 'serving': 3897, 'priceless': 3390, 'interaction': 2322, 'cried': 1054, 'humble': 2191, 'pie': 3271, 'ps': 3453, 'represent': 3637, 'blatant': 502, 'cheesy': 781, 'bigger': 479, 'korean': 2495, 'succeeded': 4263, 'slave': 4022, 'pacino': 3164, 'seasons': 3844, 'bone': 533, 'loyal': 2679, 'abc': 63, 'greedy': 1969, 'continued': 970, 'eric': 1514, 'treats': 4575, 'fitting': 1742, 'welles': 4844, 'harry': 2039, 'irish': 2353, 'kane': 2442, 'glenn': 1918, 'unfolds': 4651, 'striking': 4226, 'elegant': 1441, 'shadows': 3913, 'mirror': 2861, 'path': 3209, 'buffs': 612, 'viewings': 4741, 'sink': 3999, 'relies': 3606, 'shining': 3933, 'purchase': 3469, 'reminiscent': 3621, 'blake': 498, 'obnoxious': 3067, 'walks': 4780, 'reaching': 3539, 'fbi': 1675, 'promises': 3432, 'butt': 638, 'intriguing': 2335, '3rd': 47, 'regret': 3591, 'unwatchable': 4682, 'lemmon': 2567, 'forms': 1801, 'fury': 1855, 'stevens': 4183, 'tunes': 4603, 'thrills': 4475, 'winner': 4897, 'werewolf': 4850, 'frankenstein': 1822, '1996': 26, 'letter': 2581, 'wanna': 4786, 'virgin': 4749, 'dreadful': 1353, 'nowadays': 3055, 'chicago': 785, 'attached': 336, 'brando': 566, 'khan': 2459, 'cases': 708, 'pays': 3218, 'bargain': 400, 'everyones': 1543, 'robin': 3715, 'barry': 401, 'raymond': 3534, 'walking': 4779, 'composed': 926, 'fifteen': 1706, 'scores': 3823, 'georges': 1894, 'piano': 3264, 'intimate': 2331, 'academy': 77, 'sensitive': 3879, 'unsettling': 4679, 'conflicts': 940, 'italy': 2368, 'foot': 1781, 'pretending': 3382, 'butler': 637, 'childish': 791, 'marry': 2745, 'satire': 3788, 'winds': 4895, 'letting': 2583, 'possibilities': 3348, 'fish': 1738, 'cameos': 658, 'restaurant': 3658, 'rob': 3710, 'screening': 3830, 'changing': 752, 'grandmother': 1955, 'plight': 3308, 'raising': 3509, 'depression': 1189, 'library': 2589, 'complain': 919, 'primary': 3394, 'education': 1424, 'lively': 2627, 'errors': 1516, 'tiresome': 4502, 'shall': 3916, 'landing': 2512, 'troubled': 4593, 'attorney': 348, 'warmth': 4796, 'swim': 4337, 'reputation': 3640, 'understood': 4647, 'paltrow': 3178, 'appeared': 276, 'shock': 3938, 'heston': 2094, 'aired': 165, 'implausible': 2245, 'throwing': 4480, 'isolated': 2363, 'safety': 3772, 'personality': 3242, 'nuclear': 3057, 'unintentional': 4658, 'beer': 439, 'harsh': 2040, 'winters': 4901, 'friendship': 1838, 'animals': 240, 'hanging': 2023, 'mountains': 2918, 'cinematographer': 819, 'creature': 1045, 'interpretation': 2328, 'bore': 540, 'hall': 2009, 'leslie': 2574, 'win': 4892, 'juvenile': 2441, 'catching': 716, 'drop': 1369, 'smooth': 4041, 'atrocious': 335, 'daughters': 1122, 'available': 361, 'secretary': 3850, 'howard': 2182, 'bacall': 377, 'depicts': 1186, 'movement': 2923, 'abandoned': 62, 'segment': 3867, 'mickey': 2831, 'eager': 1396, 'laura': 2536, 'lovers': 2673, 'semi': 3874, 'pointed': 3317, 'producing': 3417, 'represents': 3639, 'morris': 2908, 'morgan': 2905, 'gary': 1873, 'sticks': 4186, 'medical': 2790, 'contrived': 976, 'struck': 4232, 'admittedly': 123, 'swear': 4334, 'frequent': 1831, 'wishing': 4907, 'yelling': 4980, 'snow': 4045, 'randomly': 3515, 'pops': 3332, 'chest': 784, 'invisible': 2344, 'sneak': 4043, 'sell': 3871, 'sons': 4073, 'duke': 1383, 'spite': 4117, 'rolling': 3730, 'floor': 1759, 'childrens': 793, 'enjoyment': 1488, 'junior': 2435, 'hence': 2083, 'jason': 2383, 'disc': 1278, 'crush': 1072, 'health': 2060, 'cops': 993, 'worried': 4949, 'escapes': 1519, 'saves': 3796, 'steals': 4172, 'showdown': 3955, 'fired': 1735, 'jerry': 2396, 'muslim': 2949, 'devils': 1229, 'sappy': 3784, 'ginger': 1908, 'berlin': 467, 'evening': 1534, 'fred': 1825, 'astaire': 330, 'rogers': 3725, 'hollow': 2135, '1933': 12, 'joey': 2408, 'streisand': 4218, 'signed': 3971, 'ears': 1402, 'lily': 2605, 'tap': 4364, 'tape': 4365, 'swedish': 4335, 'descent': 1193, 'helen': 2075, 'ratings': 3530, 'minded': 2850, 'resemblance': 3645, 'base': 402, 'lucas': 2680, 'hideous': 2098, 'demented': 1176, 'eight': 1436, 'tear': 4379, 'inducing': 2279, 'imagined': 2239, 'irony': 2357, 'medium': 2792, 'gender': 1878, 'dude': 1381, 'prisoner': 3402, 'beast': 422, 'terror': 4412, 'ruins': 3752, 'alexander': 180, 'saga': 3773, 'luke': 2687, 'overlook': 3153, 'ian': 2209, 'generation': 1883, 'innocence': 2293, 'creation': 1040, 'stilted': 4190, 'godzilla': 1929, 'chain': 741, 'grey': 1973, 'lynch': 2691, 'alike': 185, 'jaws': 2385, 'surfing': 4311, 'waters': 4817, 'betty': 474, 'tune': 4602, 'creativity': 1042, 'artistic': 308, 'affect': 136, 'dancers': 1105, 'petty': 3249, 'gadget': 1860, 'wished': 4905, 'dignity': 1252, 'private': 3404, 'outcome': 3142, 'phantom': 3251, 'incoherent': 2265, 'belong': 459, 'quotes': 3497, 'section': 3853, 'delivery': 1173, 'pretend': 3381, 'cd': 728, 'clips': 852, 'concert': 935, 'rambo': 3511, 'rain': 3506, 'cave': 727, 'spider': 4109, 'expressed': 1601, 'concerning': 933, 'nicholas': 3010, 'tall': 4362, 'rex': 3683, 'satan': 3787, 'nostalgia': 3038, 'tense': 4403, 'motivations': 2915, 'alas': 172, 'meaningless': 2782, 'commented': 900, 'sports': 4130, 'competent': 917, 'wishes': 4906, 'defeat': 1157, 'praise': 3364, 'hardcore': 2034, 'secretly': 3851, 'learns': 2553, 'overcome': 3151, 'paulie': 3215, 'bird': 484, 'los': 2653, 'angeles': 233, 'loser': 2655, 'nearby': 2980, 'teachers': 4376, 'sequels': 3886, 'mentioning': 2812, 'wilson': 4891, 'wreck': 4965, 'ahead': 159, 'widely': 4881, 'scottish': 3825, 'exercise': 1568, 'sellers': 3872, 'terrifying': 4410, 'rick': 3689, 'mars': 2746, 'attacks': 339, 'texas': 4418, 'superficial': 4298, 'survivor': 4324, 'similarities': 3979, 'fest': 1696, 'arts': 310, 'hiding': 2099, 'pseudo': 3454, 'comical': 894, 'dubbing': 1380, 'sounding': 4083, 'thick': 4447, 'royal': 3746, 'pan': 3180, 'godfather': 1927, 'edward': 1426, 'miles': 2843, 'nightmares': 3015, 'aging': 153, 'freddy': 1826, 'sinatra': 3989, 'nomination': 3026, 'pal': 3177, 'shop': 3945, 'genres': 1889, 'ho': 2127, 'quest': 3486, 'faith': 1633, 'soft': 4051, 'sidney': 3968, 'celebrity': 729, 'tie': 4488, 'develops': 1226, 'blows': 517, 'companion': 909, 'load': 2631, 'briefly': 580, 'jeremy': 2394, 'importantly': 2248, 'successfully': 4267, 'cardboard': 682, 'shelley': 3928, 'leg': 2562, 'knife': 2487, 'blow': 514, 'backdrop': 379, 'hippie': 2115, 'intentionally': 2320, 'tree': 4576, 'walls': 4783, 'tame': 4363, 'network': 3000, 'orange': 3125, 'status': 4165, 'kubrick': 2496, 'sitcom': 4004, 'opportunities': 3120, 'jerk': 2395, 'quirky': 3493, 'friday': 1834, 'plague': 3285, 'titled': 4505, 'april': 284, 'response': 3654, 'doomed': 1327, 'cares': 690, 'initially': 2291, 'horrors': 2169, 'manipulative': 2727, 'stated': 4161, 'wacky': 4769, 'cousin': 1021, 'stinks': 4192, 'opposed': 3122, 'travesty': 4570, 'ideal': 2214, 'karloff': 2445, 'lugosi': 2686, 'designed': 1203, 'felix': 1689, 'bela': 450, 'discovery': 1282, 'happily': 2030, 'cannibal': 669, 'mom': 2885, 'farm': 1656, 'button': 639, 'distribution': 1298, 'roots': 3738, 'nelson': 2997, 'loads': 2633, 'terrorists': 4414, 'workers': 4943, 'wives': 4918, 'recognize': 3569, 'mill': 2845, 'originality': 3130, 'fallen': 1638, 'rival': 3706, 'lifetime': 2594, 'achievement': 94, 'receives': 3565, 'fx': 1858, 'audio': 354, 'inevitably': 2283, 'scrooge': 3837, 'despair': 1207, 'worthless': 4954, 'derek': 1192, 'beach': 419, 'bo': 521, 'daddy': 1096, 'conventional': 979, 'elephant': 1444, 'jungle': 2434, 'lion': 2614, 'sacrifice': 3766, 'domestic': 1318, 'site': 4005, 'marketing': 2741, 'troubles': 4594, 'charge': 761, 'stanwyck': 4149, 'wound': 4960, 'bride': 577, 'ought': 3138, 'insulting': 2310, 'process': 3412, 'mysteries': 2954, 'mighty': 2836, 'drawing': 1350, 'tiger': 4491, 'alert': 178, 'rough': 3741, 'hang': 2022, 'harvey': 2042, 'forgive': 1795, 'aid': 160, 'retired': 3664, 'buff': 611, 'jesse': 2397, 'coffee': 870, 'sadness': 3770, 'brenda': 575, 'annie': 247, 'spirited': 4114, 'namely': 2962, 'feed': 1683, 'prequel': 3372, 'plant': 3293, 'nuts': 3064, 'overacting': 3149, 'smiling': 4037, 'trail': 4553, 'backgrounds': 381, 'rabbit': 3498, 'displays': 1293, 'property': 3438, 'hook': 2152, 'ruthless': 3764, 'stunts': 4246, '13th': 5, 'september': 3884, 'text': 4419, 'sandler': 3781, 'painted': 3174, 'prize': 3405, 'exposure': 1599, 'spoken': 4126, 'voices': 4763, 'rushed': 3760, 'shakespeare': 3915, 'undoubtedly': 4648, 'highlights': 2104, 'niro': 3019, 'ensues': 1493, 'widmark': 4882, 'closest': 857, 'block': 508, 'catchy': 717, 'russell': 3761, 'resident': 3647, 'kicks': 2463, 'grinch': 1975, 'childhood': 790, 'taylor': 4372, 'bugs': 613, 'dire': 1257, 'warrior': 4802, 'defend': 1158, 'performers': 3232, 'inevitable': 2282, 'woody': 4936, 'hood': 2151, 'challenging': 744, 'argument': 291, 'massacre': 2754, 'blob': 507, 'outer': 3143, 'thief': 4448, 'immensely': 2243, 'serve': 3893, 'passion': 3205, 'buddy': 609, 'ball': 388, 'valuable': 4708, 'shirley': 3936, 'highest': 2102, 'river': 3707, 'wrapped': 4964, 'mountain': 2917, 'costume': 1005, 'blacks': 494, '70': 55, 'endings': 1472, 'opinions': 3119, 'simplicity': 3984, 'thru': 4483, 'cheated': 775, 'cliff': 847, 'fay': 1674, 'intention': 2319, 'definite': 1161, 'bobby': 525, 'hop': 2154, 'burn': 625, 'pushing': 3479, 'alternate': 200, 'jet': 2400, 'whale': 4857, 'obscure': 3068, 'psychotic': 3459, 'colour': 880, 'spring': 4134, 'lane': 2515, 'stole': 4194, 'severe': 3906, 'lol': 2640, 'link': 2613, 'vaguely': 4706, 'hart': 2041, 'ludicrous': 2685, 'molly': 2884, 'thoughts': 4464, 'resources': 3651, 'directs': 1267, 'abysmal': 76, 'robot': 3717, 'wicked': 4879, 'subtlety': 4261, 'limits': 2607, 'suffered': 4276, 'airplane': 166, 'chaos': 755, 'blond': 510, 'shoes': 3941, 'guessed': 1990, 'robbery': 3711, 'messages': 2820, 'worn': 4948, 'horrid': 2165, 'scares': 3806, 'depicting': 1184, 'represented': 3638, 'contained': 963, 'jean': 2389, 'nine': 3017, 'describes': 1196, 'comics': 895, 'ellen': 1446, 'rendition': 3625, 'horrific': 2166, 'blues': 519, 'hammer': 2014, 'dean': 1139, 'recognition': 3568, 'expert': 1585, 'progresses': 3426, 'nancy': 2964, 'divorce': 1301, 'waited': 4771, 'carter': 703, 'diamond': 1236, 'drew': 1360, 'arthur': 305, 'grandfather': 1954, 'shed': 3924, '2nd': 41, 'punk': 3468, 'popularity': 3334, 'enjoying': 1487, 'unit': 4663, 'inappropriate': 2259, 'india': 2273, 'staged': 4140, 'slaughter': 4021, 'cary': 706, 'temple': 4398, 'poem': 3312, 'gotta': 1946, 'reactions': 3542, 'guessing': 1991, 'curtis': 1087, 'twins': 4616, 'matt': 2768, 'norman': 3035, 'size': 4012, 'alcohol': 176, 'recording': 3575, 'brady': 561, 'enjoys': 1489, 'destiny': 1212, 'distance': 1294, 'gerard': 1895, 'activities': 102, 'breasts': 572, 'marty': 2749, 'holmes': 2139, 'ghosts': 1903, 'attend': 344, 'madonna': 2699, 'buck': 605, 'earned': 1401, 'trashy': 4566, 'davies': 1125, 'kennedy': 2454, 'symbolism': 4341, 'dragged': 1343, 'witness': 4914, 'plausible': 3295, 'rachel': 3500, 'disappeared': 1271, 'cox': 1026, 'imaginative': 2237, 'greed': 1968, 'fonda': 1777, 'hong': 2149, 'kong': 2494, 'legendary': 2565, 'persona': 3239, 'productions': 3420, 'mtv': 2933, 'repeatedly': 3632, 'machines': 2694, 'sexuality': 3909, 'bergman': 466, 'relation': 3595, 'franco': 1820, 'newly': 3004, 'dub': 1378, 'notably': 3042, 'comparing': 913, 'jenny': 2393, 'ireland': 2352, 'occurred': 3077, 'occur': 3076, 'june': 2433, 'oscars': 3134, 'seagal': 3839, 'giallo': 1904, 'floating': 1758, '1983': 22, 'hopper': 2161, 'analysis': 224, 'trees': 4577, 'homer': 2144, 'craft': 1028, 'overwhelming': 3157, 'abraham': 69, 'ego': 1435, 'destruction': 1216, 'superhero': 4299, 'monk': 2889, 'tonight': 4519, 'nazis': 2978, 'currently': 1085, 'credibility': 1047, 'cruise': 1071, 'akshay': 169, 'proceedings': 3410, 'cartoons': 705, 'columbo': 881, 'precious': 3366, 'trite': 4589, 'directions': 1262, 'hearted': 2065, 'stiller': 4189, 'walken': 4777, 'literature': 2623, 'buddies': 608, 'requires': 3642, 'comedian': 887, 'witches': 4910, 'financial': 1725, 'illogical': 2231, 'scooby': 3820, 'doo': 1325, 'dorothy': 1330, 'ballet': 389, 'wizard': 4919, 'online': 3109, 'claire': 831, 'danes': 1108, 'omen': 3104, 'reflect': 3584, 'li': 2587, 'channels': 754, 'reel': 3581, 'detailed': 1218, 'hoffman': 2128, 'bay': 416, 'realizing': 3555, 'uwe': 4703, 'boll': 529, 'blew': 505, 'stale': 4141, 'admire': 121, 'stones': 4198, 'mitchell': 2875, 'subplots': 4256, 'pink': 3277, 'visible': 4753, 'jealous': 2388, 'hal': 2006, 'closing': 859, 'julie': 2428, 'ashley': 313, 'considerable': 950, 'involvement': 2347, 'linda': 2609, 'fighter': 1708, 'occurs': 3078, 'eyre': 1614, 'denzel': 1181, 'dust': 1388, 'gangsters': 1869, 'luckily': 2682, 'refuses': 3587, 'unoriginal': 4673, 'swimming': 4338, 'imitation': 2241, 'mechanical': 2788, 'unreal': 4676, 'clip': 851, 'topic': 4526, 'snake': 4042, 'dressing': 1359, 'hunters': 2200, 'combat': 882, 'capturing': 679, 'authority': 360, 'exaggerated': 1552, 'flynn': 1765, 'atlantis': 332, 'formulaic': 1803, 'mafia': 2700, 'combine': 884, 'matthau': 2771, 'bite': 489, 'excessive': 1560, 'report': 3635, '1970s': 17, 'angela': 232, 'cultural': 1078, 'alcoholic': 177, 'cole': 873, 'lights': 2597, 'assistant': 326, 'terrorist': 4413, 'restored': 3659, 'causing': 726, 'garbo': 1871, 'horrifying': 2167, 'crucial': 1068, 'philosophy': 3254, 'behave': 445, 'useful': 4694, 'album': 175, 'todd': 4510, 'assigned': 325, '16': 8, 'assault': 324, 'suited': 4286, 'spoiled': 4122, 'hopeless': 2158, 'robbins': 3712, 'streep': 4215, 'stronger': 4230, 'miike': 2837, 'ourselves': 3140, 'communist': 907, 'existed': 1570, 'melting': 2799, 'calling': 653, 'armed': 293, 'senseless': 3878, 'shorts': 3948, 'bullets': 621, 'monkeys': 2891, 'holly': 2136, 'leo': 2571, 'doom': 1326, 'bakshi': 386, 'shy': 3962, 'creep': 1051, 'bands': 392, 'classical': 836, 'rotten': 3740, 'kicking': 2462, 'likewise': 2603, 'sandra': 3782, 'models': 2881, 'lees': 2560, 'apes': 267, 'destroying': 1215, 'aids': 161, 'mildred': 2841, 'edie': 1419, 'philosophical': 3253, 'alongside': 196, 'sadistic': 3768, 'laid': 2508, 'sullivan': 4288, 'kissing': 2484, 'kinds': 2478, 'switch': 4339, 'basketball': 409, 'rolled': 3729, 'methods': 2825, 'carradine': 695, 'simmons': 3981, 'trained': 4557, '1968': 16, 'ruby': 3749, 'rats': 3531, 'domino': 1319, 'earl': 1398, 'seventies': 3904, 'gundam': 1997, 'simpson': 3987, 'fever': 1699, 'purchased': 3470, 'gabriel': 1859, 'versus': 4722, 'judy': 2426, 'lincoln': 2608, 'lumet': 2688, 'ethan': 1528, 'lena': 2568, 'prisoners': 3403, 'seed': 3856, 'ramones': 3512, 'stargate': 4151, 'modesty': 2883, 'gandhi': 1866}\n"
     ]
    }
   ],
   "source": [
    "print(str(vocabulary))"
   ]
  },
  {
   "cell_type": "markdown",
   "metadata": {},
   "source": [
    "Once you have added the endpoint name to the Lambda function, click on **Save**. Your Lambda function is now up and running. Next we need to create a way for our web app to execute the Lambda function."
   ]
  },
  {
   "cell_type": "markdown",
   "metadata": {},
   "source": [
    "### Setting up API Gateway\n",
    "\n",
    "Now that our Lambda function is set up, it is time to create a new API using API Gateway that will trigger the Lambda function we have just created.\n",
    "\n",
    "Using AWS Console, navigate to **Amazon API Gateway** and then click on **Get started**.\n",
    "\n",
    "On the next page, make sure that **New API** is selected and give the new api a name, for example, `sentiment_analysis_web_app`. Then, click on **Create API**.\n",
    "\n",
    "Now we have created an API, however it doesn't currently do anything. What we want it to do is to trigger the Lambda function that we created earlier.\n",
    "\n",
    "Select the **Actions** dropdown menu and click **Create Method**. A new blank method will be created, select its dropdown menu and select **POST**, then click on the check mark beside it.\n",
    "\n",
    "For the integration point, make sure that **Lambda Function** is selected and click on the **Use Lambda Proxy integration**. This option makes sure that the data that is sent to the API is then sent directly to the Lambda function with no processing. It also means that the return value must be a proper response object as it will also not be processed by API Gateway.\n",
    "\n",
    "Type the name of the Lambda function you created earlier into the **Lambda Function** text entry box and then click on **Save**. Click on **OK** in the pop-up box that then appears, giving permission to API Gateway to invoke the Lambda function you created.\n",
    "\n",
    "The last step in creating the API Gateway is to select the **Actions** dropdown and click on **Deploy API**. You will need to create a new Deployment stage and name it anything you like, for example `prod`.\n",
    "\n",
    "You have now successfully set up a public API to access your SageMaker model. Make sure to copy or write down the URL provided to invoke your newly created public API as this will be needed in the next step. This URL can be found at the top of the page, highlighted in blue next to the text **Invoke URL**."
   ]
  },
  {
   "cell_type": "markdown",
   "metadata": {},
   "source": [
    "## Step 7: Deploying our web app\n",
    "\n",
    "Now that we have a publicly available API, we can start using it in a web app. For our purposes, we have provided a simple static html file which can make use of the public api you created earlier.\n",
    "\n",
    "In the `website` folder there should be a file called `index.html`. Download the file to your computer and open that file up in a text editor of your choice. There should be a line which contains **\\*\\*REPLACE WITH PUBLIC API URL\\*\\***. Replace this string with the url that you wrote down in the last step and then save the file.\n",
    "\n",
    "Now, if you open `index.html` on your local computer, your browser will behave as a local web server and you can use the provided site to interact with your SageMaker model.\n",
    "\n",
    "If you'd like to go further, you can host this html file anywhere you'd like, for example using github or hosting a static site on Amazon's S3. Once you have done this you can share the link with anyone you'd like and have them play with it too!\n",
    "\n",
    "> **Important Note** In order for the web app to communicate with the SageMaker endpoint, the endpoint has to actually be deployed and running. This means that you are paying for it. Make sure that the endpoint is running when you want to use the web app but that you shut it down when you don't need it, otherwise you will end up with a surprisingly large AWS bill."
   ]
  },
  {
   "cell_type": "markdown",
   "metadata": {},
   "source": [
    "### Delete the endpoint\n",
    "\n",
    "Remember to always shut down your endpoint if you are no longer using it. You are charged for the length of time that the endpoint is running so if you forget and leave it on you could end up with an unexpectedly large bill."
   ]
  },
  {
   "cell_type": "code",
   "execution_count": 66,
   "metadata": {},
   "outputs": [],
   "source": [
    "xgb_predictor.delete_endpoint()"
   ]
  },
  {
   "cell_type": "markdown",
   "metadata": {},
   "source": [
    "## Optional: Clean up\n",
    "\n",
    "The default notebook instance on SageMaker doesn't have a lot of excess disk space available. As you continue to complete and execute notebooks you will eventually fill up this disk space, leading to errors which can be difficult to diagnose. Once you are completely finished using a notebook it is a good idea to remove the files that you created along the way. Of course, you can do this from the terminal or from the notebook hub if you would like. The cell below contains some commands to clean up the created files from within the notebook."
   ]
  },
  {
   "cell_type": "code",
   "execution_count": 67,
   "metadata": {},
   "outputs": [],
   "source": [
    "# First we will remove all of the files contained in the data_dir directory\n",
    "!rm $data_dir/*\n",
    "\n",
    "# And then we delete the directory itself\n",
    "!rmdir $data_dir\n",
    "\n",
    "# Similarly we remove the files in the cache_dir directory and the directory itself\n",
    "!rm $cache_dir/*\n",
    "!rmdir $cache_dir"
   ]
  },
  {
   "cell_type": "code",
   "execution_count": null,
   "metadata": {},
   "outputs": [],
   "source": []
  }
 ],
 "metadata": {
  "kernelspec": {
   "display_name": "conda_python3",
   "language": "python",
   "name": "conda_python3"
  },
  "language_info": {
   "codemirror_mode": {
    "name": "ipython",
    "version": 3
   },
   "file_extension": ".py",
   "mimetype": "text/x-python",
   "name": "python",
   "nbconvert_exporter": "python",
   "pygments_lexer": "ipython3",
   "version": "3.6.10"
  }
 },
 "nbformat": 4,
 "nbformat_minor": 2
}
